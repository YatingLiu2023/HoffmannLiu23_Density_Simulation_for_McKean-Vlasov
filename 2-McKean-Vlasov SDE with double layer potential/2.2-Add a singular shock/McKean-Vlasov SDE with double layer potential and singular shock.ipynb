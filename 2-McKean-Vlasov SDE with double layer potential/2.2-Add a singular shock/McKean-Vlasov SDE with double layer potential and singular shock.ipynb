{
 "cells": [
  {
   "cell_type": "markdown",
   "metadata": {},
   "source": [
    "# Density simulation of a McKean-Vlasov SDE with double layer potential and a singular shock\n",
    "\n",
    "\n",
    "This notebook implements the simulations described in Section 3.2 of \n",
    "\n",
    "- Hoffmann, M. and Liu, Y (2023). A statistical approach for simulating the density solution of a McKean-Vlasov equation. \n",
    "\n",
    "-------------------------------\n",
    "\n",
    "**Contents**\n",
    "\n",
    "* [1. Definition of the McKean-Vlasov equation, the particle system and the Euler scheme](#chapter1)\n",
    "\n",
    "* [2. Density simulation with Gaussian-based high order Kernels](#chapter2)\n",
    "\n",
    "    * [2.1 Definition of Gaussian-based high order Kernels](#section2-1)\n",
    "    \n",
    "    * [2.2 Data-driven bandwidth selection](#section2-2)\n",
    "    \n",
    "    * [2.3 Gaussian Kernel ( Kernel Order = 1 )](#section2-3)\n",
    "    \n",
    "    * [2.4 Kernel Order = 3](#section2-4)\n",
    "    \n",
    "    * [2.5 Kernel Order = 5](#section2-5)\n",
    "    \n",
    "    * [2.6 Kernel Order = 7](#section2-6)\n",
    "    \n",
    "    * [2.7 Kernel Order = 9](#section2-7)\n",
    "    \n",
    "\n",
    "\n",
    "-------------------------------"
   ]
  },
  {
   "cell_type": "code",
   "execution_count": 3,
   "metadata": {},
   "outputs": [],
   "source": [
    "import numpy as np\n",
    "import matplotlib.pyplot as plt\n",
    "from tqdm import tqdm\n",
    "import random\n",
    "\n",
    "import pandas as pd \n",
    "from scipy.stats import norm\n",
    "from scipy import integrate\n"
   ]
  },
  {
   "cell_type": "markdown",
   "metadata": {},
   "source": [
    "## 1. Definition of the McKean-Vlasov equation, the particle system and the Euler scheme <a class=\"anchor\" id=\"chapter1\"></a> \n",
    "\n",
    "\n",
    "We consider a McKean-Vlasov SDE with double layer potential as described in Section 4.3 of \n",
    "\n",
    "* Della Maestra, L., & Hoffmann, M. (2023). The LAN property for McKean–Vlasov models in a mean-field regime. Stochastic Processes and their Applications, 155, 109-146\n",
    "\n",
    "and add a singular shock in the drift of this equation. \n",
    "\n",
    "The definition of the McKean-Vlasov equation is \n",
    "\n",
    "$$dX_t= V'(X_t)+\\Big(\\int_\\mathbb{R} U_\\theta'(X_t-y)\\mu_t(dy)\\Big)dt+\\sigma dB_t,\\quad X_0\\sim\\mathcal{N}(0,1),\\hspace{2cm}(1)$$\n",
    "\n",
    "where the potential function $U_{\\theta}(x)$ is defined by  \n",
    "\n",
    "$$U_\\theta(x)=-\\theta_1 e^{-\\theta_2 x^2}+\\theta_3 e^{-\\theta_4 x^2}$$\n",
    "    \n",
    "with parameter $\\theta=(\\theta_1, \\theta_2, \\theta_3, \\theta_4)$ and the derivative\n",
    "\n",
    "$$U'_\\theta (x)=-\\theta_1\\exp(-\\theta_2 x^2)(-2\\theta_2 x)+\\theta_3 \\exp(-\\theta_4 x^2)(-2\\theta_4 x),$$\n",
    "\n",
    "and the singular shock is defined by \n",
    "\n",
    "$$V'(x)=2(1-|x|)\\,\\mathbf{1}_{\\{|x|\\leq 1\\}}.$$\n",
    "\n",
    "Let $N$ be the number of particles. The $N$-particle system $(X_t^{1}, ..., X_t^{N})_{t\\in[0,T]}$ corresponding to Equation (1) is defined as follows :\n",
    "\n",
    "$$dX_t^{n}=\\Big[\\frac{1}{N}\\sum_{j=1}^{N}U'_\\theta (X_t^n-X_t^j) +V'(X_t^n)\\Big]\\,dt+\\sigma dB_t^n.\\hspace{2cm}(2)$$\n",
    "    \n",
    "Let $M$ denote the time discretization number for the Euler scheme. Set $h=\\frac{T}{M}$ and $t_m=m\\cdot h, 0\\leq m\\leq M$. Combining the particle system (2) and the Euler scheme, we obtain the following discrete particle system :\n",
    "\n",
    "$$\\bar{X}_{t_{m+1}}^{n,h}=\\bar{X}_{t_{m}}^{n,h}+h\\cdot\\Big[\\frac{1}{N}\\sum_{j=1}^{N}U'_\\theta (\\bar{X}_{t_{m}}^{n,h}-\\bar{X}_{t_{m}}^{j,h})+V'(\\bar{X}_{t_{m}}^{n,h})\\Big] +\\sqrt{h}\\sigma Z_{m+1}^{n},\\quad 1\\leq n\\leq N,$$\n",
    "\n",
    "where $ \\: Z_{m+1}^{n}:=\\frac{1}{\\sqrt{h}}(B^n_{t_{m+1}}-B^n_{t_{m}})$ are i.i.d random variables having the standard normal distribution $\\mathcal{N}(0,1)$.\n",
    "\n",
    "* In this notebook, we fix $d=1$, $\\theta=(1,1,2,2)$, $\\sigma=1$ for the McKean-Vlasov equation, and fix $T=1$ and $M=100$ for the time discretization.\n",
    "\n"
   ]
  },
  {
   "cell_type": "code",
   "execution_count": 4,
   "metadata": {},
   "outputs": [],
   "source": [
    "# Parameters of the McKean-Vlasov equation\n",
    "\n",
    "sigma=1\n",
    "theta1=1\n",
    "theta2=1\n",
    "theta3=2\n",
    "theta4=2\n",
    "\n",
    "# Parameters of the time discretization \n",
    "\n",
    "T=1. \n",
    "M=100  # Time discretization number\n",
    "h=T/M  # Time step"
   ]
  },
  {
   "cell_type": "markdown",
   "metadata": {},
   "source": [
    "In the next cell, we define the potential function $U$ by `U_fun` and its derivative by `U_prime`. We also shows the curve of the potential function $U$ (in red) and that of its derivative (in blue)."
   ]
  },
  {
   "cell_type": "code",
   "execution_count": 5,
   "metadata": {},
   "outputs": [
    {
     "data": {
      "image/png": "[encoded data removed]",
      "text/plain": [
       "<Figure size 576x360 with 1 Axes>"
      ]
     },
     "metadata": {
      "needs_background": "light"
     },
     "output_type": "display_data"
    }
   ],
   "source": [
    "# The potential function \n",
    "\n",
    "def U_fun(x):\n",
    "    return -theta1*np.exp(-theta2*(x)**2)+theta3*np.exp(-theta4*x**2)\n",
    "\n",
    "def U_prime(x):\n",
    "    return -theta1*np.exp(-theta2*x**2)*(-2*theta2*x)+theta3*np.exp(-theta4*x**2)*(-2*theta4*x)\n",
    "\n",
    "\n",
    "curve_xx=np.linspace(-5,5,1000)\n",
    "\n",
    "U_prime_curve=U_prime(curve_xx)\n",
    "U_fun_curve=U_fun(curve_xx)\n",
    "\n",
    "plt.figure(figsize = (8,5))\n",
    "plt.plot(curve_xx,U_prime_curve,\"b\")\n",
    "plt.plot(curve_xx,U_fun_curve,\"r\")\n",
    "plt.savefig('u_fun_and_u_prime.png')\n"
   ]
  },
  {
   "cell_type": "markdown",
   "metadata": {},
   "source": [
    "The singular shock $V'(x)$ is computed by `add_term` in the next cell. "
   ]
  },
  {
   "cell_type": "code",
   "execution_count": 6,
   "metadata": {},
   "outputs": [
    {
     "data": {
      "image/png": "[encoded data removed]",
      "text/plain": [
       "<Figure size 432x288 with 1 Axes>"
      ]
     },
     "metadata": {
      "needs_background": "light"
     },
     "output_type": "display_data"
    }
   ],
   "source": [
    "# add_term\n",
    "\n",
    "def add_term(x_in):\n",
    "    x_out=0+(2*x_in+2)*(-1<x_in)*(x_in<=0)+(-2*x_in+2)*(0<x_in)*(x_in<1)\n",
    "    return x_out\n",
    "\n",
    "plot_x_add_term=np.linspace(-3,3,1000)\n",
    "\n",
    "curve_add_term=add_term(plot_x_add_term)\n",
    "\n",
    "\n",
    "plt.plot(plot_x_add_term,curve_add_term,\"b\")\n",
    "plt.savefig('v_prime.png')"
   ]
  },
  {
   "cell_type": "markdown",
   "metadata": {},
   "source": [
    "In the next cell, the function `Euler_one_step` defines the operator of the Euler scheme for one time step."
   ]
  },
  {
   "cell_type": "code",
   "execution_count": 7,
   "metadata": {},
   "outputs": [],
   "source": [
    "# One step Euler scheme\n",
    "\n",
    "    \n",
    "def Euler_one_step(X_in,N_in):\n",
    "    X_out=np.zeros(N_in)\n",
    "    \n",
    "    for i in range(N_in):\n",
    "        uin=X_in[i]-X_in\n",
    "        uu=U_prime(uin).sum()\n",
    "        X_out[i]=X_in[i]+h*uu/N_in+h*add_term(X_in[i])+np.sqrt(h)*sigma*np.random.normal(0, 1, 1)\n",
    "    return X_out"
   ]
  },
  {
   "cell_type": "markdown",
   "metadata": {},
   "source": [
    "We consider different particle numbers : $N\\in\\{2^5=32, 2^6=64, ..., 2^{16}=65536\\}$. \n"
   ]
  },
  {
   "cell_type": "code",
   "execution_count": 8,
   "metadata": {},
   "outputs": [
    {
     "name": "stdout",
     "output_type": "stream",
     "text": [
      "[ 5.  6.  7.  8.  9. 10. 11. 12. 13. 14. 15. 16.]\n",
      "[   32    64   128   256   512  1024  2048  4096  8192 16384 32768 65536]\n"
     ]
    }
   ],
   "source": [
    "pn=12\n",
    "N_power=np.linspace(5,16,pn) \n",
    "print (N_power)\n",
    "\n",
    "N_vec=2**N_power.astype(int) # Number of particles, from 2^5 to 2^16\n",
    "print (N_vec)"
   ]
  },
  {
   "cell_type": "markdown",
   "metadata": {},
   "source": [
    "First, we compute and save the particle systems at time T=1 with different particle numbers in `N_vec`. "
   ]
  },
  {
   "cell_type": "code",
   "execution_count": 7,
   "metadata": {},
   "outputs": [
    {
     "name": "stderr",
     "output_type": "stream",
     "text": [
      "100%|███████████████████████████████████████| 12/12 [4:41:57<00:00, 1409.80s/it]\n"
     ]
    }
   ],
   "source": [
    "# Compute the particle at time T=1\n",
    "\n",
    "for i in tqdm(range(pn)):\n",
    "    particle_process=np.zeros((N_vec[i],M))\n",
    "#    particle_process[:,0]=np.random.normal(0, 0.01, N_vec[i]) # The initial distribution for X_0 is N(0,0.01). \n",
    "    for m in range(M-1):\n",
    "        particle_process[:,m+1]=Euler_one_step(particle_process[:,m],N_vec[i])\n",
    "    \n",
    "    np.savetxt(\"add_term_particle_number_\"+str(N_vec[i])+\".csv\", particle_process[:,-1], delimiter=\",\")"
   ]
  },
  {
   "cell_type": "markdown",
   "metadata": {},
   "source": [
    "-------------------\n",
    "\n",
    "# 2. Density simulation with Gaussian-based high order Kernel <a class=\"anchor\" id=\"chapter2\"></a> "
   ]
  },
  {
   "cell_type": "markdown",
   "metadata": {},
   "source": [
    "## 2.1 Definition of Gaussian-based high order kernel <a class=\"anchor\" id=\"section2-1\"></a> \n",
    "\n",
    "\n",
    "\n",
    "The Gaussian-based high order kernels that we use in this notebook are \n",
    "- Order 1 : $\\phi(x)=\\frac{1}{\\sqrt{2\\pi}}\\exp\\big(-\\frac{x^2}{2}\\big)$\n",
    "\n",
    "\n",
    "\n",
    "- Order 3 : $\\frac{1}{2}(3-x^2)\\,\\phi(x)$\n",
    "\n",
    "\n",
    "\n",
    "- Order 5 : $\\frac{1}{8}(15-10x^2+x^4)\\,\\phi(x)$\n",
    "\n",
    "\n",
    "\n",
    "- Order 7 : $\\frac{1}{48}(105-105x^2+21x^4-x^6)\\,\\phi(x)$\n",
    "\n",
    "\n",
    "\n",
    "- Order 9 : $\\frac{1}{384}(945-1260x^2+378x^4-36x^6+x^8)\\,\\phi(x)$\n",
    "\n",
    "\n",
    "which are defined in the following paper (see Table 1):\n",
    "\n",
    "- Wand, Matthew P., and William R. Schucany. \"Gaussian‐based kernels.\" Canadian Journal of Statistics 18, no. 3 (1990): 197-204.\n",
    "\n"
   ]
  },
  {
   "cell_type": "code",
   "execution_count": 9,
   "metadata": {},
   "outputs": [],
   "source": [
    "# Kernel order 1\n",
    "\n",
    "def kernel_O1(x_in):\n",
    "    return np.exp(-0.5*(x_in**2))/np.sqrt(2*np.pi)\n",
    "\n",
    "kernel_O1_fun = lambda x: np.exp(-0.5*(x**2))/np.sqrt(2*np.pi)\n",
    "\n",
    "# Kernel order 3\n",
    "\n",
    "def kernel_O3(x_in):\n",
    "    return 0.5*(3-x_in**2)*np.exp(-0.5*(x_in**2))/np.sqrt(2*np.pi)\n",
    "\n",
    "kernel_O3_fun = lambda x: 0.5*(3-x**2)*np.exp(-0.5*(x**2))/np.sqrt(2*np.pi)\n",
    "\n",
    "# Kernel order 5\n",
    "\n",
    "def kernel_O5(x_in):\n",
    "    return (15-10*x_in**2+x_in**4)*np.exp(-0.5*(x_in**2))/np.sqrt(2*np.pi)/8\n",
    "\n",
    "kernel_O5_fun = lambda x: (15-10*x**2+x**4)*np.exp(-0.5*(x**2))/np.sqrt(2*np.pi)/8\n",
    "\n",
    "# Kernel order 7\n",
    "\n",
    "def kernel_O7(x_in):\n",
    "    return (105-105*x_in**2+21*x_in**4-x_in**6)*np.exp(-0.5*(x_in**2))/np.sqrt(2*np.pi)/48\n",
    "\n",
    "kernel_O7_fun = lambda x: (105-105*x**2+21*x**4-x**6)*np.exp(-0.5*(x**2))/np.sqrt(2*np.pi)/48\n",
    "\n",
    "# Kernel order 9\n",
    "\n",
    "def kernel_O9(x_in):\n",
    "    return (945-1260*x_in**2+378*x_in**4-36*x_in**6+x_in**8)*np.exp(-0.5*(x_in**2))/np.sqrt(2*np.pi)/384\n",
    "\n",
    "kernel_O9_fun = lambda x: (945-1260*x**2+378*x**4-36*x**6+x**8)*np.exp(-0.5*(x**2))/np.sqrt(2*np.pi)/384\n"
   ]
  },
  {
   "cell_type": "markdown",
   "metadata": {},
   "source": [
    "The next cell shows the curves of different kernels."
   ]
  },
  {
   "cell_type": "code",
   "execution_count": 10,
   "metadata": {},
   "outputs": [
    {
     "data": {
      "image/png": "[encoded data removed]",
      "text/plain": [
       "<Figure size 720x576 with 6 Axes>"
      ]
     },
     "metadata": {
      "needs_background": "light"
     },
     "output_type": "display_data"
    }
   ],
   "source": [
    "test_xx=np.linspace(-5,5,1000)\n",
    "Kernel_O1_plot=kernel_O1_fun(test_xx)\n",
    "Kernel_O3_plot=kernel_O3_fun(test_xx)\n",
    "Kernel_O5_plot=kernel_O5_fun(test_xx)\n",
    "Kernel_O7_plot=kernel_O7_fun(test_xx)\n",
    "Kernel_O9_plot=kernel_O9_fun(test_xx)\n",
    "\n",
    "\n",
    "fig, axs = plt.subplots(3, 2, figsize=(10,8))\n",
    "axs[0, 0].plot(test_xx, Kernel_O1_plot)\n",
    "axs[0, 0].set_title('Kernel order 1')\n",
    "axs[0, 1].plot(test_xx, Kernel_O3_plot)\n",
    "axs[0, 1].set_title('Kernel order 3')\n",
    "axs[1, 0].plot(test_xx, Kernel_O5_plot, 'tab:orange')\n",
    "axs[1, 0].set_title('Kernel order 5')\n",
    "axs[1, 1].plot(test_xx, Kernel_O7_plot, 'tab:green')\n",
    "axs[1, 1].set_title('Kernel order 7')\n",
    "axs[2, 0].plot(test_xx, Kernel_O9_plot, 'tab:red')\n",
    "axs[2, 0].set_title('Kernel order 9')\n",
    "axs[2, 1].axis('off')\n",
    "fig.tight_layout()\n",
    "\n",
    "plt.savefig('gaussian_high_order_kernel.png')"
   ]
  },
  {
   "cell_type": "markdown",
   "metadata": {},
   "source": [
    "The next cell computes the $L^2-$norm of different kernels $|K|_{L^2}=(\\int_{\\mathbb{R}}|x|^2dx)^{1/2}$. "
   ]
  },
  {
   "cell_type": "code",
   "execution_count": 11,
   "metadata": {},
   "outputs": [
    {
     "name": "stdout",
     "output_type": "stream",
     "text": [
      "0.28209479177387786\n",
      "0.47603496111841886\n",
      "0.623969436882652\n",
      "0.7478507861754393\n",
      "0.8564800110622434\n"
     ]
    }
   ],
   "source": [
    "# Kernel order 1\n",
    "\n",
    "kernel_O1_fun_square = lambda x: (np.exp(-0.5*(x**2))/np.sqrt(2*np.pi))**2\n",
    "\n",
    "normL2_O1 = integrate.quad(kernel_O1_fun_square, -np.inf, np.inf)[0]\n",
    "print (normL2_O1)\n",
    "\n",
    "# Kernel order 3\n",
    "\n",
    "kernel_O3_fun_square = lambda x: (0.5*(3-x**2)*np.exp(-0.5*(x**2))/np.sqrt(2*np.pi))**2\n",
    "\n",
    "normL2_O3 = integrate.quad(kernel_O3_fun_square, -np.inf, np.inf)[0]\n",
    "print (normL2_O3)\n",
    "\n",
    "# Kernel order 5\n",
    "\n",
    "kernel_O5_fun_square = lambda x: ((15-10*x**2+x**4)*np.exp(-0.5*(x**2))/np.sqrt(2*np.pi)/8)**2\n",
    "\n",
    "normL2_O5 = integrate.quad(kernel_O5_fun_square, -np.inf, np.inf)[0]\n",
    "print (normL2_O5)\n",
    "\n",
    "# Kernel order 7\n",
    "\n",
    "kernel_O7_fun_square = lambda x: ((105-105*x**2+21*x**4-x**6)*np.exp(-0.5*(x**2))/np.sqrt(2*np.pi)/48)**2\n",
    "\n",
    "normL2_O7 = integrate.quad(kernel_O7_fun_square, -np.inf, np.inf)[0]\n",
    "print (normL2_O7)\n",
    "\n",
    "# Kernel order 9\n",
    "\n",
    "kernel_O9_fun_square = lambda x: ((945-1260*x**2+378*x**4-36*x**6+x**8)*np.exp(-0.5*(x**2))/np.sqrt(2*np.pi)/384)**2\n",
    "\n",
    "normL2_O9 = integrate.quad(kernel_O9_fun_square, -np.inf, np.inf)[0]\n",
    "print (normL2_O9)"
   ]
  },
  {
   "cell_type": "markdown",
   "metadata": {},
   "source": [
    "## 2.2 Data-driven bandwidth selection <a class=\"anchor\" id=\"section2-2\"></a> \n",
    "\n",
    "The following cells implement the data-driven bandwidth selection strategies, as described in Theorem 2.12 and Corollary 2.13 of [Hoffmann, M. and Liu, Y (2023)]. \n"
   ]
  },
  {
   "cell_type": "markdown",
   "metadata": {},
   "source": [
    "The function `H_set_func` compute the bandwidth set $\\mathcal{H}$ defined in Corollary 2.13, i.e.\n",
    "\n",
    "$$\\mathcal{H}=\\Big\\{\\; \\big(\\frac{N}{\\log N}\\big)^{-\\frac{1}{2m+d}} ,\\; m=1, ..., l+1\\;\\Big\\},$$\n",
    "\n",
    "where $l$ denotes the order of the kernel. The output of the function `H_set_func` is ordered increasingly. \n",
    "\n"
   ]
  },
  {
   "cell_type": "code",
   "execution_count": 12,
   "metadata": {},
   "outputs": [],
   "source": [
    "def H_set_func(N_in,l_regularity_plus_one):\n",
    "    h_value=np.zeros(l_regularity_plus_one)\n",
    "    for i in range(l_regularity_plus_one):\n",
    "        ind=-1./(2*(i+1)+1)\n",
    "        h_value[i]=(N_in/np.log(N_in))**ind\n",
    "    h_order=np.sort(h_value)\n",
    "    return h_order"
   ]
  },
  {
   "cell_type": "markdown",
   "metadata": {},
   "source": [
    "For the particle system $(\\bar{X}_{T}^{1,h}, ..., \\bar{X}_{T}^{N,h})$ at time T, for every bandwidth $\\eta$ in the bandwidth set $\\mathcal{H}$, and for the fixed input kernel $K$, the output of the function `KDE_fun_s` in the next cell are simulated density functions defined in Section 2.2 : \n",
    "\n",
    "\n",
    "$$\\Big\\{\\; x\\mapsto \\widehat{\\mu}_T^{N, h, \\eta}(x):= \\frac{1}{N}\\sum_{n=1}^{N}\\eta^{-d}K\\big(\\eta^{-1}(x-\\bar{X}_T^{n,h})\\big),\\quad  \\eta \\in \\mathcal{H}\\;\\Big\\}.$$\n"
   ]
  },
  {
   "cell_type": "code",
   "execution_count": 13,
   "metadata": {},
   "outputs": [],
   "source": [
    "# The following function is the density estimation function with a fixed input kernel\n",
    "# Input : the bandwidth_s in H_set, the kernel base K(x), the particles and the particle numbers.\n",
    "# Output : the density estimation functions with reprectives bandwidths in H_set\n",
    "\n",
    "def KDE_fun_s(particle_num_in, particle_in, kernel_base_fun_in, H_set_in):\n",
    "    KDE_output=[]\n",
    "    for i in range(H_set_in.size):\n",
    "        eta_parameter=H_set_in[i]\n",
    "        def funcC(parameter):\n",
    "            def func(x_in):\n",
    "                return kernel_base_fun_in((x_in-particle_in)/parameter).sum()/(particle_num_in*parameter)\n",
    "            return func\n",
    "        KDE_output.append(funcC(eta_parameter))\n",
    "    return KDE_output\n",
    "\n"
   ]
  },
  {
   "cell_type": "markdown",
   "metadata": {},
   "source": [
    "In the next cell, the function `V_value` computes $V_\\eta^N$ defined in (14), i.e. \n",
    "\n",
    "$$V_\\eta^N=\\bar{w}|K|_{L^2}^2(\\log N)N^{-1}\\eta^{-d},$$\n",
    "\n",
    "where $\\bar{w}$ is a pre-factor, $K$ is the kernel, $N$ is the particle number and $\\eta$ is the bandwidth."
   ]
  },
  {
   "cell_type": "code",
   "execution_count": 14,
   "metadata": {},
   "outputs": [],
   "source": [
    "# We compute the value of V_eta^N, which depends on the pre-factor w_bar\n",
    "\n",
    "def V_value(eta_in, N_in, kernel_norm_square_in):\n",
    "    return w_bar*kernel_norm_square_in*np.log(N_in)/(N_in*eta_in)\n",
    "\n"
   ]
  },
  {
   "cell_type": "markdown",
   "metadata": {},
   "source": [
    "In the next cell, the function `A_value` computes $A_{\\eta}^{N}(T=1,x)$ for given $x\\in\\mathbb{R}$ with respect to the following formula \n",
    "\n",
    "$$A_{\\eta}^{N}(t,x)=\\max_{\\eta'\\leq \\eta, \\eta'\\in\\mathcal{H}}\\Big\\{ \\;\\big(\\widehat{\\mu}_{t}^{N, h, \\eta}(x)-\\widehat{\\mu}_{t}^{N, h, \\eta'}(x)\\big)^2-(V_{\\eta}^N+V_{\\eta'}^{N})\\Big\\}_{+},$$\n",
    "\n",
    "where $\\{x\\}_{+}=\\max(x,0)$, $\\mathcal{H}$ is an input bandwidth set, $V_{\\eta}^{N}$ is defined in the previous cell and $\\widehat{\\mu}_T^{N, h, \\eta}(x):= \\frac{1}{N}\\sum_{n=1}^{N}\\eta^{-d}K\\big(\\eta^{-1}(x-\\bar{X}_T^{n,h})\\big)$ is the simulated density function. "
   ]
  },
  {
   "cell_type": "code",
   "execution_count": 15,
   "metadata": {},
   "outputs": [],
   "source": [
    "def A_value(particle_num_in, KDE_fun_s_in, H_set_in, kernel_norm_square_in, eta_in, x_in):\n",
    "    A_vector=[]\n",
    "    index=np.where(H_set_in==eta_in)[0][0]\n",
    "    if index == 0:\n",
    "        print (\"Attention ! A_value(eta_0)==0, no need compute ! \")\n",
    "    for i in range(index):\n",
    "        append_in_part1=(KDE_fun_s_in[index](x_in)-KDE_fun_s_in[i](x_in))**2\n",
    "        append_in_part2=V_value(eta_in, particle_num_in, kernel_norm_square_in)+V_value(H_set_in[i], particle_num_in, kernel_norm_square_in)\n",
    "        A_vector.append(max(append_in_part1-append_in_part2,0))\n",
    "    return max(A_vector)\n",
    "\n"
   ]
  },
  {
   "cell_type": "markdown",
   "metadata": {},
   "source": [
    "The following cell gives the optimal choice of the bandwidth (formula (15) in the paper)\n",
    "\n",
    "$$\\widehat{\\eta}^{N}(T=1,x)\\in\\text{argmin}_{\\eta\\in\\mathcal{H}}\\big( A_{\\eta}^{N}(T=1, x)+V_{\\eta}^{N}\\big)\\;. $$"
   ]
  },
  {
   "cell_type": "code",
   "execution_count": 16,
   "metadata": {},
   "outputs": [],
   "source": [
    "def determine_fun(V_vector_in, A_vector_in, H_set_in):\n",
    "    S_vector=V_vector_in+A_vector_in\n",
    "    choice=np.argmin(S_vector)\n",
    "    return (choice+1)  # choice+1 because Python counts from 0 "
   ]
  },
  {
   "cell_type": "markdown",
   "metadata": {},
   "source": [
    "-----------------------\n",
    "\n",
    "\n",
    "## Organisation for Sections 2.3, 2.4, 2.5, 2.6 and 2.7\n",
    "\n",
    "Sections 2.3, 2.4, 2.5, 2.6 and 2.7 display the distrubtion (in histogram) of optimal bandwidths.\n",
    "\n",
    "We pick several values for the pre-factor $\\bar{w}\\in\\big\\{\\frac{1}{20}, \\frac{1}{10}, 1, 10,20\\big\\}$ and compute the distrubtion of optimal bandwidths $\\widehat{\\eta}^{N}(T, x)$ in \n",
    "\n",
    "\\begin{equation}\n",
    "\\mathcal{H}=\\Big\\{\\; \\big(\\frac{N}{\\log N}\\big)^{-\\frac{1}{2m+d}} ,\\; m=1, ..., l+1\\;\\Big\\} \\qquad \\text{(see Corollary 2.13)}\n",
    "\\end{equation}\n",
    "\n",
    "for $T=1$, $d=1$, $N\\in \\{2^5=32,2^6=64,..., 2^{16}=65536\\}$, and for $x$ in a discrete grid of 100 points in some subset $D\\in\\mathbb{R}$. \n",
    "\n",
    "- We then have 1200 experiments in total. \n",
    "\n",
    "- Here we choose $D=[-4, 4]$ and $D=[-0.5, 0.5]$. The first choice is for a general study of the data-driven choice distribution, since the mass of $\\bar{\\mu}^{N,h}_T$ is concentrated in $[-4, 4]$. The second choice is for a further comparison with the original dynamics without the added singular shock in the drift $b$. \n",
    "\n",
    "\n",
    "        \n",
    "     \n",
    "\n",
    "-----------------------"
   ]
  },
  {
   "cell_type": "markdown",
   "metadata": {},
   "source": [
    "## 2.3 Gaussian Kernel ( Kernel Order = 1 ) <a class=\"anchor\" id=\"section2-3\"></a> "
   ]
  },
  {
   "cell_type": "code",
   "execution_count": 17,
   "metadata": {},
   "outputs": [
    {
     "name": "stderr",
     "output_type": "stream",
     "text": [
      "100%|█████████████████████████████████████████████| 5/5 [00:27<00:00,  5.52s/it]"
     ]
    },
    {
     "name": "stdout",
     "output_type": "stream",
     "text": [
      "Done!\n"
     ]
    },
    {
     "name": "stderr",
     "output_type": "stream",
     "text": [
      "\n"
     ]
    }
   ],
   "source": [
    "w_bar_values=[0.05,0.1,1,10,20]\n",
    "\n",
    "num_w_bar=len(w_bar_values)\n",
    "\n",
    "l_regularity=1 \n",
    "\n",
    "test_num_x=100\n",
    "XX=np.linspace(-4,4,test_num_x)\n",
    "\n",
    "oracle_choice_O1=np.zeros([num_w_bar,test_num_x*pn])\n",
    "\n",
    "for num in tqdm(range(num_w_bar)):\n",
    "    w_bar=w_bar_values[num]\n",
    "    for j in range(test_num_x):\n",
    "        x_fix=np.array([XX[j]])\n",
    "        for i_par in range(pn):\n",
    "            Num_particle=N_vec[i_par]\n",
    "            \n",
    "            particle_now = np.array(pd.read_csv(\"add_term_particle_number_\"+str(Num_particle)+\".csv\", sep=',',header=None))\n",
    "        \n",
    "            H_set_now=H_set_func(Num_particle, l_regularity+1)\n",
    "        \n",
    "            KDE_s_now=KDE_fun_s(Num_particle, particle_now, kernel_O1_fun, H_set_now)   \n",
    "        \n",
    "            V_vector=np.zeros([H_set_now.size])\n",
    "            A_vector=np.zeros([H_set_now.size])\n",
    "            for i in range(H_set_now.size):\n",
    "                V_vector=V_value(H_set_now, Num_particle, normL2_O1)  \n",
    "            for i in range(H_set_now.size-1):\n",
    "                A_vector[i+1]=A_value(Num_particle,KDE_s_now,H_set_now, normL2_O1, H_set_now[i+1],x_fix)\n",
    "        \n",
    "            determine_value=determine_fun(V_vector, A_vector, H_set_now)\n",
    "            oracle_choice_O1[num,i_par*100+j]=determine_value\n",
    "\n",
    "            \n",
    "print (\"Done!\")\n",
    "\n"
   ]
  },
  {
   "cell_type": "code",
   "execution_count": 18,
   "metadata": {},
   "outputs": [
    {
     "data": {
      "image/png": "[encoded data removed]",
      "text/plain": [
       "<Figure size 432x432 with 1 Axes>"
      ]
     },
     "metadata": {
      "needs_background": "light"
     },
     "output_type": "display_data"
    }
   ],
   "source": [
    "plt.rcParams['text.usetex'] = True\n",
    "\n",
    "fig, ax = plt.subplots(figsize = (6,6))\n",
    "bins = [0.5,1.5,2.5]\n",
    "\n",
    "counts, edges, bars = plt.hist([oracle_choice_O1[i,:] for i in range(num_w_bar)],bins,label=[r'$\\bar{\\omega}$=0.05',r'$\\bar{\\omega}$=0.1',r'$\\bar{\\omega}$=1',r'$\\bar{\\omega}$=10',r'$\\bar{\\omega}$=20'])\n",
    "\n",
    "plt.title('The order of kernel is 1',fontsize=18, color='black')\n",
    "for b in bars:\n",
    "    ax.bar_label(b)\n",
    "\n",
    "plt.xticks(range(1,3))\n",
    "plt.legend(loc='upper left')\n",
    "plt.xlabel(r'The bandwidths (\\textit{from left to right}) are $(\\frac{N}{\\log N})^{-1/3}$, $(\\frac{N}{\\log N})^{-1/5}$',fontsize=18, color='black')\n",
    "plt.ylabel(\"Number of choices\")\n",
    "\n",
    "plt.show()"
   ]
  },
  {
   "cell_type": "code",
   "execution_count": 19,
   "metadata": {},
   "outputs": [
    {
     "name": "stderr",
     "output_type": "stream",
     "text": [
      "100%|█████████████████████████████████████████████| 5/5 [00:28<00:00,  5.61s/it]"
     ]
    },
    {
     "name": "stdout",
     "output_type": "stream",
     "text": [
      "Done!\n"
     ]
    },
    {
     "name": "stderr",
     "output_type": "stream",
     "text": [
      "\n"
     ]
    }
   ],
   "source": [
    "w_bar_values=[0.05,0.1,1,10,20]\n",
    "\n",
    "num_w_bar=len(w_bar_values)\n",
    "\n",
    "l_regularity=1 \n",
    "\n",
    "test_num_x=100\n",
    "XX=np.linspace(-0.5,0.5,test_num_x)\n",
    "\n",
    "oracle_choice_O1_bis=np.zeros([num_w_bar,test_num_x*pn])\n",
    "\n",
    "for num in tqdm(range(num_w_bar)):\n",
    "    w_bar=w_bar_values[num]\n",
    "    for j in range(test_num_x):\n",
    "        x_fix=np.array([XX[j]])\n",
    "        for i_par in range(pn):\n",
    "            Num_particle=N_vec[i_par]\n",
    "            \n",
    "            particle_now = np.array(pd.read_csv(\"add_term_particle_number_\"+str(Num_particle)+\".csv\", sep=',',header=None))\n",
    "        \n",
    "            H_set_now=H_set_func(Num_particle, l_regularity+1)\n",
    "        \n",
    "            KDE_s_now=KDE_fun_s(Num_particle, particle_now, kernel_O1_fun, H_set_now)   \n",
    "        \n",
    "            V_vector=np.zeros([H_set_now.size])\n",
    "            A_vector=np.zeros([H_set_now.size])\n",
    "            for i in range(H_set_now.size):\n",
    "                V_vector=V_value(H_set_now, Num_particle, normL2_O1)  \n",
    "            for i in range(H_set_now.size-1):\n",
    "                A_vector[i+1]=A_value(Num_particle,KDE_s_now,H_set_now, normL2_O1, H_set_now[i+1],x_fix)\n",
    "        \n",
    "            determine_value=determine_fun(V_vector, A_vector, H_set_now)\n",
    "            oracle_choice_O1_bis[num,i_par*100+j]=determine_value\n",
    "\n",
    "            \n",
    "print (\"Done!\")"
   ]
  },
  {
   "cell_type": "code",
   "execution_count": 20,
   "metadata": {},
   "outputs": [
    {
     "data": {
      "image/png": "[encoded data removed]",
      "text/plain": [
       "<Figure size 432x432 with 1 Axes>"
      ]
     },
     "metadata": {
      "needs_background": "light"
     },
     "output_type": "display_data"
    }
   ],
   "source": [
    "plt.rcParams['text.usetex'] = True\n",
    "\n",
    "fig, ax = plt.subplots(figsize = (6,6))\n",
    "bins = [0.5,1.5,2.5]\n",
    "\n",
    "counts, edges, bars = plt.hist([oracle_choice_O1_bis[i,:] for i in range(num_w_bar)],bins,label=[r'$\\bar{\\omega}$=0.05',r'$\\bar{\\omega}$=0.1',r'$\\bar{\\omega}$=1',r'$\\bar{\\omega}$=10',r'$\\bar{\\omega}$=20'])\n",
    "\n",
    "plt.title('The order of kernel is 1',fontsize=18, color='black')\n",
    "for b in bars:\n",
    "    ax.bar_label(b)\n",
    "\n",
    "plt.xticks(range(1,3))\n",
    "plt.legend(loc='upper left')\n",
    "plt.xlabel(r'The bandwidths (\\textit{from left to right}) are $(\\frac{N}{\\log N})^{-1/3}$, $(\\frac{N}{\\log N})^{-1/5}$',fontsize=18, color='black')\n",
    "plt.ylabel(\"Number of choices\")\n",
    "\n",
    "plt.show()"
   ]
  },
  {
   "cell_type": "code",
   "execution_count": null,
   "metadata": {},
   "outputs": [],
   "source": []
  },
  {
   "cell_type": "markdown",
   "metadata": {},
   "source": [
    "## 2.4 Kernel order = 3 <a class=\"anchor\" id=\"section2-4\"></a> \n",
    "\n"
   ]
  },
  {
   "cell_type": "markdown",
   "metadata": {},
   "source": [
    "\n",
    "\n",
    "In the following two cells, we test for 100 values of $x$ in $[-4,4]$. "
   ]
  },
  {
   "cell_type": "code",
   "execution_count": 21,
   "metadata": {},
   "outputs": [
    {
     "name": "stderr",
     "output_type": "stream",
     "text": [
      "100%|█████████████████████████████████████████████| 5/5 [00:35<00:00,  7.02s/it]"
     ]
    },
    {
     "name": "stdout",
     "output_type": "stream",
     "text": [
      "Done!\n"
     ]
    },
    {
     "name": "stderr",
     "output_type": "stream",
     "text": [
      "\n"
     ]
    }
   ],
   "source": [
    "w_bar_values=[0.05,0.1,1,10,20]\n",
    "\n",
    "num_w_bar=len(w_bar_values)\n",
    "\n",
    "l_regularity=3 \n",
    "\n",
    "test_num_x=100\n",
    "XX=np.linspace(-4,4,test_num_x)\n",
    "\n",
    "\n",
    "oracle_choice_O3=np.zeros([num_w_bar,test_num_x*pn])\n",
    "\n",
    "\n",
    "for num in tqdm(range(num_w_bar)):\n",
    "    w_bar=w_bar_values[num]\n",
    "    for j in range(test_num_x):\n",
    "        x_fix=np.array([XX[j]])\n",
    "        for i_par in range(pn):\n",
    "            Num_particle=N_vec[i_par]\n",
    "            particle_now = np.array(pd.read_csv(\"add_term_particle_number_\"+str(Num_particle)+\".csv\", sep=',',header=None))\n",
    "        \n",
    "            H_set_now=H_set_func(Num_particle, l_regularity+1)\n",
    "        \n",
    "            KDE_s_now=KDE_fun_s(Num_particle, particle_now, kernel_O3_fun, H_set_now)   \n",
    "        \n",
    "            V_vector=np.zeros([H_set_now.size])\n",
    "            A_vector=np.zeros([H_set_now.size])\n",
    "            for i in range(H_set_now.size):\n",
    "                V_vector=V_value(H_set_now, Num_particle, normL2_O3)    \n",
    "            for i in range(H_set_now.size-1):\n",
    "                A_vector[i+1]=A_value(Num_particle,KDE_s_now,H_set_now, normL2_O3, H_set_now[i+1],x_fix)\n",
    "        \n",
    "            determine_value=determine_fun(V_vector, A_vector, H_set_now)\n",
    "            oracle_choice_O3[num,i_par*100+j]=determine_value\n",
    "\n",
    "            \n",
    "print (\"Done!\")\n",
    "\n"
   ]
  },
  {
   "cell_type": "code",
   "execution_count": 22,
   "metadata": {},
   "outputs": [
    {
     "data": {
      "image/png": "[encoded data removed]",
      "text/plain": [
       "<Figure size 864x576 with 1 Axes>"
      ]
     },
     "metadata": {
      "needs_background": "light"
     },
     "output_type": "display_data"
    }
   ],
   "source": [
    "plt.rcParams['text.usetex'] = True\n",
    "\n",
    "fig, ax = plt.subplots(figsize = (12,8))\n",
    "bins = [0.5,1.5,2.5,3.5,4.5]\n",
    "\n",
    "counts, edges, bars = plt.hist([oracle_choice_O3[i,:] for i in range(num_w_bar)],bins,label=[r'$\\bar{\\omega}$=0.05',r'$\\bar{\\omega}$=0.1',r'$\\bar{\\omega}$=1',r'$\\bar{\\omega}$=10',r'$\\bar{\\omega}$=20'])\n",
    "\n",
    "plt.title('The order of kernel is 3',fontsize=18, color='black')\n",
    "for b in bars:\n",
    "    ax.bar_label(b)\n",
    "\n",
    "plt.xticks(range(1,5))\n",
    "plt.legend(loc='upper left')\n",
    "plt.xlabel(r'The bandwidths (\\textit{from left to right}) are $(\\frac{N}{\\log N})^{-1/3}$, $(\\frac{N}{\\log N})^{-1/5}$, $(\\frac{N}{\\log N})^{-1/7}$, $(\\frac{N}{\\log N})^{-1/9}$',fontsize=18, color='black')\n",
    "plt.ylabel(\"Number of choices\")\n",
    "\n",
    "plt.show()"
   ]
  },
  {
   "cell_type": "markdown",
   "metadata": {},
   "source": [
    "-------------------\n",
    "\n",
    "In the following two cells, we test for 100 values of $x$ in $[-0.5,0.5]$. "
   ]
  },
  {
   "cell_type": "code",
   "execution_count": 23,
   "metadata": {},
   "outputs": [
    {
     "name": "stderr",
     "output_type": "stream",
     "text": [
      "100%|█████████████████████████████████████████████| 5/5 [00:35<00:00,  7.13s/it]"
     ]
    },
    {
     "name": "stdout",
     "output_type": "stream",
     "text": [
      "Done!\n"
     ]
    },
    {
     "name": "stderr",
     "output_type": "stream",
     "text": [
      "\n"
     ]
    }
   ],
   "source": [
    "w_bar_values=[0.05,0.1,1,10,20]\n",
    "\n",
    "num_w_bar=len(w_bar_values)\n",
    "\n",
    "l_regularity=3 \n",
    "\n",
    "test_num_x=100\n",
    "XX=np.linspace(-0.5,0.5,test_num_x)\n",
    "\n",
    "\n",
    "oracle_choice_O3_bis=np.zeros([num_w_bar,test_num_x*pn])\n",
    "\n",
    "\n",
    "for num in tqdm(range(num_w_bar)):\n",
    "    w_bar=w_bar_values[num]\n",
    "    for j in range(test_num_x):\n",
    "        x_fix=np.array([XX[j]])\n",
    "        for i_par in range(pn):\n",
    "            Num_particle=N_vec[i_par]\n",
    "            particle_now = np.array(pd.read_csv(\"add_term_particle_number_\"+str(Num_particle)+\".csv\", sep=',',header=None))\n",
    "        \n",
    "            H_set_now=H_set_func(Num_particle, l_regularity+1)\n",
    "        \n",
    "            KDE_s_now=KDE_fun_s(Num_particle, particle_now, kernel_O3_fun, H_set_now)  \n",
    "        \n",
    "            V_vector=np.zeros([H_set_now.size])\n",
    "            A_vector=np.zeros([H_set_now.size])\n",
    "            for i in range(H_set_now.size):\n",
    "                V_vector=V_value(H_set_now, Num_particle, normL2_O3)  \n",
    "            for i in range(H_set_now.size-1):\n",
    "                A_vector[i+1]=A_value(Num_particle,KDE_s_now,H_set_now, normL2_O3, H_set_now[i+1],x_fix)\n",
    "        \n",
    "            determine_value=determine_fun(V_vector, A_vector, H_set_now)\n",
    "            oracle_choice_O3_bis[num,i_par*100+j]=determine_value\n",
    "\n",
    "            \n",
    "print (\"Done!\")\n",
    "\n"
   ]
  },
  {
   "cell_type": "code",
   "execution_count": 24,
   "metadata": {},
   "outputs": [
    {
     "data": {
      "image/png": "[encoded data removed]",
      "text/plain": [
       "<Figure size 864x576 with 1 Axes>"
      ]
     },
     "metadata": {
      "needs_background": "light"
     },
     "output_type": "display_data"
    }
   ],
   "source": [
    "plt.rcParams['text.usetex'] = True\n",
    "\n",
    "fig, ax = plt.subplots(figsize = (12,8))\n",
    "bins = [0.5,1.5,2.5,3.5,4.5]\n",
    "\n",
    "counts, edges, bars = plt.hist([oracle_choice_O3_bis[i,:] for i in range(num_w_bar)],bins,label=[r'$\\bar{\\omega}$=0.05',r'$\\bar{\\omega}$=0.1',r'$\\bar{\\omega}$=1',r'$\\bar{\\omega}$=10',r'$\\bar{\\omega}$=20'])\n",
    "\n",
    "plt.title('The order of kernel is 3',fontsize=18, color='black')\n",
    "for b in bars:\n",
    "    ax.bar_label(b)\n",
    "\n",
    "plt.xticks(range(1,5))\n",
    "plt.legend(loc='upper left')\n",
    "plt.xlabel(r'The bandwidths (\\textit{from left to right}) are $(\\frac{N}{\\log N})^{-1/3}$, $(\\frac{N}{\\log N})^{-1/5}$, $(\\frac{N}{\\log N})^{-1/7}$, $(\\frac{N}{\\log N})^{-1/9}$',fontsize=18, color='black')\n",
    "plt.ylabel(\"Number of choices\")\n",
    "\n",
    "plt.show()"
   ]
  },
  {
   "cell_type": "code",
   "execution_count": null,
   "metadata": {},
   "outputs": [],
   "source": []
  },
  {
   "cell_type": "code",
   "execution_count": null,
   "metadata": {},
   "outputs": [],
   "source": []
  },
  {
   "cell_type": "markdown",
   "metadata": {},
   "source": [
    "## 2.5 Kernel order = 5 <a class=\"anchor\" id=\"section2-5\"></a> "
   ]
  },
  {
   "cell_type": "markdown",
   "metadata": {},
   "source": [
    "\n",
    "\n",
    "In the following two cells, we test for 100 values of $x$ in $[-4,4]$. "
   ]
  },
  {
   "cell_type": "code",
   "execution_count": 25,
   "metadata": {},
   "outputs": [
    {
     "name": "stderr",
     "output_type": "stream",
     "text": [
      "100%|█████████████████████████████████████████████| 5/5 [01:33<00:00, 18.80s/it]"
     ]
    },
    {
     "name": "stdout",
     "output_type": "stream",
     "text": [
      "Done!\n"
     ]
    },
    {
     "name": "stderr",
     "output_type": "stream",
     "text": [
      "\n"
     ]
    }
   ],
   "source": [
    "w_bar_values=[0.05,0.1,1,10,20]\n",
    "\n",
    "num_w_bar=len(w_bar_values)\n",
    "\n",
    "l_regularity=5 \n",
    "\n",
    "test_num_x=100\n",
    "XX=np.linspace(-4,4,test_num_x)\n",
    "\n",
    "\n",
    "oracle_choice_O5=np.zeros([num_w_bar,test_num_x*pn]) \n",
    "\n",
    "\n",
    "for num in tqdm(range(num_w_bar)):\n",
    "    w_bar=w_bar_values[num]\n",
    "    for j in range(test_num_x):\n",
    "        x_fix=np.array([XX[j]])\n",
    "        for i_par in range(pn):\n",
    "            Num_particle=N_vec[i_par]\n",
    "            particle_now = np.array(pd.read_csv(\"add_term_particle_number_\"+str(Num_particle)+\".csv\", sep=',',header=None))\n",
    "        \n",
    "            H_set_now=H_set_func(Num_particle, l_regularity+1)\n",
    "        \n",
    "            KDE_s_now=KDE_fun_s(Num_particle, particle_now, kernel_O5_fun, H_set_now)   \n",
    "        \n",
    "            V_vector=np.zeros([H_set_now.size])\n",
    "            A_vector=np.zeros([H_set_now.size])\n",
    "            for i in range(H_set_now.size):\n",
    "                V_vector=V_value(H_set_now, Num_particle, normL2_O5) \n",
    "            for i in range(H_set_now.size-1):\n",
    "                A_vector[i+1]=A_value(Num_particle,KDE_s_now,H_set_now, normL2_O5, H_set_now[i+1],x_fix)\n",
    "        \n",
    "            determine_value=determine_fun(V_vector, A_vector, H_set_now)\n",
    "            oracle_choice_O5[num,i_par*100+j]=determine_value  \n",
    "\n",
    "            \n",
    "print (\"Done!\")\n"
   ]
  },
  {
   "cell_type": "code",
   "execution_count": 26,
   "metadata": {},
   "outputs": [
    {
     "data": {
      "image/png": "[encoded data removed]",
      "text/plain": [
       "<Figure size 1008x576 with 1 Axes>"
      ]
     },
     "metadata": {
      "needs_background": "light"
     },
     "output_type": "display_data"
    }
   ],
   "source": [
    "plt.rcParams['text.usetex'] = True\n",
    "\n",
    "fig, ax = plt.subplots(figsize = (14,8))\n",
    "bins = [0.5,1.5,2.5,3.5,4.5,5.5,6.5]\n",
    "\n",
    "counts, edges, bars = plt.hist([oracle_choice_O5[i,:] for i in range(num_w_bar)],bins,label=[r'$\\bar{\\omega}$=0.05',r'$\\bar{\\omega}$=0.1',r'$\\bar{\\omega}$=1',r'$\\bar{\\omega}$=10',r'$\\bar{\\omega}$=20'])\n",
    "\n",
    "plt.title('The order of kernel is 5',fontsize=18, color='black')\n",
    "for b in bars:\n",
    "    ax.bar_label(b)\n",
    "\n",
    "plt.xticks(range(1,7))\n",
    "plt.legend(loc='upper left')\n",
    "plt.xlabel(r'The bandwidths (\\textit{from left to right}) are $(\\frac{N}{\\log N})^{-1/3}$, $(\\frac{N}{\\log N})^{-1/5}$, $(\\frac{N}{\\log N})^{-1/7}$, $(\\frac{N}{\\log N})^{-1/9}$ , $(\\frac{N}{\\log N})^{-1/11}$ , $(\\frac{N}{\\log N})^{-1/13}$',fontsize=18, color='black')\n",
    "plt.ylabel(\"Number of choices\")\n",
    "\n",
    "plt.show()"
   ]
  },
  {
   "cell_type": "markdown",
   "metadata": {},
   "source": [
    "-------------------\n",
    "\n",
    "In the following two cells, we test for 100 values of $x$ in $[-0.5,0.5]$. "
   ]
  },
  {
   "cell_type": "code",
   "execution_count": 27,
   "metadata": {},
   "outputs": [
    {
     "name": "stderr",
     "output_type": "stream",
     "text": [
      "100%|█████████████████████████████████████████████| 5/5 [01:31<00:00, 18.33s/it]"
     ]
    },
    {
     "name": "stdout",
     "output_type": "stream",
     "text": [
      "Done!\n"
     ]
    },
    {
     "name": "stderr",
     "output_type": "stream",
     "text": [
      "\n"
     ]
    }
   ],
   "source": [
    "w_bar_values=[0.05,0.1,1,10,20]\n",
    "\n",
    "num_w_bar=len(w_bar_values)\n",
    "\n",
    "l_regularity=5 \n",
    "\n",
    "test_num_x=100\n",
    "XX=np.linspace(-0.5,0.5,test_num_x)\n",
    "\n",
    "\n",
    "oracle_choice_O5_bis=np.zeros([num_w_bar,test_num_x*pn]) \n",
    "\n",
    "\n",
    "for num in tqdm(range(num_w_bar)):\n",
    "    w_bar=w_bar_values[num]\n",
    "    for j in range(test_num_x):\n",
    "        x_fix=np.array([XX[j]])\n",
    "        for i_par in range(pn):\n",
    "            Num_particle=N_vec[i_par]\n",
    "            particle_now = np.array(pd.read_csv(\"add_term_particle_number_\"+str(Num_particle)+\".csv\", sep=',',header=None))\n",
    "        \n",
    "            H_set_now=H_set_func(Num_particle, l_regularity+1)\n",
    "        \n",
    "            KDE_s_now=KDE_fun_s(Num_particle, particle_now, kernel_O5_fun, H_set_now) \n",
    "        \n",
    "            V_vector=np.zeros([H_set_now.size])\n",
    "            A_vector=np.zeros([H_set_now.size])\n",
    "            for i in range(H_set_now.size):\n",
    "                V_vector=V_value(H_set_now, Num_particle, normL2_O5)  \n",
    "            for i in range(H_set_now.size-1):\n",
    "                A_vector[i+1]=A_value(Num_particle,KDE_s_now,H_set_now, normL2_O5, H_set_now[i+1],x_fix)\n",
    "        \n",
    "            determine_value=determine_fun(V_vector, A_vector, H_set_now)\n",
    "            oracle_choice_O5_bis[num,i_par*100+j]=determine_value \n",
    "\n",
    "            \n",
    "print (\"Done!\")\n"
   ]
  },
  {
   "cell_type": "code",
   "execution_count": 28,
   "metadata": {},
   "outputs": [
    {
     "data": {
      "image/png": "[encoded data removed]",
      "text/plain": [
       "<Figure size 1008x576 with 1 Axes>"
      ]
     },
     "metadata": {
      "needs_background": "light"
     },
     "output_type": "display_data"
    }
   ],
   "source": [
    "plt.rcParams['text.usetex'] = True\n",
    "\n",
    "fig, ax = plt.subplots(figsize = (14,8))\n",
    "bins = [0.5,1.5,2.5,3.5,4.5,5.5,6.5]\n",
    "\n",
    "counts, edges, bars = plt.hist([oracle_choice_O5_bis[i,:] for i in range(num_w_bar)],bins,label=[r'$\\bar{\\omega}$=0.05',r'$\\bar{\\omega}$=0.1',r'$\\bar{\\omega}$=1',r'$\\bar{\\omega}$=10',r'$\\bar{\\omega}$=20'])\n",
    "\n",
    "plt.title('The order of kernel is 5',fontsize=18, color='black')\n",
    "for b in bars:\n",
    "    ax.bar_label(b)\n",
    "\n",
    "plt.xticks(range(1,7))\n",
    "plt.legend(loc='upper left')\n",
    "plt.xlabel(r'The bandwidths (\\textit{from left to right}) are $(\\frac{N}{\\log N})^{-1/3}$, $(\\frac{N}{\\log N})^{-1/5}$, $(\\frac{N}{\\log N})^{-1/7}$, $(\\frac{N}{\\log N})^{-1/9}$ , $(\\frac{N}{\\log N})^{-1/11}$ , $(\\frac{N}{\\log N})^{-1/13}$',fontsize=18, color='black')\n",
    "plt.ylabel(\"Number of choices\")\n",
    "\n",
    "plt.show()"
   ]
  },
  {
   "cell_type": "code",
   "execution_count": 29,
   "metadata": {},
   "outputs": [
    {
     "data": {
      "image/png": "[encoded data removed]",
      "text/plain": [
       "<Figure size 1008x432 with 1 Axes>"
      ]
     },
     "metadata": {
      "needs_background": "light"
     },
     "output_type": "display_data"
    }
   ],
   "source": [
    "# Figure 8 in the paper\n",
    "\n",
    "plt.rcParams['text.usetex'] = True\n",
    "\n",
    "fig, ax = plt.subplots(figsize = (14,6))\n",
    "\n",
    "bins = [0.5,1.5,2.5,3.5,4.5,5.5,6.5]\n",
    "\n",
    "counts, edges, bars = plt.hist([oracle_choice_O5_bis[i,:] for i in range(num_w_bar)],bins,label=[r'$\\bar{\\omega}$=0.05',r'$\\bar{\\omega}$=0.1',r'$\\bar{\\omega}$=1',r'$\\bar{\\omega}$=10',r'$\\bar{\\omega}$=20'])\n",
    "\n",
    "#plt.title('The order of kernel is 5',fontsize=18, color='black')\n",
    "for b in bars:\n",
    "    ax.bar_label(b)\n",
    "\n",
    "plt.xticks(range(1,7))\n",
    "plt.legend(loc='upper left')\n",
    "#plt.xlabel(r'The bandwidths (\\textit{from left to right}) are $(\\frac{N}{\\log N})^{-1/3}$, $(\\frac{N}{\\log N})^{-1/5}$, $(\\frac{N}{\\log N})^{-1/7}$, $(\\frac{N}{\\log N})^{-1/9}$ , $(\\frac{N}{\\log N})^{-1/11}$ , $(\\frac{N}{\\log N})^{-1/13}$',fontsize=18, color='black')\n",
    "#plt.ylabel(\"Number of choices\")\n",
    "plt.savefig('distribution_bandwidth_kernel_O5_2_add_term.png')\n",
    "\n",
    "plt.show()"
   ]
  },
  {
   "cell_type": "code",
   "execution_count": null,
   "metadata": {},
   "outputs": [],
   "source": []
  },
  {
   "cell_type": "code",
   "execution_count": null,
   "metadata": {},
   "outputs": [],
   "source": []
  },
  {
   "cell_type": "markdown",
   "metadata": {},
   "source": [
    "## 2.6 Kernel order = 7 <a class=\"anchor\" id=\"section2-6\"></a> "
   ]
  },
  {
   "cell_type": "markdown",
   "metadata": {},
   "source": [
    "### (A) -  Distrubtion of optimal bandwidths \n",
    "\n",
    "In the following two cells, we test for 100 values of $x$ in $[-4,4]$. \n"
   ]
  },
  {
   "cell_type": "code",
   "execution_count": 30,
   "metadata": {},
   "outputs": [
    {
     "name": "stderr",
     "output_type": "stream",
     "text": [
      "100%|█████████████████████████████████████████████| 5/5 [03:43<00:00, 44.61s/it]"
     ]
    },
    {
     "name": "stdout",
     "output_type": "stream",
     "text": [
      "Done!\n"
     ]
    },
    {
     "name": "stderr",
     "output_type": "stream",
     "text": [
      "\n"
     ]
    }
   ],
   "source": [
    "w_bar_values=[0.05,0.1,1,10,20]\n",
    "\n",
    "num_w_bar=len(w_bar_values)\n",
    "\n",
    "l_regularity=7                     \n",
    "\n",
    "test_num_x=100\n",
    "XX=np.linspace(-4,4,test_num_x)\n",
    "\n",
    "\n",
    "oracle_choice_O7=np.zeros([num_w_bar,test_num_x*pn])  \n",
    "\n",
    "\n",
    "for num in tqdm(range(num_w_bar)):\n",
    "    w_bar=w_bar_values[num]\n",
    "    for j in range(test_num_x):\n",
    "        x_fix=np.array([XX[j]])\n",
    "        for i_par in range(pn):\n",
    "            Num_particle=N_vec[i_par]\n",
    "            particle_now = np.array(pd.read_csv(\"add_term_particle_number_\"+str(Num_particle)+\".csv\", sep=',',header=None))\n",
    "        \n",
    "            H_set_now=H_set_func(Num_particle, l_regularity+1)\n",
    "        \n",
    "            KDE_s_now=KDE_fun_s(Num_particle, particle_now, kernel_O7_fun, H_set_now)   \n",
    "        \n",
    "            V_vector=np.zeros([H_set_now.size])\n",
    "            A_vector=np.zeros([H_set_now.size])\n",
    "            for i in range(H_set_now.size):\n",
    "                V_vector=V_value(H_set_now, Num_particle, normL2_O7)   \n",
    "            for i in range(H_set_now.size-1):\n",
    "                A_vector[i+1]=A_value(Num_particle,KDE_s_now,H_set_now, normL2_O7, H_set_now[i+1],x_fix)\n",
    "        \n",
    "            determine_value=determine_fun(V_vector, A_vector, H_set_now)\n",
    "            oracle_choice_O7[num,i_par*100+j]=determine_value  \n",
    "\n",
    "            \n",
    "print (\"Done!\")\n"
   ]
  },
  {
   "cell_type": "code",
   "execution_count": 31,
   "metadata": {},
   "outputs": [
    {
     "data": {
      "image/png": "[encoded data removed]",
      "text/plain": [
       "<Figure size 1152x576 with 1 Axes>"
      ]
     },
     "metadata": {
      "needs_background": "light"
     },
     "output_type": "display_data"
    }
   ],
   "source": [
    "plt.rcParams['text.usetex'] = True\n",
    "\n",
    "fig, ax = plt.subplots(figsize = (16,8))\n",
    "bins = [0.5,1.5,2.5,3.5,4.5,5.5,6.5,7.5,8.5]\n",
    "\n",
    "counts, edges, bars = plt.hist([oracle_choice_O7[i,:] for i in range(num_w_bar)],bins,label=[r'$\\bar{\\omega}$=0.05',r'$\\bar{\\omega}$=0.1',r'$\\bar{\\omega}$=1',r'$\\bar{\\omega}$=10',r'$\\bar{\\omega}$=20'])\n",
    "\n",
    "plt.title('The order of kernel is 7',fontsize=18, color='black')\n",
    "for b in bars:\n",
    "    ax.bar_label(b)\n",
    "\n",
    "plt.xticks(range(1,9))\n",
    "plt.legend(loc='upper left')\n",
    "plt.xlabel(r'The bandwidths (\\textit{from left to right}) are $(\\frac{N}{\\log N})^{-1/3}$, $(\\frac{N}{\\log N})^{-1/5}$, $(\\frac{N}{\\log N})^{-1/7}$, $(\\frac{N}{\\log N})^{-1/9}$ , $(\\frac{N}{\\log N})^{-1/11}$ , $(\\frac{N}{\\log N})^{-1/13}$ ,$(\\frac{N}{\\log N})^{-1/15}$ ,$(\\frac{N}{\\log N})^{-1/17}$',fontsize=18, color='black')\n",
    "plt.ylabel(\"Number of choices\")\n",
    "\n",
    "plt.show()"
   ]
  },
  {
   "cell_type": "markdown",
   "metadata": {},
   "source": [
    "\n",
    "-------------------\n",
    "\n",
    "In the following two cells, we test for 100 values of $x$ in $[-0.5,0.5]$. "
   ]
  },
  {
   "cell_type": "code",
   "execution_count": 32,
   "metadata": {},
   "outputs": [
    {
     "name": "stderr",
     "output_type": "stream",
     "text": [
      "100%|█████████████████████████████████████████████| 5/5 [03:52<00:00, 46.42s/it]"
     ]
    },
    {
     "name": "stdout",
     "output_type": "stream",
     "text": [
      "Done!\n"
     ]
    },
    {
     "name": "stderr",
     "output_type": "stream",
     "text": [
      "\n"
     ]
    }
   ],
   "source": [
    "w_bar_values=[0.05,0.1,1,10,20]\n",
    "\n",
    "num_w_bar=len(w_bar_values)\n",
    "\n",
    "l_regularity=7                    \n",
    "\n",
    "test_num_x=100\n",
    "XX=np.linspace(-0.5,0.5,test_num_x)\n",
    "\n",
    "\n",
    "oracle_choice_O7_bis=np.zeros([num_w_bar,test_num_x*pn])  \n",
    "\n",
    "\n",
    "for num in tqdm(range(num_w_bar)):\n",
    "    w_bar=w_bar_values[num]\n",
    "    for j in range(test_num_x):\n",
    "        x_fix=np.array([XX[j]])\n",
    "        for i_par in range(pn):\n",
    "            Num_particle=N_vec[i_par]\n",
    "            particle_now = np.array(pd.read_csv(\"add_term_particle_number_\"+str(Num_particle)+\".csv\", sep=',',header=None))\n",
    "        \n",
    "            H_set_now=H_set_func(Num_particle, l_regularity+1)\n",
    "        \n",
    "            KDE_s_now=KDE_fun_s(Num_particle, particle_now, kernel_O7_fun, H_set_now) \n",
    "        \n",
    "            V_vector=np.zeros([H_set_now.size])\n",
    "            A_vector=np.zeros([H_set_now.size])\n",
    "            for i in range(H_set_now.size):\n",
    "                V_vector=V_value(H_set_now, Num_particle, normL2_O7)  \n",
    "            for i in range(H_set_now.size-1):\n",
    "                A_vector[i+1]=A_value(Num_particle,KDE_s_now,H_set_now, normL2_O7, H_set_now[i+1],x_fix)\n",
    "        \n",
    "            determine_value=determine_fun(V_vector, A_vector, H_set_now)\n",
    "            oracle_choice_O7_bis[num,i_par*100+j]=determine_value  \n",
    "\n",
    "            \n",
    "print (\"Done!\")"
   ]
  },
  {
   "cell_type": "code",
   "execution_count": 33,
   "metadata": {},
   "outputs": [
    {
     "data": {
      "image/png": "[encoded data removed]",
      "text/plain": [
       "<Figure size 1152x576 with 1 Axes>"
      ]
     },
     "metadata": {
      "needs_background": "light"
     },
     "output_type": "display_data"
    }
   ],
   "source": [
    "plt.rcParams['text.usetex'] = True\n",
    "\n",
    "fig, ax = plt.subplots(figsize = (16,8))\n",
    "bins = [0.5,1.5,2.5,3.5,4.5,5.5,6.5,7.5,8.5]\n",
    "\n",
    "counts, edges, bars = plt.hist([oracle_choice_O7_bis[i,:] for i in range(num_w_bar)],bins,label=[r'$\\bar{\\omega}$=0.05',r'$\\bar{\\omega}$=0.1',r'$\\bar{\\omega}$=1',r'$\\bar{\\omega}$=10',r'$\\bar{\\omega}$=20'])\n",
    "\n",
    "plt.title('The order of kernel is 7',fontsize=18, color='black')\n",
    "for b in bars:\n",
    "    ax.bar_label(b)\n",
    "\n",
    "plt.xticks(range(1,9))\n",
    "plt.legend(loc='upper left')\n",
    "plt.xlabel(r'The bandwidths (\\textit{from left to right}) are $(\\frac{N}{\\log N})^{-1/3}$, $(\\frac{N}{\\log N})^{-1/5}$, $(\\frac{N}{\\log N})^{-1/7}$, $(\\frac{N}{\\log N})^{-1/9}$ , $(\\frac{N}{\\log N})^{-1/11}$ , $(\\frac{N}{\\log N})^{-1/13}$ ,$(\\frac{N}{\\log N})^{-1/15}$ ,$(\\frac{N}{\\log N})^{-1/17}$',fontsize=18, color='black')\n",
    "plt.ylabel(\"Number of choices\")\n",
    "\n",
    "plt.show()"
   ]
  },
  {
   "cell_type": "code",
   "execution_count": null,
   "metadata": {},
   "outputs": [],
   "source": []
  },
  {
   "cell_type": "markdown",
   "metadata": {},
   "source": [
    "## 2.7 Kernel order = 9 <a class=\"anchor\" id=\"section2-7\"></a> "
   ]
  },
  {
   "cell_type": "markdown",
   "metadata": {},
   "source": [
    "\n",
    "\n",
    "In the following two cells, we test for 100 values of $x$ in $[-4,4]$. \n"
   ]
  },
  {
   "cell_type": "code",
   "execution_count": 34,
   "metadata": {},
   "outputs": [
    {
     "name": "stderr",
     "output_type": "stream",
     "text": [
      "100%|█████████████████████████████████████████████| 5/5 [07:46<00:00, 93.28s/it]"
     ]
    },
    {
     "name": "stdout",
     "output_type": "stream",
     "text": [
      "Done!\n"
     ]
    },
    {
     "name": "stderr",
     "output_type": "stream",
     "text": [
      "\n"
     ]
    }
   ],
   "source": [
    "w_bar_values=[0.05,0.1,1,10,20]\n",
    "\n",
    "num_w_bar=len(w_bar_values)\n",
    "\n",
    "l_regularity=9                     \n",
    "\n",
    "test_num_x=100\n",
    "XX=np.linspace(-4,4,test_num_x)\n",
    "\n",
    "\n",
    "oracle_choice_O9=np.zeros([num_w_bar,test_num_x*pn])  \n",
    "\n",
    "\n",
    "for num in tqdm(range(num_w_bar)):\n",
    "    w_bar=w_bar_values[num]\n",
    "    for j in range(test_num_x):\n",
    "        x_fix=np.array([XX[j]])\n",
    "        for i_par in range(pn):\n",
    "            Num_particle=N_vec[i_par]\n",
    "            particle_now = np.array(pd.read_csv(\"add_term_particle_number_\"+str(Num_particle)+\".csv\", sep=',',header=None))\n",
    "        \n",
    "            H_set_now=H_set_func(Num_particle, l_regularity+1)\n",
    "        \n",
    "            KDE_s_now=KDE_fun_s(Num_particle, particle_now, kernel_O9_fun, H_set_now) \n",
    "        \n",
    "            V_vector=np.zeros([H_set_now.size])\n",
    "            A_vector=np.zeros([H_set_now.size])\n",
    "            for i in range(H_set_now.size):\n",
    "                V_vector=V_value(H_set_now, Num_particle, normL2_O9)    \n",
    "            for i in range(H_set_now.size-1):\n",
    "                A_vector[i+1]=A_value(Num_particle,KDE_s_now,H_set_now, normL2_O9, H_set_now[i+1],x_fix)\n",
    "        \n",
    "            determine_value=determine_fun(V_vector, A_vector, H_set_now)\n",
    "            oracle_choice_O9[num,i_par*100+j]=determine_value  \n",
    "\n",
    "            \n",
    "print (\"Done!\")\n"
   ]
  },
  {
   "cell_type": "code",
   "execution_count": 35,
   "metadata": {},
   "outputs": [
    {
     "data": {
      "image/png": "[encoded data removed]",
      "text/plain": [
       "<Figure size 1296x720 with 1 Axes>"
      ]
     },
     "metadata": {
      "needs_background": "light"
     },
     "output_type": "display_data"
    }
   ],
   "source": [
    "plt.rcParams['text.usetex'] = True\n",
    "\n",
    "fig, ax = plt.subplots(figsize = (18,10))\n",
    "bins = [0.5,1.5,2.5,3.5,4.5,5.5,6.5,7.5,8.5,9.5,10.5]\n",
    "\n",
    "counts, edges, bars = plt.hist([oracle_choice_O9[i,:] for i in range(num_w_bar)],bins,label=[r'$\\bar{\\omega}$=0.05',r'$\\bar{\\omega}$=0.1',r'$\\bar{\\omega}$=1',r'$\\bar{\\omega}$=10',r'$\\bar{\\omega}$=20'])\n",
    "\n",
    "plt.title('The order of kernel is 9',fontsize=18, color='black')\n",
    "for b in bars:\n",
    "    ax.bar_label(b)\n",
    "\n",
    "plt.xticks(range(1,11))\n",
    "plt.legend(loc='upper left')\n",
    "plt.xlabel(r'The bandwidths (\\textit{from left to right}) are $(\\frac{N}{\\log N})^{-1/3}$, $(\\frac{N}{\\log N})^{-1/5}$, $(\\frac{N}{\\log N})^{-1/7}$, $(\\frac{N}{\\log N})^{-1/9}$ , $(\\frac{N}{\\log N})^{-1/11}$ , $(\\frac{N}{\\log N})^{-1/13}$ ,$(\\frac{N}{\\log N})^{-1/15}$ ,$(\\frac{N}{\\log N})^{-1/17}$, $(\\frac{N}{\\log N})^{-1/19}$, $(\\frac{N}{\\log N})^{-1/21}$',fontsize=18, color='black')\n",
    "plt.ylabel(\"Number of choices\")\n",
    "\n",
    "plt.show()"
   ]
  },
  {
   "cell_type": "markdown",
   "metadata": {},
   "source": [
    "-------------------\n",
    "\n",
    "In the following two cells, we test for 100 values of $x$ in $[-0.5,0.5]$. \n",
    "\n"
   ]
  },
  {
   "cell_type": "code",
   "execution_count": 36,
   "metadata": {},
   "outputs": [
    {
     "name": "stderr",
     "output_type": "stream",
     "text": [
      "100%|█████████████████████████████████████████████| 5/5 [08:02<00:00, 96.58s/it]"
     ]
    },
    {
     "name": "stdout",
     "output_type": "stream",
     "text": [
      "Done!\n"
     ]
    },
    {
     "name": "stderr",
     "output_type": "stream",
     "text": [
      "\n"
     ]
    }
   ],
   "source": [
    "w_bar_values=[0.05,0.1,1,10,20]\n",
    "\n",
    "num_w_bar=len(w_bar_values)\n",
    "\n",
    "l_regularity=9                    \n",
    "\n",
    "test_num_x=100\n",
    "XX=np.linspace(-0.5,0.5,test_num_x)\n",
    "\n",
    "\n",
    "oracle_choice_O9_bis=np.zeros([num_w_bar,test_num_x*pn])  \n",
    "\n",
    "\n",
    "for num in tqdm(range(num_w_bar)):\n",
    "    w_bar=w_bar_values[num]\n",
    "    for j in range(test_num_x):\n",
    "        x_fix=np.array([XX[j]])\n",
    "        for i_par in range(pn):\n",
    "            Num_particle=N_vec[i_par]\n",
    "            particle_now = np.array(pd.read_csv(\"add_term_particle_number_\"+str(Num_particle)+\".csv\", sep=',',header=None))\n",
    "        \n",
    "            H_set_now=H_set_func(Num_particle, l_regularity+1)\n",
    "        \n",
    "            KDE_s_now=KDE_fun_s(Num_particle, particle_now, kernel_O9_fun, H_set_now) \n",
    "        \n",
    "            V_vector=np.zeros([H_set_now.size])\n",
    "            A_vector=np.zeros([H_set_now.size])\n",
    "            for i in range(H_set_now.size):\n",
    "                V_vector=V_value(H_set_now, Num_particle, normL2_O9)  \n",
    "            for i in range(H_set_now.size-1):\n",
    "                A_vector[i+1]=A_value(Num_particle,KDE_s_now,H_set_now, normL2_O9, H_set_now[i+1],x_fix)\n",
    "        \n",
    "            determine_value=determine_fun(V_vector, A_vector, H_set_now)\n",
    "            oracle_choice_O9_bis[num,i_par*100+j]=determine_value  \n",
    "\n",
    "            \n",
    "print (\"Done!\")\n"
   ]
  },
  {
   "cell_type": "code",
   "execution_count": 37,
   "metadata": {},
   "outputs": [
    {
     "data": {
      "image/png": "[encoded data removed]",
      "text/plain": [
       "<Figure size 1296x720 with 1 Axes>"
      ]
     },
     "metadata": {
      "needs_background": "light"
     },
     "output_type": "display_data"
    }
   ],
   "source": [
    "plt.rcParams['text.usetex'] = True\n",
    "\n",
    "fig, ax = plt.subplots(figsize = (18,10))\n",
    "bins = [0.5,1.5,2.5,3.5,4.5,5.5,6.5,7.5,8.5,9.5,10.5]\n",
    "\n",
    "counts, edges, bars = plt.hist([oracle_choice_O9_bis[i,:] for i in range(num_w_bar)],bins,label=[r'$\\bar{\\omega}$=0.05',r'$\\bar{\\omega}$=0.1',r'$\\bar{\\omega}$=1',r'$\\bar{\\omega}$=10',r'$\\bar{\\omega}$=20'])\n",
    "\n",
    "plt.title('The order of kernel is 9',fontsize=18, color='black')\n",
    "for b in bars:\n",
    "    ax.bar_label(b)\n",
    "\n",
    "plt.xticks(range(1,11))\n",
    "plt.legend(loc='upper left')\n",
    "plt.xlabel(r'The bandwidths (\\textit{from left to right}) are $(\\frac{N}{\\log N})^{-1/3}$, $(\\frac{N}{\\log N})^{-1/5}$, $(\\frac{N}{\\log N})^{-1/7}$, $(\\frac{N}{\\log N})^{-1/9}$ , $(\\frac{N}{\\log N})^{-1/11}$ , $(\\frac{N}{\\log N})^{-1/13}$ ,$(\\frac{N}{\\log N})^{-1/15}$ ,$(\\frac{N}{\\log N})^{-1/17}$, $(\\frac{N}{\\log N})^{-1/19}$, $(\\frac{N}{\\log N})^{-1/21}$',fontsize=18, color='black')\n",
    "plt.ylabel(\"Number of choices\")\n",
    "\n",
    "plt.show()"
   ]
  },
  {
   "cell_type": "code",
   "execution_count": null,
   "metadata": {},
   "outputs": [],
   "source": []
  },
  {
   "cell_type": "code",
   "execution_count": null,
   "metadata": {},
   "outputs": [],
   "source": []
  },
  {
   "cell_type": "code",
   "execution_count": null,
   "metadata": {},
   "outputs": [],
   "source": []
  },
  {
   "cell_type": "code",
   "execution_count": null,
   "metadata": {},
   "outputs": [],
   "source": []
  }
 ],
 "metadata": {
  "kernelspec": {
   "display_name": "Python 3 (ipykernel)",
   "language": "python",
   "name": "python3"
  },
  "language_info": {
   "codemirror_mode": {
    "name": "ipython",
    "version": 3
   },
   "file_extension": ".py",
   "mimetype": "text/x-python",
   "name": "python",
   "nbconvert_exporter": "python",
   "pygments_lexer": "ipython3",
   "version": "3.9.12"
  }
 },
 "nbformat": 4,
 "nbformat_minor": 2
}
