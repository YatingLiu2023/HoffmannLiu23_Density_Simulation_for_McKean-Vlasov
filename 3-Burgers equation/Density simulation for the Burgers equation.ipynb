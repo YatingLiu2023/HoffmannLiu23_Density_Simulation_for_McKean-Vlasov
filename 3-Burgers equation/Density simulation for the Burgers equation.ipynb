{
 "cells": [
  {
   "cell_type": "markdown",
   "metadata": {},
   "source": [
    "# Density simulation of the Burgers equation \n",
    "\n",
    "This notebook implements the simulations described in Section 3.3 of \n",
    "\n",
    "- Hoffmann, M. and Liu, Y (2023). A statistical approach for simulating the density solution of a McKean-Vlasov equation. \n",
    "\n",
    "-------------------------------\n",
    "\n",
    "**Contents**\n",
    "\n",
    "* [1. Definition of the Burgers equation, the particle system and the Euler scheme](#chapter1)\n",
    "\n",
    "* [2. Density simulation with Gaussian-based high order Kernels](#chapter2)\n",
    "\n",
    "    * [2.1 Definition of Gaussian-based high order Kernels](#section2-1)\n",
    "    \n",
    "    * [2.2 Data-driven bandwidth selection](#section2-2)\n",
    "    \n",
    "    * [2.3 Gaussian Kernel ( Kernel Order = 1 )](#section2-3)\n",
    "    \n",
    "    * [2.4 Kernel Order = 3](#section2-4)\n",
    "    \n",
    "    * [2.5 Kernel Order = 5](#section2-5)\n",
    "    \n",
    "    * [2.6 Kernel Order = 7](#section2-6)\n",
    "    \n",
    "    * [2.7 Kernel Order = 9](#section2-7)\n",
    "    \n",
    "    * [2.8 Comparison of simulated densities with different kernels](#section2-8)\n",
    "\n",
    "-------------------------------"
   ]
  },
  {
   "cell_type": "code",
   "execution_count": 1,
   "metadata": {},
   "outputs": [],
   "source": [
    "import numpy as np\n",
    "import matplotlib.pyplot as plt\n",
    "from tqdm import tqdm\n",
    "import random\n",
    "import pandas as pd \n",
    "from scipy.stats import norm\n",
    "from scipy import integrate\n",
    "from scipy import special # special.erfc(x) for the function erfc\n",
    "from scipy.integrate import quad\n",
    "import math\n",
    "from sklearn.linear_model import LinearRegression\n",
    "\n",
    "#import time as time\n",
    "#import copy as copy"
   ]
  },
  {
   "cell_type": "markdown",
   "metadata": {},
   "source": [
    "## 1. Definition of the Burgers equation, the particle system and the Euler scheme<a class=\"anchor\" id=\"chapter1\"></a> \n",
    "\n",
    "\n"
   ]
  },
  {
   "cell_type": "markdown",
   "metadata": {},
   "source": [
    "We consider the Burgers equation as described in  \n",
    "\n",
    "* Bossy, M., & Talay, D. (1997). A stochastic particle method for the McKean-Vlasov and the Burgers equation. Mathematics of computation, 66(217), 157-192.\n",
    "\n",
    "\n",
    "The definition of the Burgers equation is \n",
    "\n",
    "$$dX_t = \\Big[\\int_{\\mathbb{R}}b(X_t,y)\\mu_t(dy)\\Big]dt+\\sigma \\, dB_t\\qquad (1)$$\n",
    "\n",
    "with $b(x,y)=H(x-y)=\\mathbb{1}_{x\\geq y}$. \n",
    "\n",
    "\n",
    "If $X_0=0$, the cumulative distribution function $V(t,x)$ of $X_t$ is (see [Bossy-Talay-97] and [Hopf 1950])\n",
    "\n",
    "$$ V(t,x)= \\frac{\\int_{0}^{+\\infty}\\exp\\Big(-\\frac{1}{\\sigma^2}\\Big[\\frac{(x-y)^2}{2t}+y\\Big]\\Big)dy}{\\int_{-\\infty}^{0}\\exp\\Big(-\\frac{1}{\\sigma^2}\\Big[\\frac{(x-y)^2}{2t}\\Big]\\Big)dy+\\int_{0}^{+\\infty}\\exp\\Big(-\\frac{1}{\\sigma^2}\\Big[\\frac{(x-y)^2}{2t}+y\\Big]\\Big)dy}\\qquad (2)$$\n",
    "\n",
    "\n",
    "- We take $\\sigma=\\sqrt{0.2}$ as Table 1 of [Bossy-Talay 97]. \n"
   ]
  },
  {
   "cell_type": "code",
   "execution_count": 2,
   "metadata": {},
   "outputs": [],
   "source": [
    "sigma=np.sqrt(0.2)"
   ]
  },
  {
   "cell_type": "markdown",
   "metadata": {},
   "source": [
    "The next cell computes the true cumulative distribution function."
   ]
  },
  {
   "cell_type": "code",
   "execution_count": 3,
   "metadata": {},
   "outputs": [
    {
     "data": {
      "image/png": "[encoded data removed]",
      "text/plain": [
       "<Figure size 432x288 with 1 Axes>"
      ]
     },
     "metadata": {
      "needs_background": "light"
     },
     "output_type": "display_data"
    }
   ],
   "source": [
    "# Compute the true cumulative distribution function\n",
    "\n",
    "integrand = lambda y,x,t: np.exp((-1/sigma**2.0)*((x-y)**2/(2*t)+y)) # la function l\n",
    "integrand2 = lambda y,x,t: np.exp((-1/sigma**2.0)*((x-y)**2/(2*t)))  # la function g\n",
    "\n",
    "def H(t,x):\n",
    "    return quad(integrand, 0, np.inf, args=(x,t))[0]\n",
    "\n",
    "def B(t,x):\n",
    "    return quad(integrand2, -np.inf, 0, args=(x,t))[0]+H(t,x)\n",
    "\n",
    "def V(t,x):\n",
    "    return H(t,x)/B(t,x)\n",
    "\n",
    "def cdf_true(X):   # calculate the true value of true cdf\n",
    "    cdf=np.zeros(X.size)\n",
    "    for i in range(X.size):\n",
    "        cdf[i]=V(1,X[i])\n",
    "    return cdf\n",
    "\n",
    "# test the true distribution function \n",
    "\n",
    "xx=np.linspace(-3,4,100)\n",
    "\n",
    "yy=cdf_true(xx)\n",
    "plt.plot(xx,yy)\n",
    "\n",
    "plt.savefig('Burgers_true_cdf.png')\n"
   ]
  },
  {
   "cell_type": "markdown",
   "metadata": {},
   "source": [
    "From (2), the true density function can be computed as follows. \n",
    "\n",
    "Let \n",
    "\n",
    "$$H(t,x)=\\int_{0}^{+\\infty}\\exp\\Big(-\\frac{1}{\\sigma^2}\\Big[\\frac{(x-y)^2}{2t}+y\\Big]\\Big)dy$$\n",
    "\n",
    "and let \n",
    "\n",
    "$$B(t,x)=\\int_{-\\infty}^{0}\\exp\\Big(-\\frac{1}{\\sigma^2}\\Big[\\frac{(x-y)^2}{2t}\\Big]\\Big)dy+H(t,x)。$$\n",
    "\n",
    "It is obvious that $V(t,x)= \\frac{H(t,x)}{B(t, x)}$. \n",
    "\n",
    "Moreover, let \n",
    "\n",
    "$$l(t,x,y)=\\exp\\Big(-\\frac{1}{\\sigma^2}\\Big[\\frac{(x-y)^2}{2t}+y\\Big]\\Big),$$\n",
    "\n",
    "then \n",
    "\n",
    "$$\\partial_x l(t,x,y)=-\\frac{(x-y)}{\\sigma^2t}\\exp\\Big(-\\frac{1}{\\sigma^2}\\big[\\frac{(x-y)^2}{2t}+y\\big]\\Big)$$\n",
    "\n",
    "(denoted by `dl` in the next cell) and \n",
    "\n",
    "$$\\partial_x H(t,x)=\\int_{0}^{+\\infty}\\partial_x l(t,x,y) dy$$\n",
    "\n",
    "(denoted by `dH` in the next cell). \n",
    "\n",
    "Furthermore, let \n",
    "\n",
    "$$g(t,x,y)=\\exp\\Big(-\\frac{1}{\\sigma^2}\\Big[\\frac{(x-y)^2}{2t}\\Big]\\Big),$$\n",
    "\n",
    "then \n",
    "\n",
    "$$\\partial_x g(t,x,y)=-\\exp\\Big(-\\frac{1}{\\sigma^2}\\Big[\\frac{(x-y)^2}{2t}\\Big]\\Big)\\cdot \\frac{x-y}{\\sigma^2 t}$$\n",
    "\n",
    "(denoted by `dg` in the next cell) and\n",
    "\n",
    "$$\\partial_x B(t,x)= \\int_{-\\infty}^{0} \\partial_x g(t,x,y) dy + \\partial_x H(t,x)$$\n",
    "\n",
    "(denoted by `dB` in the next cell). \n",
    "\n",
    "Finaly, let $u(t,x)$ denotes the density function $\\mu_t(x)$, we have \n",
    "\n",
    "$$u(t,x)=\\partial_x V(t,x)=\\frac{1}{B(t,x)^2}\\Big[B(t,x)\\partial_x H(t,x)-H(t,x)\\partial_x B(t,x)\\Big].$$\n",
    "\n",
    "\n",
    "The next cell computes the true density function $u(t,x)$."
   ]
  },
  {
   "cell_type": "code",
   "execution_count": 4,
   "metadata": {},
   "outputs": [
    {
     "data": {
      "image/png": "[encoded data removed]",
      "text/plain": [
       "<Figure size 432x288 with 1 Axes>"
      ]
     },
     "metadata": {
      "needs_background": "light"
     },
     "output_type": "display_data"
    }
   ],
   "source": [
    "# Compute the true density function\n",
    "\n",
    "dl = lambda y,x,t: -((x-y)/(sigma**2.0*t))*np.exp((-1/sigma**2.0)*((x-y)**2/(2*t)+y))\n",
    "\n",
    "def dH(t,x):\n",
    "    return quad(dl, 0, np.inf, args=(x,t))[0]\n",
    "\n",
    "dg = lambda y,x,t: -((x-y)/(sigma**2.0*t))*np.exp((-1/sigma**2.0)*((x-y)**2/(2*t)))\n",
    "\n",
    "def dB(t,x):\n",
    "    return quad(dg, -np.inf, 0, args=(x,t))[0]+dH(t,x)\n",
    "\n",
    "def u(t,x):\n",
    "    return (B(t,x)*dH(t,x)-H(t,x)*dB(t,x))/(B(t,x)**2)\n",
    "\n",
    "\n",
    "def density_true(X):   # calculate the true value of true density function \n",
    "    den=np.zeros(X.size)\n",
    "    for i in range(X.size):\n",
    "        den[i]=u(1,X[i])\n",
    "    return den\n",
    "\n",
    "# test the true density function \n",
    "\n",
    "xx2=np.linspace(-3,4,100)\n",
    "\n",
    "yy2=density_true(xx2)\n",
    "plt.plot(xx2,yy2)\n",
    "\n",
    "plt.savefig('Burgers_true_density.png')\n"
   ]
  },
  {
   "cell_type": "markdown",
   "metadata": {},
   "source": [
    "Let $N$ be the number of particles. Let $M$ denote the time discretization number for the Euler scheme. Set $h=\\frac{T}{M}$ and $t_m=m\\cdot h, 0\\leq m\\leq M$. Combining the particle system and the Euler scheme, we obtain the discrete particle system is defined by  :\n",
    " \n",
    " $$\\bar{X}^{n,h}_{t_{m+1}}=\\bar{X}^{n,h}_{t_{m}} + h\\cdot \\frac{1}{N}\\sum_{j=1}^{N}H(\\bar{X}^{n,h}_{t_{m}}-\\bar{X}^{j,h}_{t_{m}}) +\\sqrt{h}\\cdot \\sigma Z_{m+1}\\qquad 1\\leq n\\leq N,$$\n",
    "\n",
    "where $ \\: Z_{m+1}^{n}:=\\frac{1}{\\sqrt{h}}(B^n_{t_{m+1}}-B^n_{t_{m}})$ are i.i.d random variables having the standard normal distribution $\\mathcal{N}(0,1)$.\n"
   ]
  },
  {
   "cell_type": "code",
   "execution_count": 5,
   "metadata": {},
   "outputs": [],
   "source": [
    "\n",
    "def Euler_one_step(X_in,N_in):\n",
    "    X_out=np.zeros(N_in)\n",
    "    for n in range(N_in):\n",
    "        aa=X_in[n]-X_in\n",
    "        X_out[n]=X_in[n]+h*np.heaviside(aa,1).sum()/N_in+np.sqrt(h)*sigma*np.random.normal(0, 1, 1)\n",
    "    return X_out\n",
    "\n"
   ]
  },
  {
   "cell_type": "markdown",
   "metadata": {},
   "source": [
    "Now we compute the particle systems for $T=1$, $M=$ with $2^5,2^6,...,2^{16}$ particles.\n",
    "\n",
    "We save the repective particle in \"burger_eq_particle_number_N.csv\" with $N\\in\\{2^5,2^6,...,2^{16}\\}$"
   ]
  },
  {
   "cell_type": "code",
   "execution_count": 6,
   "metadata": {},
   "outputs": [
    {
     "name": "stdout",
     "output_type": "stream",
     "text": [
      "[ 5.  6.  7.  8.  9. 10. 11. 12. 13. 14. 15. 16.]\n",
      "[   32    64   128   256   512  1024  2048  4096  8192 16384 32768 65536]\n"
     ]
    }
   ],
   "source": [
    "pn=12\n",
    "N_power=np.linspace(5,16,pn) \n",
    "\n",
    "print (N_power)\n",
    "N_vec=np.zeros(pn)\n",
    "N_vec=2**N_power.astype(int) # Number of particles, from 2^5 to 2^16\n",
    "print (N_vec)\n",
    "\n"
   ]
  },
  {
   "cell_type": "code",
   "execution_count": 7,
   "metadata": {},
   "outputs": [],
   "source": [
    "# Time discretization parameters\n",
    "\n",
    "T=1. \n",
    "M=100  # Time discretization number\n",
    "h=T/M  # Time step"
   ]
  },
  {
   "cell_type": "code",
   "execution_count": 8,
   "metadata": {},
   "outputs": [
    {
     "name": "stderr",
     "output_type": "stream",
     "text": [
      "100%|████████████████████████████████████████| 12/12 [3:08:46<00:00, 943.84s/it]\n"
     ]
    }
   ],
   "source": [
    "for i in tqdm(range(pn)):\n",
    "    particle_process=np.zeros((N_vec[i],M))\n",
    "    for m in range(M-1):\n",
    "        particle_process[:,m+1]=Euler_one_step(particle_process[:,m],N_vec[i])\n",
    "    \n",
    "    np.savetxt(\"burger_eq_particle_number_\"+str(N_vec[i])+\".csv\", particle_process[:,-1], delimiter=\",\")\n"
   ]
  },
  {
   "cell_type": "code",
   "execution_count": null,
   "metadata": {},
   "outputs": [],
   "source": []
  },
  {
   "cell_type": "markdown",
   "metadata": {},
   "source": [
    "-------------------\n",
    "\n",
    "# 2. Density simulation with Gaussian-based high order Kernel <a class=\"anchor\" id=\"chapter2\"></a> "
   ]
  },
  {
   "cell_type": "markdown",
   "metadata": {},
   "source": [
    "## 2.1 Definition of Gaussian-based high order kernel <a class=\"anchor\" id=\"section2-1\"></a> \n",
    "\n",
    "\n",
    "\n",
    "The Gaussian-based high order kernels that we use in this notebook are \n",
    "- Order 1 : $\\phi(x)=\\frac{1}{\\sqrt{2\\pi}}\\exp\\big(-\\frac{x^2}{2}\\big)$\n",
    "\n",
    "\n",
    "\n",
    "- Order 3 : $\\frac{1}{2}(3-x^2)\\,\\phi(x)$\n",
    "\n",
    "\n",
    "\n",
    "- Order 5 : $\\frac{1}{8}(15-10x^2+x^4)\\,\\phi(x)$\n",
    "\n",
    "\n",
    "\n",
    "- Order 7 : $\\frac{1}{48}(105-105x^2+21x^4-x^6)\\,\\phi(x)$\n",
    "\n",
    "\n",
    "\n",
    "- Order 9 : $\\frac{1}{384}(945-1260x^2+378x^4-36x^6+x^8)\\,\\phi(x)$\n",
    "\n",
    "\n",
    "which are defined in the following paper (see Table 1):\n",
    "\n",
    "- Wand, Matthew P., and William R. Schucany. \"Gaussian‐based kernels.\" Canadian Journal of Statistics 18, no. 3 (1990): 197-204.\n",
    "\n"
   ]
  },
  {
   "cell_type": "code",
   "execution_count": 8,
   "metadata": {},
   "outputs": [],
   "source": [
    "# Kernel order 1\n",
    "\n",
    "def kernel_O1(x_in):\n",
    "    return np.exp(-0.5*(x_in**2))/np.sqrt(2*np.pi)\n",
    "\n",
    "kernel_O1_fun = lambda x: np.exp(-0.5*(x**2))/np.sqrt(2*np.pi)\n",
    "\n",
    "# Kernel order 3\n",
    "\n",
    "def kernel_O3(x_in):\n",
    "    return 0.5*(3-x_in**2)*np.exp(-0.5*(x_in**2))/np.sqrt(2*np.pi)\n",
    "\n",
    "kernel_O3_fun = lambda x: 0.5*(3-x**2)*np.exp(-0.5*(x**2))/np.sqrt(2*np.pi)\n",
    "\n",
    "# Kernel order 5\n",
    "\n",
    "def kernel_O5(x_in):\n",
    "    return (15-10*x_in**2+x_in**4)*np.exp(-0.5*(x_in**2))/np.sqrt(2*np.pi)/8\n",
    "\n",
    "kernel_O5_fun = lambda x: (15-10*x**2+x**4)*np.exp(-0.5*(x**2))/np.sqrt(2*np.pi)/8\n",
    "\n",
    "# Kernel order 7\n",
    "\n",
    "def kernel_O7(x_in):\n",
    "    return (105-105*x_in**2+21*x_in**4-x_in**6)*np.exp(-0.5*(x_in**2))/np.sqrt(2*np.pi)/48\n",
    "\n",
    "kernel_O7_fun = lambda x: (105-105*x**2+21*x**4-x**6)*np.exp(-0.5*(x**2))/np.sqrt(2*np.pi)/48\n",
    "\n",
    "# Kernel order 9\n",
    "\n",
    "def kernel_O9(x_in):\n",
    "    return (945-1260*x_in**2+378*x_in**4-36*x_in**6+x_in**8)*np.exp(-0.5*(x_in**2))/np.sqrt(2*np.pi)/384\n",
    "\n",
    "kernel_O9_fun = lambda x: (945-1260*x**2+378*x**4-36*x**6+x**8)*np.exp(-0.5*(x**2))/np.sqrt(2*np.pi)/384\n"
   ]
  },
  {
   "cell_type": "markdown",
   "metadata": {},
   "source": [
    "The next cell shows the curves of different kernels."
   ]
  },
  {
   "cell_type": "code",
   "execution_count": 9,
   "metadata": {},
   "outputs": [
    {
     "data": {
      "image/png": "[encoded data removed]",
      "text/plain": [
       "<Figure size 720x576 with 6 Axes>"
      ]
     },
     "metadata": {
      "needs_background": "light"
     },
     "output_type": "display_data"
    }
   ],
   "source": [
    "test_xx=np.linspace(-5,5,1000)\n",
    "Kernel_O1_plot=kernel_O1_fun(test_xx)\n",
    "Kernel_O3_plot=kernel_O3_fun(test_xx)\n",
    "Kernel_O5_plot=kernel_O5_fun(test_xx)\n",
    "Kernel_O7_plot=kernel_O7_fun(test_xx)\n",
    "Kernel_O9_plot=kernel_O9_fun(test_xx)\n",
    "\n",
    "\n",
    "fig, axs = plt.subplots(3, 2, figsize=(10,8))\n",
    "axs[0, 0].plot(test_xx, Kernel_O1_plot)\n",
    "axs[0, 0].set_title('Kernel order 1')\n",
    "axs[0, 1].plot(test_xx, Kernel_O3_plot)\n",
    "axs[0, 1].set_title('Kernel order 3')\n",
    "axs[1, 0].plot(test_xx, Kernel_O5_plot, 'tab:orange')\n",
    "axs[1, 0].set_title('Kernel order 5')\n",
    "axs[1, 1].plot(test_xx, Kernel_O7_plot, 'tab:green')\n",
    "axs[1, 1].set_title('Kernel order 7')\n",
    "axs[2, 0].plot(test_xx, Kernel_O9_plot, 'tab:red')\n",
    "axs[2, 0].set_title('Kernel order 9')\n",
    "axs[2, 1].axis('off')\n",
    "fig.tight_layout()\n",
    "\n",
    "plt.savefig('gaussian_high_order_kernel.png')"
   ]
  },
  {
   "cell_type": "markdown",
   "metadata": {},
   "source": [
    "The next cell computes the $L^2-$norm of different kernels $|K|_{L^2}=(\\int_{\\mathbb{R}}|x|^2dx)^{1/2}$. "
   ]
  },
  {
   "cell_type": "code",
   "execution_count": 10,
   "metadata": {},
   "outputs": [
    {
     "name": "stdout",
     "output_type": "stream",
     "text": [
      "0.28209479177387786\n",
      "0.47603496111841886\n",
      "0.623969436882652\n",
      "0.7478507861754393\n",
      "0.8564800110622434\n"
     ]
    }
   ],
   "source": [
    "# Kernel order 1\n",
    "\n",
    "kernel_O1_fun_square = lambda x: (np.exp(-0.5*(x**2))/np.sqrt(2*np.pi))**2\n",
    "\n",
    "normL2_O1 = integrate.quad(kernel_O1_fun_square, -np.inf, np.inf)[0]\n",
    "print (normL2_O1)\n",
    "\n",
    "# Kernel order 3\n",
    "\n",
    "kernel_O3_fun_square = lambda x: (0.5*(3-x**2)*np.exp(-0.5*(x**2))/np.sqrt(2*np.pi))**2\n",
    "\n",
    "normL2_O3 = integrate.quad(kernel_O3_fun_square, -np.inf, np.inf)[0]\n",
    "print (normL2_O3)\n",
    "\n",
    "# Kernel order 5\n",
    "\n",
    "kernel_O5_fun_square = lambda x: ((15-10*x**2+x**4)*np.exp(-0.5*(x**2))/np.sqrt(2*np.pi)/8)**2\n",
    "\n",
    "normL2_O5 = integrate.quad(kernel_O5_fun_square, -np.inf, np.inf)[0]\n",
    "print (normL2_O5)\n",
    "\n",
    "# Kernel order 7\n",
    "\n",
    "kernel_O7_fun_square = lambda x: ((105-105*x**2+21*x**4-x**6)*np.exp(-0.5*(x**2))/np.sqrt(2*np.pi)/48)**2\n",
    "\n",
    "normL2_O7 = integrate.quad(kernel_O7_fun_square, -np.inf, np.inf)[0]\n",
    "print (normL2_O7)\n",
    "\n",
    "# Kernel order 9\n",
    "\n",
    "kernel_O9_fun_square = lambda x: ((945-1260*x**2+378*x**4-36*x**6+x**8)*np.exp(-0.5*(x**2))/np.sqrt(2*np.pi)/384)**2\n",
    "\n",
    "normL2_O9 = integrate.quad(kernel_O9_fun_square, -np.inf, np.inf)[0]\n",
    "print (normL2_O9)"
   ]
  },
  {
   "cell_type": "markdown",
   "metadata": {},
   "source": [
    "## 2.2 Data-driven bandwidth selection <a class=\"anchor\" id=\"section2-2\"></a> \n",
    "\n",
    "The following cells implement the data-driven bandwidth selection strategies, as described in Theorem 2.12 and Corollary 2.13 of [Hoffmann, M. and Liu, Y (2023)]. \n"
   ]
  },
  {
   "cell_type": "markdown",
   "metadata": {},
   "source": [
    "The function `H_set_func` compute the bandwidth set $\\mathcal{H}$ defined in Corollary 2.13, i.e.\n",
    "\n",
    "$$\\mathcal{H}=\\Big\\{\\; \\big(\\frac{N}{\\log N}\\big)^{-\\frac{1}{2m+d}} ,\\; m=1, ..., l+1\\;\\Big\\},$$\n",
    "\n",
    "where $l$ denotes the order of the kernel. The output of the function `H_set_func` is ordered increasingly. \n",
    "\n"
   ]
  },
  {
   "cell_type": "code",
   "execution_count": 11,
   "metadata": {},
   "outputs": [],
   "source": [
    "def H_set_func(N_in,l_regularity_plus_one):\n",
    "    h_value=np.zeros(l_regularity_plus_one)\n",
    "    for i in range(l_regularity_plus_one):\n",
    "        ind=-1./(2*(i+1)+1)\n",
    "        h_value[i]=(N_in/np.log(N_in))**ind\n",
    "    h_order=np.sort(h_value)\n",
    "    return h_order"
   ]
  },
  {
   "cell_type": "markdown",
   "metadata": {},
   "source": [
    "For the particle system $(\\bar{X}_{T}^{1,h}, ..., \\bar{X}_{T}^{N,h})$ at time T, for every bandwidth $\\eta$ in the bandwidth set $\\mathcal{H}$, and for the fixed input kernel $K$, the output of the function `KDE_fun_s` in the next cell are simulated density functions defined in Section 2.2 : \n",
    "\n",
    "\n",
    "$$\\Big\\{\\; x\\mapsto \\widehat{\\mu}_T^{N, h, \\eta}(x):= \\frac{1}{N}\\sum_{n=1}^{N}\\eta^{-d}K\\big(\\eta^{-1}(x-\\bar{X}_T^{n,h})\\big),\\quad  \\eta \\in \\mathcal{H}\\;\\Big\\}.$$\n"
   ]
  },
  {
   "cell_type": "code",
   "execution_count": 12,
   "metadata": {},
   "outputs": [],
   "source": [
    "# The following function is the density estimation function with a fixed input kernel\n",
    "# Input : the bandwidth_s in H_set, the kernel base K(x), the particles and the particle numbers.\n",
    "# Output : the density estimation functions with reprectives bandwidths in H_set\n",
    "\n",
    "def KDE_fun_s(particle_num_in, particle_in, kernel_base_fun_in, H_set_in):\n",
    "    KDE_output=[]\n",
    "    for i in range(H_set_in.size):\n",
    "        eta_parameter=H_set_in[i]\n",
    "        def funcC(parameter):\n",
    "            def func(x_in):\n",
    "                return kernel_base_fun_in((x_in-particle_in)/parameter).sum()/(particle_num_in*parameter)\n",
    "            return func\n",
    "        KDE_output.append(funcC(eta_parameter))\n",
    "    return KDE_output\n",
    "\n"
   ]
  },
  {
   "cell_type": "markdown",
   "metadata": {},
   "source": [
    "In the next cell, the function `V_value` computes $V_\\eta^N$ defined in (14), i.e. \n",
    "\n",
    "$$V_\\eta^N=\\bar{w}|K|_{L^2}^2(\\log N)N^{-1}\\eta^{-d},$$\n",
    "\n",
    "where $\\bar{w}$ is a pre-factor, $K$ is the kernel, $N$ is the particle number and $\\eta$ is the bandwidth."
   ]
  },
  {
   "cell_type": "code",
   "execution_count": 13,
   "metadata": {},
   "outputs": [],
   "source": [
    "# We compute the value of V_eta^N, which depends on the pre-factor w_bar\n",
    "\n",
    "def V_value(eta_in, N_in, kernel_norm_square_in):\n",
    "    return w_bar*kernel_norm_square_in*np.log(N_in)/(N_in*eta_in)\n",
    "\n"
   ]
  },
  {
   "cell_type": "markdown",
   "metadata": {},
   "source": [
    "In the next cell, the function `A_value` computes $A_{\\eta}^{N}(T=1,x)$ for given $x\\in\\mathbb{R}$ with respect to the following formula \n",
    "\n",
    "$$A_{\\eta}^{N}(t,x)=\\max_{\\eta'\\leq \\eta, \\eta'\\in\\mathcal{H}}\\Big\\{ \\;\\big(\\widehat{\\mu}_{t}^{N, h, \\eta}(x)-\\widehat{\\mu}_{t}^{N, h, \\eta'}(x)\\big)^2-(V_{\\eta}^N+V_{\\eta'}^{N})\\Big\\}_{+},$$\n",
    "\n",
    "where $\\{x\\}_{+}=\\max(x,0)$, $\\mathcal{H}$ is an input bandwidth set, $V_{\\eta}^{N}$ is defined in the previous cell and $\\widehat{\\mu}_T^{N, h, \\eta}(x):= \\frac{1}{N}\\sum_{n=1}^{N}\\eta^{-d}K\\big(\\eta^{-1}(x-\\bar{X}_T^{n,h})\\big)$ is the simulated density function. "
   ]
  },
  {
   "cell_type": "code",
   "execution_count": 14,
   "metadata": {},
   "outputs": [],
   "source": [
    "def A_value(particle_num_in, KDE_fun_s_in, H_set_in, kernel_norm_square_in, eta_in, x_in):\n",
    "    A_vector=[]\n",
    "    index=np.where(H_set_in==eta_in)[0][0]\n",
    "    if index == 0:\n",
    "        print (\"Attention ! A_value(eta_0)==0, no need compute ! \")\n",
    "    for i in range(index):\n",
    "        append_in_part1=(KDE_fun_s_in[index](x_in)-KDE_fun_s_in[i](x_in))**2\n",
    "        append_in_part2=V_value(eta_in, particle_num_in, kernel_norm_square_in)+V_value(H_set_in[i], particle_num_in, kernel_norm_square_in)\n",
    "        A_vector.append(max(append_in_part1-append_in_part2,0))\n",
    "    return max(A_vector)\n"
   ]
  },
  {
   "cell_type": "markdown",
   "metadata": {},
   "source": [
    "The following cell gives the optimal choice of the bandwidth (formula (15) in the paper)\n",
    "\n",
    "$$\\widehat{\\eta}^{N}(T=1,x)\\in\\text{argmin}_{\\eta\\in\\mathcal{H}}\\big( A_{\\eta}^{N}(T=1, x)+V_{\\eta}^{N}\\big)\\;. $$"
   ]
  },
  {
   "cell_type": "code",
   "execution_count": 15,
   "metadata": {},
   "outputs": [],
   "source": [
    "def determine_fun(V_vector_in, A_vector_in, H_set_in):\n",
    "    S_vector=V_vector_in+A_vector_in\n",
    "    choice=np.argmin(S_vector)\n",
    "    return (choice+1)  # choice+1 because Python counts from 0 "
   ]
  },
  {
   "cell_type": "markdown",
   "metadata": {},
   "source": [
    "-----------------------\n",
    "\n",
    "\n",
    "## Organisation for Sections 2.3, 2.4, 2.5, 2.6 and 2.7\n",
    "\n",
    "Sections 2.3, 2.4, 2.5, 2.6 and 2.7 have similar organisation: \n",
    "\n",
    "**(A)** The first part of each section displays the distrubtion (in histogram) of optimal bandwidths.\n",
    "\n",
    "We pick several values for the pre-factor $\\bar{w}\\in\\big\\{\\frac{1}{20}, \\frac{1}{10}, 1, 10,20\\big\\}$ and compute the distrubtion of optimal bandwidths $\\widehat{\\eta}^{N}(T, x)$ in \n",
    "\n",
    "\\begin{equation}\n",
    "\\mathcal{H}=\\Big\\{\\; \\big(\\frac{N}{\\log N}\\big)^{-\\frac{1}{2m+d}} ,\\; m=1, ..., l+1\\;\\Big\\} \\qquad \\text{(see Corollary 2.13)}\n",
    "\\end{equation}\n",
    "\n",
    "for $T=1$, $d=1$, $N\\in \\{2^5=32,2^6=64,..., 2^{16}=65536\\}$, and for $x$ in a discrete grid of 100 points in some subset $D\\in\\mathbb{R}$. \n",
    "\n",
    "- We then have 1200 experiments in total. \n",
    "\n",
    "- Here we choose $D=[-4, 4]$ and $D=[-0.5, 0.5]$. The first choice is for a general study of the data-driven choice distribution, since the mass of $\\bar{\\mu}^{N,h}_T$ is concentrated in $[-4, 4]$. The second choice is for a further comparison with another dynamics having an added singular shock in the drift $b$. \n",
    "\n",
    "\n",
    "        \n",
    "       \n",
    "    \n",
    "**(B)** The second part of each section shows the simulated density functions with respect to the optimal bandwidth $\\widehat{\\eta}^{N}(T=1, x)$, chosen from the above set $\\mathcal{H}$, for the fixed pre-factor $\\bar{w}=23$. \n",
    "    \n",
    "- The ad-hoc choice $\\bar{w}=23$ stems from the fact that we need to take $\\bar{w}\\geq 16/\\log2 \\simeq 23$ in Theorem 2.12.\n",
    "\n",
    "- From the experiment in part (A), we can estimate that the optimal choice will be $\\widehat{\\eta}^{N}(T, x)=\\big(\\frac{N}{\\log{N}}\\big)^{-\\frac{1}{2(l+1)+1}}$ for a kernel with order $l$. We start with a verification cell of this conjecture to check if $\\widehat{\\eta}^{N}(T, x)=\\big(\\frac{N}{\\log{N}}\\big)^{-\\frac{1}{2(l+1)+1}}$.\n",
    "\n",
    "\n",
    "\n",
    "**(C)** The third part of each section shows the error of the density simulation with the respective kernel (still set $\\bar{w}=23$). The error is computed as follows:\n",
    "\n",
    "\n",
    "- (1) For every particle number $N\\in\\{128, 256, 512, 1024, 2048, 4096, 8192, 16384, 32768\\}$, we compute 30 i.i.d. particle systems. Then we simulated the density function $$f^{N,j}_{\\text{simu}}, \\;1\\leq j\\leq 30$$ by using the respective kernel with the oracle optimal bandwidth.  \n",
    "\n",
    "\n",
    "- (2) Let $f_{\\text{true}}$ denote the true density function. We take 1000 values of $x\\in[-3,4]$. The simulation error is computed by \n",
    "$$ \\text{Error}_N=\\frac{1}{30}\\sum_{j=1}^{30}\\max_{x\\in[-3,4]}\\big| \\,f^{N,j}_{\\text{simu}}(x)- f_{\\text{true}}(x)\\,\\big|^{2}$$\n",
    "for every particle number $N\\in\\{128, 256, 512, 1024, 2048, 4096, 8192, 16384, 32768\\}$.\n",
    "\n",
    "- (3) Then we show the curve of the log-log error. Namely, $\\log_2(\\text{Error}_N)$ as a function of $\\log_2(N)$. \n",
    "\n",
    "-----------------------"
   ]
  },
  {
   "cell_type": "markdown",
   "metadata": {},
   "source": [
    "The next cell computes the 30 i.i.d. particle systems for the part (C)."
   ]
  },
  {
   "cell_type": "code",
   "execution_count": 22,
   "metadata": {},
   "outputs": [],
   "source": [
    "# Number of identical and independent simulations \n",
    "\n",
    "NNs=30"
   ]
  },
  {
   "cell_type": "code",
   "execution_count": null,
   "metadata": {},
   "outputs": [],
   "source": [
    "# First we compute and save the particle systems at time T=1 with different particle numbers in N_vec\n",
    "\n",
    "for i in tqdm(range(pn)):\n",
    "    for nns in range(NNs):\n",
    "        particle_process=np.zeros((N_vec[i],M))\n",
    "        \n",
    "        for m in range(M-1):\n",
    "            particle_process[:,m+1]=Euler_one_step(particle_process[:,m],N_vec[i])\n",
    "            \n",
    "        np.savetxt(\"burger_eq_part_number_\"+str(N_vec[i])+\"repeat\"+str(nns)+\".csv\", particle_process[:,-1], delimiter=\",\")\n",
    "\n"
   ]
  },
  {
   "cell_type": "markdown",
   "metadata": {},
   "source": [
    "## 2.3 Gaussian Kernel ( Kernel Order = 1 ) <a class=\"anchor\" id=\"section2-3\"></a> "
   ]
  },
  {
   "cell_type": "markdown",
   "metadata": {},
   "source": [
    "### (A)  Distrubtion of optimal bandwidths \n",
    "\n",
    "In the following two cells, we test for 100 values of $x$ in $[-3,4]$. \n"
   ]
  },
  {
   "cell_type": "code",
   "execution_count": 16,
   "metadata": {},
   "outputs": [
    {
     "name": "stderr",
     "output_type": "stream",
     "text": [
      "100%|█████████████████████████████████████████████| 5/5 [00:28<00:00,  5.62s/it]"
     ]
    },
    {
     "name": "stdout",
     "output_type": "stream",
     "text": [
      "Done!\n"
     ]
    },
    {
     "name": "stderr",
     "output_type": "stream",
     "text": [
      "\n"
     ]
    }
   ],
   "source": [
    "w_bar_values=[0.05,0.1,1,10,20]\n",
    "\n",
    "num_w_bar=len(w_bar_values)\n",
    "\n",
    "l_regularity=1 \n",
    "\n",
    "test_num_x=100\n",
    "XX=np.linspace(-3,4,test_num_x)\n",
    "\n",
    "oracle_choice_O1=np.zeros([num_w_bar,test_num_x*pn])\n",
    "\n",
    "for num in tqdm(range(num_w_bar)):\n",
    "    w_bar=w_bar_values[num]\n",
    "    for j in range(test_num_x):\n",
    "        x_fix=np.array([XX[j]])\n",
    "        for i_par in range(pn):\n",
    "            Num_particle=N_vec[i_par]\n",
    "            \n",
    "            particle_now = np.array(pd.read_csv(\"burger_eq_particle_number_\"+str(Num_particle)+\".csv\", sep=',',header=None))\n",
    "        \n",
    "            H_set_now=H_set_func(Num_particle, l_regularity+1)\n",
    "        \n",
    "            KDE_s_now=KDE_fun_s(Num_particle, particle_now, kernel_O1_fun, H_set_now)   \n",
    "        \n",
    "            V_vector=np.zeros([H_set_now.size])\n",
    "            A_vector=np.zeros([H_set_now.size])\n",
    "            for i in range(H_set_now.size):\n",
    "                V_vector=V_value(H_set_now, Num_particle, normL2_O1)  \n",
    "            for i in range(H_set_now.size-1):\n",
    "                A_vector[i+1]=A_value(Num_particle,KDE_s_now,H_set_now, normL2_O1, H_set_now[i+1],x_fix)\n",
    "        \n",
    "            determine_value=determine_fun(V_vector, A_vector, H_set_now)\n",
    "            oracle_choice_O1[num,i_par*100+j]=determine_value\n",
    "\n",
    "            \n",
    "print (\"Done!\")\n",
    "\n"
   ]
  },
  {
   "cell_type": "code",
   "execution_count": 17,
   "metadata": {},
   "outputs": [
    {
     "data": {
      "image/png": "[encoded data removed]",
      "text/plain": [
       "<Figure size 432x432 with 1 Axes>"
      ]
     },
     "metadata": {
      "needs_background": "light"
     },
     "output_type": "display_data"
    }
   ],
   "source": [
    "plt.rcParams['text.usetex'] = True\n",
    "\n",
    "fig, ax = plt.subplots(figsize = (6,6))\n",
    "bins = [0.5,1.5,2.5]\n",
    "\n",
    "counts, edges, bars = plt.hist([oracle_choice_O1[i,:] for i in range(num_w_bar)],bins,label=[r'$\\bar{\\omega}$=0.05',r'$\\bar{\\omega}$=0.1',r'$\\bar{\\omega}$=1',r'$\\bar{\\omega}$=10',r'$\\bar{\\omega}$=20'])\n",
    "\n",
    "plt.title('The order of kernel is 1',fontsize=18, color='black')\n",
    "for b in bars:\n",
    "    ax.bar_label(b)\n",
    "\n",
    "plt.xticks(range(1,3))\n",
    "plt.legend(loc='upper left')\n",
    "plt.xlabel(r'The bandwidths (\\textit{from left to right}) are $(\\frac{N}{\\log N})^{-1/3}$, $(\\frac{N}{\\log N})^{-1/5}$',fontsize=18, color='black')\n",
    "plt.ylabel(\"Number of choices\")\n",
    "\n",
    "plt.show()"
   ]
  },
  {
   "cell_type": "markdown",
   "metadata": {},
   "source": [
    "### (B) -  Simulated density function for $\\bar{w}=23$"
   ]
  },
  {
   "cell_type": "code",
   "execution_count": 18,
   "metadata": {},
   "outputs": [
    {
     "name": "stdout",
     "output_type": "stream",
     "text": [
      "Done!\n",
      "The number of times the largest eta has not been chosen : 0\n",
      "The number of times the largest eta has been chosen : 1200\n"
     ]
    }
   ],
   "source": [
    "w_bar=23\n",
    "\n",
    "l_regularity=1 \n",
    "\n",
    "test_num_x=100\n",
    "XX=np.linspace(-3,4,test_num_x)\n",
    "\n",
    "\n",
    "\n",
    "largest_num=0\n",
    "no_largest=0\n",
    "\n",
    "for j in range(test_num_x):\n",
    "    x_fix=np.array([XX[j]])\n",
    "    for i in range(pn):\n",
    "        Num_particle=N_vec[i]\n",
    "        particle_now = np.array(pd.read_csv(\"burger_eq_particle_number_\"+str(Num_particle)+\".csv\", sep=',',header=None))\n",
    "        \n",
    "        H_set_now=H_set_func(Num_particle, l_regularity+1)\n",
    "        \n",
    "        KDE_s_now=KDE_fun_s(Num_particle, particle_now, kernel_O1_fun, H_set_now)  \n",
    "        \n",
    "        V_vector=np.zeros([H_set_now.size])\n",
    "        A_vector=np.zeros([H_set_now.size])\n",
    "        for i in range(H_set_now.size):\n",
    "            V_vector=V_value(H_set_now, Num_particle, normL2_O1)  \n",
    "        for i in range(H_set_now.size-1):\n",
    "            A_vector[i+1]=A_value(Num_particle,KDE_s_now,H_set_now, normL2_O1, H_set_now[i+1],x_fix)  \n",
    "        \n",
    "        determine_value=determine_fun(V_vector, A_vector, H_set_now)\n",
    "\n",
    "        if determine_value!=2:  \n",
    "            no_largest=no_largest+1\n",
    "            print (\"The number of particle is\", Num_particle, \"The test x point is \", x_fix)\n",
    "            print (\"We choose the\", determine_value,\"-th eta.\")\n",
    "        else : largest_num=largest_num+1\n",
    "            \n",
    "print (\"Done!\")\n",
    "print (\"The number of times the largest eta has not been chosen :\", no_largest)\n",
    "print (\"The number of times the largest eta has been chosen :\", largest_num)"
   ]
  },
  {
   "cell_type": "code",
   "execution_count": 19,
   "metadata": {},
   "outputs": [],
   "source": [
    "\n",
    "\n",
    "plot_point_number=2000\n",
    "\n",
    "l_regularity_plus_one=2\n",
    "\n",
    "X_plot = np.linspace(-3,4, plot_point_number)[:, np.newaxis]\n",
    "\n",
    "# curve_1_O1 : the number of particle == 2^5 ; order = 1\n",
    "curve_1_O1=np.zeros(plot_point_number)\n",
    "\n",
    "# curve_2_O1 : the number of particle == 2^10 ; order = 1\n",
    "curve_2_O1=np.zeros(plot_point_number)\n",
    "\n",
    "# curve_3_O1 : the number of particle == 2^15 ; order = 1\n",
    "curve_3_O1=np.zeros(plot_point_number)\n",
    "\n",
    "\n",
    "# compute curve_1_O1 \n",
    "particle_num_plot=2**5\n",
    "eta_oracle = (particle_num_plot/np.log(particle_num_plot))**(-1./(2*l_regularity_plus_one+1))\n",
    "density_particle_plot=np.array(pd.read_csv(\"burger_eq_particle_number_\"+str(particle_num_plot)+\".csv\", sep=',',header=None))\n",
    "\n",
    "for j in range(plot_point_number):\n",
    "    curve_1_O1[j]=kernel_O1_fun((X_plot[j]-density_particle_plot)/eta_oracle).sum()/(particle_num_plot*eta_oracle)    \n",
    "\n",
    "    \n",
    "# compute curve_2_O1\n",
    "particle_num_plot=2**10\n",
    "eta_oracle = (particle_num_plot/np.log(particle_num_plot))**(-1./(2*l_regularity_plus_one+1))\n",
    "density_particle_plot=np.array(pd.read_csv(\"burger_eq_particle_number_\"+str(particle_num_plot)+\".csv\", sep=',',header=None))\n",
    "\n",
    "for j in range(plot_point_number):\n",
    "    curve_2_O1[j]=kernel_O1_fun((X_plot[j]-density_particle_plot)/eta_oracle).sum()/(particle_num_plot*eta_oracle)   \n",
    "    \n",
    "# compute curve_3_O1\n",
    "particle_num_plot=2**15\n",
    "eta_oracle = (particle_num_plot/np.log(particle_num_plot))**(-1./(2*l_regularity_plus_one+1))\n",
    "density_particle_plot=np.array(pd.read_csv(\"burger_eq_particle_number_\"+str(particle_num_plot)+\".csv\", sep=',',header=None))\n",
    "\n",
    "for j in range(plot_point_number):\n",
    "    curve_3_O1[j]=kernel_O1_fun((X_plot[j]-density_particle_plot)/eta_oracle).sum()/(particle_num_plot*eta_oracle)   \n",
    "    \n",
    "    \n"
   ]
  },
  {
   "cell_type": "code",
   "execution_count": 20,
   "metadata": {},
   "outputs": [
    {
     "data": {
      "text/plain": [
       "<matplotlib.legend.Legend at 0x7fcadb042550>"
      ]
     },
     "execution_count": 20,
     "metadata": {},
     "output_type": "execute_result"
    },
    {
     "data": {
      "image/png": "[encoded data removed]",
      "text/plain": [
       "<Figure size 720x360 with 1 Axes>"
      ]
     },
     "metadata": {
      "needs_background": "light"
     },
     "output_type": "display_data"
    }
   ],
   "source": [
    "plt.figure(figsize = (10,5))\n",
    "plt.plot(X_plot, curve_1_O1,\"b\",label=\"The number of particle is $2^5$\")\n",
    "plt.plot(X_plot, curve_2_O1,\"r\",label=\"The number of particle is $2^{10}$\")\n",
    "plt.plot(X_plot, curve_3_O1,\"green\",label=\"The number of particle is $2^{15}$\")\n",
    "\n",
    "density_true_plot=density_true(X_plot)\n",
    "\n",
    "plt.plot(X_plot, density_true_plot,\"black\",label=\"True density\")\n",
    "\n",
    "plt.title('The order of kernel is 1')\n",
    "\n",
    "plt.legend()"
   ]
  },
  {
   "cell_type": "markdown",
   "metadata": {},
   "source": [
    "### (C) -  Density simulation error (for $\\bar{w}=23$)"
   ]
  },
  {
   "cell_type": "code",
   "execution_count": 23,
   "metadata": {},
   "outputs": [
    {
     "name": "stderr",
     "output_type": "stream",
     "text": [
      "  8%|███▋                                        | 1/12 [00:55<10:13, 55.73s/it]"
     ]
    },
    {
     "name": "stdout",
     "output_type": "stream",
     "text": [
      "i= 0 ; the number of particle is 32 ; The optimal bandwidth is 0.6411049017407774 .\n",
      "0 the error is : 0.0199889710888438\n"
     ]
    },
    {
     "name": "stderr",
     "output_type": "stream",
     "text": [
      "\r",
      " 17%|███████▎                                    | 2/12 [01:50<09:11, 55.19s/it]"
     ]
    },
    {
     "name": "stdout",
     "output_type": "stream",
     "text": [
      "i= 1 ; the number of particle is 64 ; The optimal bandwidth is 0.578841083108876 .\n",
      "1 the error is : 0.012649595150208142\n"
     ]
    },
    {
     "name": "stderr",
     "output_type": "stream",
     "text": [
      "\r",
      " 25%|███████████                                 | 3/12 [02:44<08:10, 54.48s/it]"
     ]
    },
    {
     "name": "stdout",
     "output_type": "stream",
     "text": [
      "i= 2 ; the number of particle is 128 ; The optimal bandwidth is 0.5196880209899403 .\n",
      "2 the error is : 0.010763462087692443\n"
     ]
    },
    {
     "name": "stderr",
     "output_type": "stream",
     "text": [
      "\r",
      " 33%|██████████████▋                             | 4/12 [03:37<07:12, 54.07s/it]"
     ]
    },
    {
     "name": "stdout",
     "output_type": "stream",
     "text": [
      "i= 3 ; the number of particle is 256 ; The optimal bandwidth is 0.4646597950658026 .\n",
      "3 the error is : 0.006330437898712681\n"
     ]
    },
    {
     "name": "stderr",
     "output_type": "stream",
     "text": [
      "\r",
      " 42%|██████████████████▎                         | 5/12 [04:31<06:17, 53.95s/it]"
     ]
    },
    {
     "name": "stdout",
     "output_type": "stream",
     "text": [
      "i= 4 ; the number of particle is 512 ; The optimal bandwidth is 0.41415184640113956 .\n",
      "4 the error is : 0.004685106927659251\n"
     ]
    },
    {
     "name": "stderr",
     "output_type": "stream",
     "text": [
      "\r",
      " 50%|██████████████████████                      | 6/12 [05:24<05:22, 53.83s/it]"
     ]
    },
    {
     "name": "stdout",
     "output_type": "stream",
     "text": [
      "i= 5 ; the number of particle is 1024 ; The optimal bandwidth is 0.36821807300508336 .\n",
      "5 the error is : 0.003000483677739406\n"
     ]
    },
    {
     "name": "stderr",
     "output_type": "stream",
     "text": [
      "\r",
      " 58%|█████████████████████████▋                  | 7/12 [06:19<04:30, 54.08s/it]"
     ]
    },
    {
     "name": "stdout",
     "output_type": "stream",
     "text": [
      "i= 6 ; the number of particle is 2048 ; The optimal bandwidth is 0.326721443196423 .\n",
      "6 the error is : 0.0018376097807842134\n"
     ]
    },
    {
     "name": "stderr",
     "output_type": "stream",
     "text": [
      "\r",
      " 67%|█████████████████████████████▎              | 8/12 [07:14<03:37, 54.29s/it]"
     ]
    },
    {
     "name": "stdout",
     "output_type": "stream",
     "text": [
      "i= 7 ; the number of particle is 4096 ; The optimal bandwidth is 0.289420541554438 .\n",
      "7 the error is : 0.0010327634454153235\n"
     ]
    },
    {
     "name": "stderr",
     "output_type": "stream",
     "text": [
      "\r",
      " 75%|█████████████████████████████████           | 9/12 [08:09<02:44, 54.69s/it]"
     ]
    },
    {
     "name": "stdout",
     "output_type": "stream",
     "text": [
      "i= 8 ; the number of particle is 8192 ; The optimal bandwidth is 0.2560211086904283 .\n",
      "8 the error is : 0.0006614771411492606\n"
     ]
    },
    {
     "name": "stderr",
     "output_type": "stream",
     "text": [
      "\r",
      " 83%|███████████████████████████████████▊       | 10/12 [09:07<01:51, 55.62s/it]"
     ]
    },
    {
     "name": "stdout",
     "output_type": "stream",
     "text": [
      "i= 9 ; the number of particle is 16384 ; The optimal bandwidth is 0.22620734970552026 .\n",
      "9 the error is : 0.0003908265702326058\n"
     ]
    },
    {
     "name": "stderr",
     "output_type": "stream",
     "text": [
      "\r",
      " 92%|███████████████████████████████████████▍   | 11/12 [10:09<00:57, 57.50s/it]"
     ]
    },
    {
     "name": "stdout",
     "output_type": "stream",
     "text": [
      "i= 10 ; the number of particle is 32768 ; The optimal bandwidth is 0.1996610529094131 .\n",
      "10 the error is : 0.00022913765307422328\n"
     ]
    },
    {
     "name": "stderr",
     "output_type": "stream",
     "text": [
      "100%|███████████████████████████████████████████| 12/12 [11:21<00:00, 56.76s/it]"
     ]
    },
    {
     "name": "stdout",
     "output_type": "stream",
     "text": [
      "i= 11 ; the number of particle is 65536 ; The optimal bandwidth is 0.1760731372931409 .\n",
      "11 the error is : 0.0001270333443636201\n"
     ]
    },
    {
     "name": "stderr",
     "output_type": "stream",
     "text": [
      "\n"
     ]
    }
   ],
   "source": [
    "error_N_Gaussian_kernel=[] # Name of the error vector !\n",
    "\n",
    "l_regularity_plus_one=2 # regularity of kernel !\n",
    "\n",
    "for i in tqdm(range(pn)):\n",
    "    error=np.zeros(NNs)\n",
    "    for nns in range(NNs):\n",
    "\n",
    "        density_particle= np.array(pd.read_csv(\"burger_eq_part_number_\"+str(N_vec[i])+\"repeat\"+str(nns)+\".csv\", sep=',',header=None))\n",
    "        \n",
    "        Error_simu_number=1000\n",
    "        \n",
    "        X_simu = np.linspace(-3, 4, Error_simu_number)[:, np.newaxis]\n",
    "        \n",
    "        Error_simu_vec=np.zeros(Error_simu_number)\n",
    "        error_vec=np.zeros(Error_simu_number)\n",
    "        \n",
    "        eta_oracle = (N_vec[i]/np.log(N_vec[i]))**(-1./(2*l_regularity_plus_one+1))\n",
    "        \n",
    "        for j in range(Error_simu_number):\n",
    "            Error_simu_vec[j]=kernel_O1_fun((X_simu[j]-density_particle)/eta_oracle).sum()/(N_vec[i]*eta_oracle) # O2!  \n",
    "            error_vec[j]=np.abs(Error_simu_vec[j] - density_true(X_simu[j]))\n",
    "\n",
    "        error_one=error_vec.max()**2\n",
    "        error[nns]=error_one\n",
    "        \n",
    "    print (\"i=\",i,\";\", \"the number of particle is\", N_vec[i],\";\", \"The optimal bandwidth is\",eta_oracle, \".\")\n",
    "    print (i,\"the error is :\", error.mean())\n",
    "    \n",
    "    error_N_Gaussian_kernel.append(error.mean()) # Name of the error vector !\n",
    "\n",
    "    np.savetxt(\"error_\"+str(i)+\"_op_Gaussian_kernel.csv\", error_N_Gaussian_kernel, delimiter=\",\") # Name of the error vector !\n",
    "\n"
   ]
  },
  {
   "cell_type": "code",
   "execution_count": 24,
   "metadata": {},
   "outputs": [
    {
     "data": {
      "text/plain": [
       "[<matplotlib.lines.Line2D at 0x7fcadbd632b0>]"
      ]
     },
     "execution_count": 24,
     "metadata": {},
     "output_type": "execute_result"
    },
    {
     "data": {
      "image/png": "[encoded data removed]",
      "text/plain": [
       "<Figure size 576x432 with 1 Axes>"
      ]
     },
     "metadata": {
      "needs_background": "light"
     },
     "output_type": "display_data"
    }
   ],
   "source": [
    "plt.figure(figsize=(8,6))\n",
    "\n",
    "plt.plot(np.log2(N_vec),np.log2(error_N_Gaussian_kernel),\"r\")\n"
   ]
  },
  {
   "cell_type": "code",
   "execution_count": 25,
   "metadata": {},
   "outputs": [
    {
     "name": "stdout",
     "output_type": "stream",
     "text": [
      "The estimate of the slope is [-0.66218902]\n",
      "The estimate of the intercept is -2.033126714549063\n"
     ]
    }
   ],
   "source": [
    "X=np.log2(N_vec).reshape(-1,1)\n",
    "y=np.log2(error_N_Gaussian_kernel)\n",
    "reg_Gaussian = LinearRegression().fit(X, y)\n",
    "print (\"The estimate of the slope is\", reg_Gaussian.coef_)\n",
    "print (\"The estimate of the intercept is\", reg_Gaussian.intercept_)"
   ]
  },
  {
   "cell_type": "markdown",
   "metadata": {},
   "source": [
    "## 2.4 Kernel order = 3 <a class=\"anchor\" id=\"section2-4\"></a> \n",
    "\n"
   ]
  },
  {
   "cell_type": "markdown",
   "metadata": {},
   "source": [
    "### (A) -  Distrubtion of optimal bandwidths \n",
    "\n",
    "In the following two cells, we test for 100 values of $x$ in $[-3,4]$. "
   ]
  },
  {
   "cell_type": "code",
   "execution_count": 26,
   "metadata": {},
   "outputs": [
    {
     "name": "stderr",
     "output_type": "stream",
     "text": [
      "100%|█████████████████████████████████████████████| 5/5 [00:33<00:00,  6.72s/it]"
     ]
    },
    {
     "name": "stdout",
     "output_type": "stream",
     "text": [
      "Done!\n"
     ]
    },
    {
     "name": "stderr",
     "output_type": "stream",
     "text": [
      "\n"
     ]
    }
   ],
   "source": [
    "w_bar_values=[0.05,0.1,1,10,20]\n",
    "\n",
    "num_w_bar=len(w_bar_values)\n",
    "\n",
    "l_regularity=3 \n",
    "\n",
    "test_num_x=100\n",
    "XX=np.linspace(-3,4,test_num_x)\n",
    "\n",
    "\n",
    "oracle_choice_O3=np.zeros([num_w_bar,test_num_x*pn])\n",
    "\n",
    "\n",
    "for num in tqdm(range(num_w_bar)):\n",
    "    w_bar=w_bar_values[num]\n",
    "    for j in range(test_num_x):\n",
    "        x_fix=np.array([XX[j]])\n",
    "    #    print (\"The test x point is \", x_fix)\n",
    "        for i_par in range(pn):\n",
    "            Num_particle=N_vec[i_par]\n",
    "    #        print (\"The number of particle is\", Num_particle)\n",
    "            particle_now = np.array(pd.read_csv(\"burger_eq_particle_number_\"+str(Num_particle)+\".csv\", sep=',',header=None))\n",
    "        \n",
    "            H_set_now=H_set_func(Num_particle, l_regularity+1)\n",
    "        \n",
    "            KDE_s_now=KDE_fun_s(Num_particle, particle_now, kernel_O3_fun, H_set_now)   \n",
    "        \n",
    "            V_vector=np.zeros([H_set_now.size])\n",
    "            A_vector=np.zeros([H_set_now.size])\n",
    "            for i in range(H_set_now.size):\n",
    "                V_vector=V_value(H_set_now, Num_particle, normL2_O3)    \n",
    "            for i in range(H_set_now.size-1):\n",
    "                A_vector[i+1]=A_value(Num_particle,KDE_s_now,H_set_now, normL2_O3, H_set_now[i+1],x_fix)\n",
    "        \n",
    "            determine_value=determine_fun(V_vector, A_vector, H_set_now)\n",
    "            oracle_choice_O3[num,i_par*100+j]=determine_value\n",
    "\n",
    "            \n",
    "print (\"Done!\")\n"
   ]
  },
  {
   "cell_type": "code",
   "execution_count": 27,
   "metadata": {},
   "outputs": [
    {
     "data": {
      "image/png": "[encoded data removed]",
      "text/plain": [
       "<Figure size 864x576 with 1 Axes>"
      ]
     },
     "metadata": {
      "needs_background": "light"
     },
     "output_type": "display_data"
    }
   ],
   "source": [
    "plt.rcParams['text.usetex'] = True\n",
    "\n",
    "fig, ax = plt.subplots(figsize = (12,8))\n",
    "bins = [0.5,1.5,2.5,3.5,4.5]\n",
    "\n",
    "counts, edges, bars = plt.hist([oracle_choice_O3[i,:] for i in range(num_w_bar)],bins,label=[r'$\\bar{\\omega}$=0.05',r'$\\bar{\\omega}$=0.1',r'$\\bar{\\omega}$=1',r'$\\bar{\\omega}$=10',r'$\\bar{\\omega}$=20'])\n",
    "\n",
    "plt.title('The order of kernel is 3',fontsize=18, color='black')\n",
    "for b in bars:\n",
    "    ax.bar_label(b)\n",
    "\n",
    "plt.xticks(range(1,5))\n",
    "plt.legend(loc='upper left')\n",
    "plt.xlabel(r'The bandwidths (\\textit{from left to right}) are $(\\frac{N}{\\log N})^{-1/3}$, $(\\frac{N}{\\log N})^{-1/5}$, $(\\frac{N}{\\log N})^{-1/7}$, $(\\frac{N}{\\log N})^{-1/9}$',fontsize=18, color='black')\n",
    "plt.ylabel(\"Number of choices\")\n",
    "\n",
    "plt.show()"
   ]
  },
  {
   "cell_type": "markdown",
   "metadata": {},
   "source": [
    "### (B) -  Simulated density function for $\\bar{w}=23$"
   ]
  },
  {
   "cell_type": "code",
   "execution_count": 28,
   "metadata": {},
   "outputs": [
    {
     "name": "stdout",
     "output_type": "stream",
     "text": [
      "Done!\n",
      "The number of times the largest eta has not been chosen : 0\n",
      "The number of times the largest eta has been chosen : 1200\n"
     ]
    }
   ],
   "source": [
    "w_bar=23\n",
    "\n",
    "l_regularity=3 \n",
    "\n",
    "test_num_x=100\n",
    "XX=np.linspace(-3,4,test_num_x)\n",
    "\n",
    "\n",
    "no_four=0\n",
    "four_num=0\n",
    "\n",
    "\n",
    "for j in range(test_num_x):\n",
    "    x_fix=np.array([XX[j]])\n",
    "#    print (\"The test x point is \", x_fix)\n",
    "    for i in range(pn):\n",
    "        Num_particle=N_vec[i]\n",
    "#        print (\"The number of particle is\", Num_particle)\n",
    "        particle_now = np.array(pd.read_csv(\"burger_eq_particle_number_\"+str(Num_particle)+\".csv\", sep=',',header=None))\n",
    "        \n",
    "        H_set_now=H_set_func(Num_particle, l_regularity+1)\n",
    "        \n",
    "        KDE_s_now=KDE_fun_s(Num_particle, particle_now, kernel_O3_fun, H_set_now)   \n",
    "        \n",
    "        V_vector=np.zeros([H_set_now.size])\n",
    "        A_vector=np.zeros([H_set_now.size])\n",
    "        for i in range(H_set_now.size):\n",
    "            V_vector=V_value(H_set_now, Num_particle, normL2_O3)  \n",
    "        for i in range(H_set_now.size-1):\n",
    "            A_vector[i+1]=A_value(Num_particle,KDE_s_now,H_set_now, normL2_O3, H_set_now[i+1],x_fix)\n",
    "        \n",
    "        determine_value=determine_fun(V_vector, A_vector, H_set_now)\n",
    "        \n",
    "        if determine_value!=4:\n",
    "            no_four=no_four+1\n",
    "            print (\"The number of particle is\", Num_particle, \"The test x point is \", x_fix)\n",
    "            print (\"We choose the\", determine_value,\"-th eta.\")\n",
    "        else : four_num=four_num+1\n",
    "            \n",
    "print (\"Done!\")\n",
    "print (\"The number of times the largest eta has not been chosen :\", no_four)\n",
    "print (\"The number of times the largest eta has been chosen :\", four_num)"
   ]
  },
  {
   "cell_type": "code",
   "execution_count": 29,
   "metadata": {},
   "outputs": [],
   "source": [
    "# plot the simulation with 4-th order kernel \n",
    "\n",
    "\n",
    "plot_point_number=2000\n",
    "\n",
    "l_regularity_plus_one=4\n",
    "\n",
    "X_plot = np.linspace(-3,4, plot_point_number)[:, np.newaxis]\n",
    "\n",
    "# curve_1_O3 : the number of particle == 2^5 ; order = 3\n",
    "curve_1_O3=np.zeros(plot_point_number)\n",
    "\n",
    "# curve_2_O3 : the number of particle == 2^10 ; order = 3\n",
    "curve_2_O3=np.zeros(plot_point_number)\n",
    "\n",
    "# curve_3_O3 : the number of particle == 2^15 ; order = 3\n",
    "curve_3_O3=np.zeros(plot_point_number)\n",
    "\n",
    "\n",
    "# compute curve_1_O3 \n",
    "particle_num_plot=2**5\n",
    "eta_oracle = (particle_num_plot/np.log(particle_num_plot))**(-1./(2*l_regularity_plus_one+1))\n",
    "density_particle_plot=np.array(pd.read_csv(\"burger_eq_particle_number_\"+str(particle_num_plot)+\".csv\", sep=',',header=None))\n",
    "\n",
    "for j in range(plot_point_number):\n",
    "    curve_1_O3[j]=kernel_O3_fun((X_plot[j]-density_particle_plot)/eta_oracle).sum()/(particle_num_plot*eta_oracle)    \n",
    "\n",
    "    \n",
    "# compute curve_2_O3\n",
    "particle_num_plot=2**10\n",
    "eta_oracle = (particle_num_plot/np.log(particle_num_plot))**(-1./(2*l_regularity_plus_one+1))\n",
    "density_particle_plot=np.array(pd.read_csv(\"burger_eq_particle_number_\"+str(particle_num_plot)+\".csv\", sep=',',header=None))\n",
    "\n",
    "for j in range(plot_point_number):\n",
    "    curve_2_O3[j]=kernel_O3_fun((X_plot[j]-density_particle_plot)/eta_oracle).sum()/(particle_num_plot*eta_oracle)   \n",
    "    \n",
    "# compute curve_3_O3 \n",
    "particle_num_plot=2**15\n",
    "eta_oracle = (particle_num_plot/np.log(particle_num_plot))**(-1./(2*l_regularity_plus_one+1))\n",
    "density_particle_plot=np.array(pd.read_csv(\"burger_eq_particle_number_\"+str(particle_num_plot)+\".csv\", sep=',',header=None))\n",
    "\n",
    "for j in range(plot_point_number):\n",
    "    curve_3_O3[j]=kernel_O3_fun((X_plot[j]-density_particle_plot)/eta_oracle).sum()/(particle_num_plot*eta_oracle)   \n",
    "    \n",
    "    \n"
   ]
  },
  {
   "cell_type": "code",
   "execution_count": 30,
   "metadata": {},
   "outputs": [
    {
     "data": {
      "text/plain": [
       "<matplotlib.legend.Legend at 0x7fcadb4e6d30>"
      ]
     },
     "execution_count": 30,
     "metadata": {},
     "output_type": "execute_result"
    },
    {
     "data": {
      "image/png": "[encoded data removed]",
      "text/plain": [
       "<Figure size 720x360 with 1 Axes>"
      ]
     },
     "metadata": {
      "needs_background": "light"
     },
     "output_type": "display_data"
    }
   ],
   "source": [
    "plt.figure(figsize = (10,5))\n",
    "plt.plot(X_plot, curve_1_O3,\"b\",label=\"The number of particle is $2^5$\")\n",
    "plt.plot(X_plot, curve_2_O3,\"r\",label=\"The number of particle is $2^{10}$\")\n",
    "plt.plot(X_plot, curve_3_O3,\"green\",label=\"The number of particle is $2^{15}$\")\n",
    "\n",
    "plt.plot(X_plot, density_true_plot,\"black\",label=\"True density\")\n",
    "\n",
    "plt.title('The order of kernel is 3')\n",
    "\n",
    "\n",
    "plt.legend()"
   ]
  },
  {
   "cell_type": "markdown",
   "metadata": {},
   "source": [
    "### (C) -  Density simulation error (for $\\bar{w}=23$)"
   ]
  },
  {
   "cell_type": "code",
   "execution_count": 31,
   "metadata": {},
   "outputs": [
    {
     "name": "stderr",
     "output_type": "stream",
     "text": [
      "  8%|███▋                                        | 1/12 [00:53<09:47, 53.40s/it]"
     ]
    },
    {
     "name": "stdout",
     "output_type": "stream",
     "text": [
      "i= 0 ; the number of particle is 32 ; The optimal bandwidth is 0.7811571053875341 .\n",
      "0 the error is : 0.00884333395967055\n"
     ]
    },
    {
     "name": "stderr",
     "output_type": "stream",
     "text": [
      "\r",
      " 17%|███████▎                                    | 2/12 [01:46<08:55, 53.51s/it]"
     ]
    },
    {
     "name": "stdout",
     "output_type": "stream",
     "text": [
      "i= 1 ; the number of particle is 64 ; The optimal bandwidth is 0.7380546595112408 .\n",
      "1 the error is : 0.004674222802837012\n"
     ]
    },
    {
     "name": "stderr",
     "output_type": "stream",
     "text": [
      "\r",
      " 25%|███████████                                 | 3/12 [02:41<08:03, 53.75s/it]"
     ]
    },
    {
     "name": "stdout",
     "output_type": "stream",
     "text": [
      "i= 2 ; the number of particle is 128 ; The optimal bandwidth is 0.6951512071563112 .\n",
      "2 the error is : 0.004462254172164081\n"
     ]
    },
    {
     "name": "stderr",
     "output_type": "stream",
     "text": [
      "\r",
      " 33%|██████████████▋                             | 4/12 [03:34<07:09, 53.73s/it]"
     ]
    },
    {
     "name": "stdout",
     "output_type": "stream",
     "text": [
      "i= 3 ; the number of particle is 256 ; The optimal bandwidth is 0.6532434347145349 .\n",
      "3 the error is : 0.0023971448414133413\n"
     ]
    },
    {
     "name": "stderr",
     "output_type": "stream",
     "text": [
      "\r",
      " 42%|██████████████████▎                         | 5/12 [04:28<06:16, 53.75s/it]"
     ]
    },
    {
     "name": "stdout",
     "output_type": "stream",
     "text": [
      "i= 4 ; the number of particle is 512 ; The optimal bandwidth is 0.6127889000263181 .\n",
      "4 the error is : 0.0019184090366247092\n"
     ]
    },
    {
     "name": "stderr",
     "output_type": "stream",
     "text": [
      "\r",
      " 50%|██████████████████████                      | 6/12 [05:22<05:22, 53.74s/it]"
     ]
    },
    {
     "name": "stdout",
     "output_type": "stream",
     "text": [
      "i= 5 ; the number of particle is 1024 ; The optimal bandwidth is 0.574046770837112 .\n",
      "5 the error is : 0.0012079617937477242\n"
     ]
    },
    {
     "name": "stderr",
     "output_type": "stream",
     "text": [
      "\r",
      " 58%|█████████████████████████▋                  | 7/12 [06:16<04:30, 54.06s/it]"
     ]
    },
    {
     "name": "stdout",
     "output_type": "stream",
     "text": [
      "i= 6 ; the number of particle is 2048 ; The optimal bandwidth is 0.5371538442699912 .\n",
      "6 the error is : 0.000820176959915255\n"
     ]
    },
    {
     "name": "stderr",
     "output_type": "stream",
     "text": [
      "\r",
      " 67%|█████████████████████████████▎              | 8/12 [07:12<03:37, 54.38s/it]"
     ]
    },
    {
     "name": "stdout",
     "output_type": "stream",
     "text": [
      "i= 7 ; the number of particle is 4096 ; The optimal bandwidth is 0.5021687001225006 .\n",
      "7 the error is : 0.0005174734930508888\n"
     ]
    },
    {
     "name": "stderr",
     "output_type": "stream",
     "text": [
      "\r",
      " 75%|█████████████████████████████████           | 9/12 [08:07<02:44, 54.83s/it]"
     ]
    },
    {
     "name": "stdout",
     "output_type": "stream",
     "text": [
      "i= 8 ; the number of particle is 8192 ; The optimal bandwidth is 0.46909879662609494 .\n",
      "8 the error is : 0.0003300089474538784\n"
     ]
    },
    {
     "name": "stderr",
     "output_type": "stream",
     "text": [
      "\r",
      " 83%|███████████████████████████████████▊       | 10/12 [09:06<01:51, 55.89s/it]"
     ]
    },
    {
     "name": "stdout",
     "output_type": "stream",
     "text": [
      "i= 9 ; the number of particle is 16384 ; The optimal bandwidth is 0.43791781937803403 .\n",
      "9 the error is : 0.00023024002994892574\n"
     ]
    },
    {
     "name": "stderr",
     "output_type": "stream",
     "text": [
      "\r",
      " 92%|███████████████████████████████████████▍   | 11/12 [10:09<00:58, 58.10s/it]"
     ]
    },
    {
     "name": "stdout",
     "output_type": "stream",
     "text": [
      "i= 10 ; the number of particle is 32768 ; The optimal bandwidth is 0.40857716178278575 .\n",
      "10 the error is : 0.0001447443297824147\n"
     ]
    },
    {
     "name": "stderr",
     "output_type": "stream",
     "text": [
      "100%|███████████████████████████████████████████| 12/12 [11:21<00:00, 56.77s/it]"
     ]
    },
    {
     "name": "stdout",
     "output_type": "stream",
     "text": [
      "i= 11 ; the number of particle is 65536 ; The optimal bandwidth is 0.381013718253475 .\n",
      "11 the error is : 7.240272843088082e-05\n"
     ]
    },
    {
     "name": "stderr",
     "output_type": "stream",
     "text": [
      "\n"
     ]
    }
   ],
   "source": [
    "\n",
    "\n",
    "error_N_O3_kernel=[] \n",
    "\n",
    "l_regularity_plus_one=4 \n",
    "\n",
    "for i in tqdm(range(pn)):\n",
    "    error=np.zeros(NNs)\n",
    "    for nns in range(NNs):\n",
    "\n",
    "        density_particle= np.array(pd.read_csv(\"burger_eq_part_number_\"+str(N_vec[i])+\"repeat\"+str(nns)+\".csv\", sep=',',header=None))\n",
    "        \n",
    "        Error_simu_number=1000\n",
    "        \n",
    "        X_simu = np.linspace(-3, 4, Error_simu_number)[:, np.newaxis]\n",
    "        \n",
    "        Error_simu_vec=np.zeros(Error_simu_number)\n",
    "        error_vec=np.zeros(Error_simu_number)\n",
    "        \n",
    "        eta_oracle = (N_vec[i]/np.log(N_vec[i]))**(-1./(2*l_regularity_plus_one+1))\n",
    "        \n",
    "        for j in range(Error_simu_number):\n",
    "            Error_simu_vec[j]=kernel_O3_fun((X_simu[j]-density_particle)/eta_oracle).sum()/(N_vec[i]*eta_oracle) # O4!  \n",
    "            error_vec[j]=np.abs(Error_simu_vec[j] - density_true(X_simu[j]))\n",
    "\n",
    "        error_one=error_vec.max()**2\n",
    "        error[nns]=error_one\n",
    "        \n",
    "    print (\"i=\",i,\";\", \"the number of particle is\", N_vec[i],\";\", \"The optimal bandwidth is\",eta_oracle, \".\")\n",
    "    print (i,\"the error is :\", error.mean())\n",
    "    \n",
    "    error_N_O3_kernel.append(error.mean()) \n",
    "\n",
    "    np.savetxt(\"error_\"+str(i)+\"_op_Order_3_kernel.csv\", error_N_O3_kernel, delimiter=\",\") \n",
    "\n"
   ]
  },
  {
   "cell_type": "code",
   "execution_count": 32,
   "metadata": {},
   "outputs": [
    {
     "data": {
      "text/plain": [
       "[<matplotlib.lines.Line2D at 0x7fcadb537910>]"
      ]
     },
     "execution_count": 32,
     "metadata": {},
     "output_type": "execute_result"
    },
    {
     "data": {
      "image/png": "[encoded data removed]",
      "text/plain": [
       "<Figure size 576x432 with 1 Axes>"
      ]
     },
     "metadata": {
      "needs_background": "light"
     },
     "output_type": "display_data"
    }
   ],
   "source": [
    "plt.figure(figsize=(8,6))\n",
    "\n",
    "plt.plot(np.log2(N_vec),np.log2(error_N_O3_kernel),\"r\")\n"
   ]
  },
  {
   "cell_type": "code",
   "execution_count": 33,
   "metadata": {},
   "outputs": [
    {
     "name": "stdout",
     "output_type": "stream",
     "text": [
      "The estimate of the slope is [-0.60085322]\n",
      "The estimate of the intercept is -3.7843246529981664\n"
     ]
    }
   ],
   "source": [
    "X=np.log2(N_vec).reshape(-1,1)\n",
    "y=np.log2(error_N_O3_kernel)\n",
    "reg_Kernal_O3 = LinearRegression().fit(X, y)\n",
    "print (\"The estimate of the slope is\", reg_Kernal_O3.coef_)\n",
    "print (\"The estimate of the intercept is\", reg_Kernal_O3.intercept_)"
   ]
  },
  {
   "cell_type": "markdown",
   "metadata": {},
   "source": [
    "## 2.5 Kernel order = 5 <a class=\"anchor\" id=\"section2-5\"></a> "
   ]
  },
  {
   "cell_type": "markdown",
   "metadata": {},
   "source": [
    "### (A) -  Distrubtion of optimal bandwidths \n",
    "\n",
    "In the following two cells, we test for 100 values of $x$ in $[-3,4]$. "
   ]
  },
  {
   "cell_type": "code",
   "execution_count": 34,
   "metadata": {},
   "outputs": [
    {
     "name": "stderr",
     "output_type": "stream",
     "text": [
      "100%|█████████████████████████████████████████████| 5/5 [01:27<00:00, 17.57s/it]"
     ]
    },
    {
     "name": "stdout",
     "output_type": "stream",
     "text": [
      "Done!\n"
     ]
    },
    {
     "name": "stderr",
     "output_type": "stream",
     "text": [
      "\n"
     ]
    }
   ],
   "source": [
    "w_bar_values=[0.05,0.1,1,10,20]\n",
    "\n",
    "num_w_bar=len(w_bar_values)\n",
    "\n",
    "l_regularity=5 \n",
    "\n",
    "test_num_x=100\n",
    "XX=np.linspace(-3,4,test_num_x)\n",
    "\n",
    "\n",
    "oracle_choice_O5=np.zeros([num_w_bar,test_num_x*pn])\n",
    "\n",
    "\n",
    "for num in tqdm(range(num_w_bar)):\n",
    "    w_bar=w_bar_values[num]\n",
    "    for j in range(test_num_x):\n",
    "        x_fix=np.array([XX[j]])\n",
    "        for i_par in range(pn):\n",
    "            Num_particle=N_vec[i_par]\n",
    "            particle_now = np.array(pd.read_csv(\"burger_eq_particle_number_\"+str(Num_particle)+\".csv\", sep=',',header=None))\n",
    "        \n",
    "            H_set_now=H_set_func(Num_particle, l_regularity+1)\n",
    "        \n",
    "            KDE_s_now=KDE_fun_s(Num_particle, particle_now, kernel_O5_fun, H_set_now)  \n",
    "        \n",
    "            V_vector=np.zeros([H_set_now.size])\n",
    "            A_vector=np.zeros([H_set_now.size])\n",
    "            for i in range(H_set_now.size):\n",
    "                V_vector=V_value(H_set_now, Num_particle, normL2_O5)   \n",
    "            for i in range(H_set_now.size-1):\n",
    "                A_vector[i+1]=A_value(Num_particle,KDE_s_now,H_set_now, normL2_O5, H_set_now[i+1],x_fix)\n",
    "        \n",
    "            determine_value=determine_fun(V_vector, A_vector, H_set_now)\n",
    "            oracle_choice_O5[num,i_par*100+j]=determine_value  \n",
    "\n",
    "            \n",
    "print (\"Done!\")\n"
   ]
  },
  {
   "cell_type": "code",
   "execution_count": 35,
   "metadata": {},
   "outputs": [
    {
     "data": {
      "image/png": "[encoded data removed]",
      "text/plain": [
       "<Figure size 1008x576 with 1 Axes>"
      ]
     },
     "metadata": {
      "needs_background": "light"
     },
     "output_type": "display_data"
    }
   ],
   "source": [
    "plt.rcParams['text.usetex'] = True\n",
    "\n",
    "fig, ax = plt.subplots(figsize = (14,8))\n",
    "bins = [0.5,1.5,2.5,3.5,4.5,5.5,6.5]\n",
    "\n",
    "counts, edges, bars = plt.hist([oracle_choice_O5[i,:] for i in range(num_w_bar)],bins,label=[r'$\\bar{\\omega}$=0.05',r'$\\bar{\\omega}$=0.1',r'$\\bar{\\omega}$=1',r'$\\bar{\\omega}$=10',r'$\\bar{\\omega}$=20'])\n",
    "\n",
    "plt.title('The order of kernel is 5',fontsize=18, color='black')\n",
    "for b in bars:\n",
    "    ax.bar_label(b)\n",
    "\n",
    "plt.xticks(range(1,7))\n",
    "plt.legend(loc='upper left')\n",
    "plt.xlabel(r'The bandwidths (\\textit{from left to right}) are $(\\frac{N}{\\log N})^{-1/3}$, $(\\frac{N}{\\log N})^{-1/5}$, $(\\frac{N}{\\log N})^{-1/7}$, $(\\frac{N}{\\log N})^{-1/9}$ , $(\\frac{N}{\\log N})^{-1/11}$ , $(\\frac{N}{\\log N})^{-1/13}$',fontsize=18, color='black')\n",
    "plt.ylabel(\"Number of choices\")\n",
    "\n",
    "plt.show()"
   ]
  },
  {
   "cell_type": "code",
   "execution_count": null,
   "metadata": {},
   "outputs": [],
   "source": []
  },
  {
   "cell_type": "markdown",
   "metadata": {},
   "source": [
    "### (B) -  Simulated density function for $\\bar{w}=23$\n"
   ]
  },
  {
   "cell_type": "code",
   "execution_count": 36,
   "metadata": {},
   "outputs": [
    {
     "name": "stdout",
     "output_type": "stream",
     "text": [
      "Done!\n",
      "The number of times the largest eta has not been chosen : 0\n",
      "The number of times the largest eta has been chosen : 1200\n"
     ]
    }
   ],
   "source": [
    "w_bar=23\n",
    "\n",
    "l_regularity=5 \n",
    "\n",
    "test_num_x=100\n",
    "XX=np.linspace(-3,4,test_num_x)\n",
    "\n",
    "\n",
    "\n",
    "largest_num=0\n",
    "no_largest=0\n",
    "\n",
    "for j in range(test_num_x):\n",
    "    x_fix=np.array([XX[j]])\n",
    "    for i in range(pn):\n",
    "        Num_particle=N_vec[i]\n",
    "        particle_now = np.array(pd.read_csv(\"burger_eq_particle_number_\"+str(Num_particle)+\".csv\", sep=',',header=None))\n",
    "        \n",
    "        H_set_now=H_set_func(Num_particle, l_regularity+1)\n",
    "        \n",
    "        KDE_s_now=KDE_fun_s(Num_particle, particle_now, kernel_O5_fun, H_set_now)  \n",
    "        \n",
    "        V_vector=np.zeros([H_set_now.size])\n",
    "        A_vector=np.zeros([H_set_now.size])\n",
    "        for i in range(H_set_now.size):\n",
    "            V_vector=V_value(H_set_now, Num_particle, normL2_O5)   \n",
    "        for i in range(H_set_now.size-1):\n",
    "            A_vector[i+1]=A_value(Num_particle,KDE_s_now,H_set_now, normL2_O5, H_set_now[i+1],x_fix) \n",
    "        \n",
    "        determine_value=determine_fun(V_vector, A_vector, H_set_now)\n",
    "\n",
    "        if determine_value!=6:  \n",
    "            no_largest=no_largest+1\n",
    "            print (\"The number of particle is\", Num_particle, \"The test x point is \", x_fix)\n",
    "            print (\"We choose the\", determine_value,\"-th eta.\")\n",
    "        else : largest_num=largest_num+1\n",
    "            \n",
    "print (\"Done!\")\n",
    "print (\"The number of times the largest eta has not been chosen :\", no_largest)\n",
    "print (\"The number of times the largest eta has been chosen :\", largest_num)\n",
    "\n"
   ]
  },
  {
   "cell_type": "code",
   "execution_count": 37,
   "metadata": {},
   "outputs": [],
   "source": [
    "# plot the simulation with 6-th order kernel \n",
    "\n",
    "\n",
    "plot_point_number=2000\n",
    "\n",
    "l_regularity_plus_one=6\n",
    "\n",
    "X_plot = np.linspace(-3,4, plot_point_number)[:, np.newaxis]\n",
    "\n",
    "# curve_1_O5 : the number of particle == 2^5 ; order = 5\n",
    "curve_1_O5=np.zeros(plot_point_number)\n",
    "\n",
    "# curve_2_O5 : the number of particle == 2^10 ; order = 5\n",
    "curve_2_O5=np.zeros(plot_point_number)\n",
    "\n",
    "# curve_3_O5 : the number of particle == 2^15 ; order = 5\n",
    "curve_3_O5=np.zeros(plot_point_number)\n",
    "\n",
    "\n",
    "# compute curve_1_O5 \n",
    "particle_num_plot=2**5\n",
    "eta_oracle = (particle_num_plot/np.log(particle_num_plot))**(-1./(2*l_regularity_plus_one+1))\n",
    "density_particle_plot=np.array(pd.read_csv(\"burger_eq_particle_number_\"+str(particle_num_plot)+\".csv\", sep=',',header=None))\n",
    "\n",
    "for j in range(plot_point_number):\n",
    "    curve_1_O5[j]=kernel_O5_fun((X_plot[j]-density_particle_plot)/eta_oracle).sum()/(particle_num_plot*eta_oracle)    \n",
    "\n",
    "    \n",
    "# compute curve_2_O5 \n",
    "particle_num_plot=2**10\n",
    "eta_oracle = (particle_num_plot/np.log(particle_num_plot))**(-1./(2*l_regularity_plus_one+1))\n",
    "density_particle_plot=np.array(pd.read_csv(\"burger_eq_particle_number_\"+str(particle_num_plot)+\".csv\", sep=',',header=None))\n",
    "\n",
    "for j in range(plot_point_number):\n",
    "    curve_2_O5[j]=kernel_O5_fun((X_plot[j]-density_particle_plot)/eta_oracle).sum()/(particle_num_plot*eta_oracle)   \n",
    "    \n",
    "# compute curve_3_O5 \n",
    "particle_num_plot=2**15\n",
    "eta_oracle = (particle_num_plot/np.log(particle_num_plot))**(-1./(2*l_regularity_plus_one+1))\n",
    "density_particle_plot=np.array(pd.read_csv(\"burger_eq_particle_number_\"+str(particle_num_plot)+\".csv\", sep=',',header=None))\n",
    "\n",
    "for j in range(plot_point_number):\n",
    "    curve_3_O5[j]=kernel_O5_fun((X_plot[j]-density_particle_plot)/eta_oracle).sum()/(particle_num_plot*eta_oracle)   \n",
    "    \n",
    "    "
   ]
  },
  {
   "cell_type": "code",
   "execution_count": 38,
   "metadata": {},
   "outputs": [
    {
     "data": {
      "text/plain": [
       "<matplotlib.legend.Legend at 0x7fcad4896f70>"
      ]
     },
     "execution_count": 38,
     "metadata": {},
     "output_type": "execute_result"
    },
    {
     "data": {
      "image/png": "[encoded data removed]",
      "text/plain": [
       "<Figure size 720x360 with 1 Axes>"
      ]
     },
     "metadata": {
      "needs_background": "light"
     },
     "output_type": "display_data"
    }
   ],
   "source": [
    "plt.figure(figsize = (10,5))\n",
    "plt.plot(X_plot, curve_1_O5,\"b\",label=\"The number of particle is $2^5$\")\n",
    "plt.plot(X_plot, curve_2_O5,\"r\",label=\"The number of particle is $2^{10}$\")\n",
    "plt.plot(X_plot, curve_3_O5,\"green\",label=\"The number of particle is $2^{15}$\")\n",
    "plt.plot(X_plot, density_true_plot,\"black\",label=\"True density\")\n",
    "\n",
    "plt.title('The order of kernel is 5')\n",
    "\n",
    "plt.legend()"
   ]
  },
  {
   "cell_type": "markdown",
   "metadata": {},
   "source": [
    "\n",
    "\n",
    "### (C) -  Density simulation error (for $\\bar{w}=23$)\n"
   ]
  },
  {
   "cell_type": "code",
   "execution_count": 39,
   "metadata": {},
   "outputs": [
    {
     "name": "stderr",
     "output_type": "stream",
     "text": [
      "  8%|███▋                                        | 1/12 [00:53<09:53, 53.97s/it]"
     ]
    },
    {
     "name": "stdout",
     "output_type": "stream",
     "text": [
      "i= 0 ; the number of particle is 32 ; The optimal bandwidth is 0.8428338326633098 .\n",
      "0 the error is : 0.006927218816190414\n"
     ]
    },
    {
     "name": "stderr",
     "output_type": "stream",
     "text": [
      "\r",
      " 17%|███████▎                                    | 2/12 [01:47<08:59, 53.94s/it]"
     ]
    },
    {
     "name": "stdout",
     "output_type": "stream",
     "text": [
      "i= 1 ; the number of particle is 64 ; The optimal bandwidth is 0.8103575301625457 .\n",
      "1 the error is : 0.0032009602529088762\n"
     ]
    },
    {
     "name": "stderr",
     "output_type": "stream",
     "text": [
      "\r",
      " 25%|███████████                                 | 3/12 [02:41<08:03, 53.75s/it]"
     ]
    },
    {
     "name": "stdout",
     "output_type": "stream",
     "text": [
      "i= 2 ; the number of particle is 128 ; The optimal bandwidth is 0.7774460684077394 .\n",
      "2 the error is : 0.003059769544227425\n"
     ]
    },
    {
     "name": "stderr",
     "output_type": "stream",
     "text": [
      "\r",
      " 33%|██████████████▋                             | 4/12 [03:35<07:10, 53.79s/it]"
     ]
    },
    {
     "name": "stdout",
     "output_type": "stream",
     "text": [
      "i= 3 ; the number of particle is 256 ; The optimal bandwidth is 0.744689168593168 .\n",
      "3 the error is : 0.0013582477273347431\n"
     ]
    },
    {
     "name": "stderr",
     "output_type": "stream",
     "text": [
      "\r",
      " 42%|██████████████████▎                         | 5/12 [04:29<06:17, 53.89s/it]"
     ]
    },
    {
     "name": "stdout",
     "output_type": "stream",
     "text": [
      "i= 4 ; the number of particle is 512 ; The optimal bandwidth is 0.7124488553315885 .\n",
      "4 the error is : 0.0011759423096939542\n"
     ]
    },
    {
     "name": "stderr",
     "output_type": "stream",
     "text": [
      "\r",
      " 50%|██████████████████████                      | 6/12 [05:23<05:24, 54.12s/it]"
     ]
    },
    {
     "name": "stdout",
     "output_type": "stream",
     "text": [
      "i= 5 ; the number of particle is 1024 ; The optimal bandwidth is 0.6809533276214842 .\n",
      "5 the error is : 0.0007099859871572285\n"
     ]
    },
    {
     "name": "stderr",
     "output_type": "stream",
     "text": [
      "\r",
      " 58%|█████████████████████████▋                  | 7/12 [06:19<04:32, 54.49s/it]"
     ]
    },
    {
     "name": "stdout",
     "output_type": "stream",
     "text": [
      "i= 6 ; the number of particle is 2048 ; The optimal bandwidth is 0.6503471564358044 .\n",
      "6 the error is : 0.0004662037552975592\n"
     ]
    },
    {
     "name": "stderr",
     "output_type": "stream",
     "text": [
      "\r",
      " 67%|█████████████████████████████▎              | 8/12 [07:16<03:41, 55.36s/it]"
     ]
    },
    {
     "name": "stdout",
     "output_type": "stream",
     "text": [
      "i= 7 ; the number of particle is 4096 ; The optimal bandwidth is 0.6207202368114458 .\n",
      "7 the error is : 0.00029418812643127156\n"
     ]
    },
    {
     "name": "stderr",
     "output_type": "stream",
     "text": [
      "\r",
      " 75%|█████████████████████████████████           | 9/12 [08:17<02:51, 57.16s/it]"
     ]
    },
    {
     "name": "stdout",
     "output_type": "stream",
     "text": [
      "i= 8 ; the number of particle is 8192 ; The optimal bandwidth is 0.5921254928393913 .\n",
      "8 the error is : 0.00019040874931949\n"
     ]
    },
    {
     "name": "stderr",
     "output_type": "stream",
     "text": [
      "\r",
      " 83%|███████████████████████████████████▊       | 10/12 [09:26<02:01, 60.71s/it]"
     ]
    },
    {
     "name": "stdout",
     "output_type": "stream",
     "text": [
      "i= 9 ; the number of particle is 16384 ; The optimal bandwidth is 0.5645902195758109 .\n",
      "9 the error is : 0.00013707021715708606\n"
     ]
    },
    {
     "name": "stderr",
     "output_type": "stream",
     "text": [
      "\r",
      " 92%|███████████████████████████████████████▍   | 11/12 [10:49<01:07, 67.55s/it]"
     ]
    },
    {
     "name": "stdout",
     "output_type": "stream",
     "text": [
      "i= 10 ; the number of particle is 32768 ; The optimal bandwidth is 0.5381236266042277 .\n",
      "10 the error is : 9.98452472764444e-05\n"
     ]
    },
    {
     "name": "stderr",
     "output_type": "stream",
     "text": [
      "100%|███████████████████████████████████████████| 12/12 [12:46<00:00, 63.87s/it]"
     ]
    },
    {
     "name": "stdout",
     "output_type": "stream",
     "text": [
      "i= 11 ; the number of particle is 65536 ; The optimal bandwidth is 0.5127220116773975 .\n",
      "11 the error is : 5.452624806443139e-05\n"
     ]
    },
    {
     "name": "stderr",
     "output_type": "stream",
     "text": [
      "\n"
     ]
    }
   ],
   "source": [
    "\n",
    "\n",
    "error_N_O5_kernel=[] \n",
    "\n",
    "l_regularity_plus_one=6 # regularity of kernel !\n",
    "\n",
    "for i in tqdm(range(pn)):\n",
    "    error=np.zeros(NNs)\n",
    "    for nns in range(NNs):\n",
    "\n",
    "        density_particle= np.array(pd.read_csv(\"burger_eq_part_number_\"+str(N_vec[i])+\"repeat\"+str(nns)+\".csv\", sep=',',header=None))\n",
    "        \n",
    "        Error_simu_number=1000\n",
    "        \n",
    "        X_simu = np.linspace(-3, 4, Error_simu_number)[:, np.newaxis]\n",
    "        \n",
    "        Error_simu_vec=np.zeros(Error_simu_number)\n",
    "        error_vec=np.zeros(Error_simu_number)\n",
    "        \n",
    "        eta_oracle = (N_vec[i]/np.log(N_vec[i]))**(-1./(2*l_regularity_plus_one+1))\n",
    "        \n",
    "        for j in range(Error_simu_number):\n",
    "            Error_simu_vec[j]=kernel_O5_fun((X_simu[j]-density_particle)/eta_oracle).sum()/(N_vec[i]*eta_oracle) # O6!  \n",
    "            error_vec[j]=np.abs(Error_simu_vec[j] - density_true(X_simu[j]))\n",
    "\n",
    "        error_one=error_vec.max()**2\n",
    "        error[nns]=error_one\n",
    "        \n",
    "    print (\"i=\",i,\";\", \"the number of particle is\", N_vec[i],\";\", \"The optimal bandwidth is\",eta_oracle, \".\")\n",
    "    print (i,\"the error is :\", error.mean())\n",
    "    \n",
    "    error_N_O5_kernel.append(error.mean()) # Name of the error vector !\n",
    "\n",
    "    np.savetxt(\"error_\"+str(i)+\"_op_Order_5_kernel.csv\", error_N_O5_kernel, delimiter=\",\") # Name of the error vector !\n",
    "\n"
   ]
  },
  {
   "cell_type": "code",
   "execution_count": 40,
   "metadata": {},
   "outputs": [
    {
     "data": {
      "text/plain": [
       "[<matplotlib.lines.Line2D at 0x7fcadc40cbe0>]"
      ]
     },
     "execution_count": 40,
     "metadata": {},
     "output_type": "execute_result"
    },
    {
     "data": {
      "image/png": "[encoded data removed]",
      "text/plain": [
       "<Figure size 576x432 with 1 Axes>"
      ]
     },
     "metadata": {
      "needs_background": "light"
     },
     "output_type": "display_data"
    }
   ],
   "source": [
    "plt.figure(figsize=(8,6))\n",
    "\n",
    "plt.plot(np.log2(N_vec),np.log2(error_N_O5_kernel),\"r\")\n"
   ]
  },
  {
   "cell_type": "code",
   "execution_count": 41,
   "metadata": {},
   "outputs": [
    {
     "name": "stdout",
     "output_type": "stream",
     "text": [
      "The estimate of the slope is [-0.60854817]\n",
      "The estimate of the intercept is -4.357814740602039\n"
     ]
    }
   ],
   "source": [
    "X=np.log2(N_vec).reshape(-1,1)\n",
    "y=np.log2(error_N_O5_kernel)\n",
    "reg_Kernal_O5 = LinearRegression().fit(X, y)\n",
    "print (\"The estimate of the slope is\", reg_Kernal_O5.coef_)\n",
    "print (\"The estimate of the intercept is\", reg_Kernal_O5.intercept_)"
   ]
  },
  {
   "cell_type": "markdown",
   "metadata": {},
   "source": [
    "## 2.6 Kernel order = 7 <a class=\"anchor\" id=\"section2-6\"></a> "
   ]
  },
  {
   "cell_type": "markdown",
   "metadata": {},
   "source": [
    "### (A) -  Distrubtion of optimal bandwidths \n",
    "\n",
    "In the following two cells, we test for 100 values of $x$ in $[-3,4]$. \n"
   ]
  },
  {
   "cell_type": "code",
   "execution_count": 42,
   "metadata": {},
   "outputs": [
    {
     "name": "stderr",
     "output_type": "stream",
     "text": [
      "100%|█████████████████████████████████████████████| 5/5 [03:41<00:00, 44.37s/it]"
     ]
    },
    {
     "name": "stdout",
     "output_type": "stream",
     "text": [
      "Done!\n"
     ]
    },
    {
     "name": "stderr",
     "output_type": "stream",
     "text": [
      "\n"
     ]
    }
   ],
   "source": [
    "w_bar_values=[0.05,0.1,1,10,20]\n",
    "\n",
    "num_w_bar=len(w_bar_values)\n",
    "\n",
    "l_regularity=7                     \n",
    "\n",
    "test_num_x=100\n",
    "XX=np.linspace(-3,4,test_num_x)\n",
    "\n",
    "\n",
    "oracle_choice_O7=np.zeros([num_w_bar,test_num_x*pn])  \n",
    "\n",
    "\n",
    "for num in tqdm(range(num_w_bar)):\n",
    "    w_bar=w_bar_values[num]\n",
    "    for j in range(test_num_x):\n",
    "        x_fix=np.array([XX[j]])\n",
    "        for i_par in range(pn):\n",
    "            Num_particle=N_vec[i_par]\n",
    "            particle_now = np.array(pd.read_csv(\"burger_eq_particle_number_\"+str(Num_particle)+\".csv\", sep=',',header=None))\n",
    "        \n",
    "            H_set_now=H_set_func(Num_particle, l_regularity+1)\n",
    "        \n",
    "            KDE_s_now=KDE_fun_s(Num_particle, particle_now, kernel_O7_fun, H_set_now)  \n",
    "        \n",
    "            V_vector=np.zeros([H_set_now.size])\n",
    "            A_vector=np.zeros([H_set_now.size])\n",
    "            for i in range(H_set_now.size):\n",
    "                V_vector=V_value(H_set_now, Num_particle, normL2_O7)   \n",
    "            for i in range(H_set_now.size-1):\n",
    "                A_vector[i+1]=A_value(Num_particle,KDE_s_now,H_set_now, normL2_O7, H_set_now[i+1],x_fix)\n",
    "        \n",
    "            determine_value=determine_fun(V_vector, A_vector, H_set_now)\n",
    "            oracle_choice_O7[num,i_par*100+j]=determine_value  \n",
    "\n",
    "            \n",
    "print (\"Done!\")"
   ]
  },
  {
   "cell_type": "code",
   "execution_count": 43,
   "metadata": {},
   "outputs": [
    {
     "data": {
      "image/png": "[encoded data removed]",
      "text/plain": [
       "<Figure size 1152x576 with 1 Axes>"
      ]
     },
     "metadata": {
      "needs_background": "light"
     },
     "output_type": "display_data"
    }
   ],
   "source": [
    "plt.rcParams['text.usetex'] = True\n",
    "\n",
    "fig, ax = plt.subplots(figsize = (16,8))\n",
    "bins = [0.5,1.5,2.5,3.5,4.5,5.5,6.5,7.5,8.5]\n",
    "\n",
    "counts, edges, bars = plt.hist([oracle_choice_O7[i,:] for i in range(num_w_bar)],bins,label=[r'$\\bar{\\omega}$=0.05',r'$\\bar{\\omega}$=0.1',r'$\\bar{\\omega}$=1',r'$\\bar{\\omega}$=10',r'$\\bar{\\omega}$=20'])\n",
    "\n",
    "plt.title('The order of kernel is 7',fontsize=18, color='black')\n",
    "for b in bars:\n",
    "    ax.bar_label(b)\n",
    "\n",
    "plt.xticks(range(1,9))\n",
    "plt.legend(loc='upper left')\n",
    "plt.xlabel(r'The bandwidths (\\textit{from left to right}) are $(\\frac{N}{\\log N})^{-1/3}$, $(\\frac{N}{\\log N})^{-1/5}$, $(\\frac{N}{\\log N})^{-1/7}$, $(\\frac{N}{\\log N})^{-1/9}$ , $(\\frac{N}{\\log N})^{-1/11}$ , $(\\frac{N}{\\log N})^{-1/13}$ ,$(\\frac{N}{\\log N})^{-1/15}$ ,$(\\frac{N}{\\log N})^{-1/17}$',fontsize=18, color='black')\n",
    "plt.ylabel(\"Number of choices\")\n",
    "\n",
    "#plt.savefig('burgers_distribution_order7.png')\n",
    "\n",
    "plt.show()"
   ]
  },
  {
   "cell_type": "code",
   "execution_count": 64,
   "metadata": {},
   "outputs": [
    {
     "data": {
      "image/png": "[encoded data removed]",
      "text/plain": [
       "<Figure size 1152x432 with 1 Axes>"
      ]
     },
     "metadata": {
      "needs_background": "light"
     },
     "output_type": "display_data"
    }
   ],
   "source": [
    "# Figure 11 of the paper\n",
    "\n",
    "plt.rcParams['text.usetex'] = True\n",
    "\n",
    "fig, ax = plt.subplots(figsize = (16,6))\n",
    "bins = [0.5,1.5,2.5,3.5,4.5,5.5,6.5,7.5,8.5]\n",
    "\n",
    "counts, edges, bars = plt.hist([oracle_choice_O7[i,:] for i in range(num_w_bar)],bins,label=[r'$\\bar{\\omega}$=0.05',r'$\\bar{\\omega}$=0.1',r'$\\bar{\\omega}$=1',r'$\\bar{\\omega}$=10',r'$\\bar{\\omega}$=20'])\n",
    "\n",
    "#plt.title('The order of kernel is 7',fontsize=18, color='black')\n",
    "for b in bars:\n",
    "    ax.bar_label(b)\n",
    "\n",
    "plt.xticks(range(1,9))\n",
    "plt.legend(loc='upper left')\n",
    "#plt.xlabel(r'The bandwidths (\\textit{from left to right}) are $(\\frac{N}{\\log N})^{-1/3}$, $(\\frac{N}{\\log N})^{-1/5}$, $(\\frac{N}{\\log N})^{-1/7}$, $(\\frac{N}{\\log N})^{-1/9}$ , $(\\frac{N}{\\log N})^{-1/11}$ , $(\\frac{N}{\\log N})^{-1/13}$ ,$(\\frac{N}{\\log N})^{-1/15}$ ,$(\\frac{N}{\\log N})^{-1/17}$',fontsize=18, color='black')\n",
    "#plt.ylabel(\"Number of choices\")\n",
    "\n",
    "plt.savefig('burgers_distribution_order7.png')\n",
    "\n",
    "plt.show()"
   ]
  },
  {
   "cell_type": "markdown",
   "metadata": {},
   "source": [
    "\n",
    "\n",
    "### (B) -  Simulated density function for $\\bar{w}=23$"
   ]
  },
  {
   "cell_type": "code",
   "execution_count": 45,
   "metadata": {},
   "outputs": [
    {
     "name": "stdout",
     "output_type": "stream",
     "text": [
      "Done!\n",
      "The number of times the largest eta has not been chosen : 0\n",
      "The number of times the largest eta has been chosen : 1200\n"
     ]
    }
   ],
   "source": [
    "w_bar=23\n",
    "\n",
    "l_regularity=7 \n",
    "\n",
    "test_num_x=100\n",
    "XX=np.linspace(-3,4,test_num_x)\n",
    "\n",
    "\n",
    "\n",
    "largest_num=0\n",
    "no_largest=0\n",
    "\n",
    "for j in range(test_num_x):\n",
    "    x_fix=np.array([XX[j]])\n",
    "    for i in range(pn):\n",
    "        Num_particle=N_vec[i]\n",
    "        particle_now = np.array(pd.read_csv(\"burger_eq_particle_number_\"+str(Num_particle)+\".csv\", sep=',',header=None))\n",
    "        \n",
    "        H_set_now=H_set_func(Num_particle, l_regularity+1)\n",
    "        \n",
    "        KDE_s_now=KDE_fun_s(Num_particle, particle_now, kernel_O7_fun, H_set_now)  \n",
    "        \n",
    "        V_vector=np.zeros([H_set_now.size])\n",
    "        A_vector=np.zeros([H_set_now.size])\n",
    "        for i in range(H_set_now.size):\n",
    "            V_vector=V_value(H_set_now, Num_particle, normL2_O7)    \n",
    "        for i in range(H_set_now.size-1):\n",
    "            A_vector[i+1]=A_value(Num_particle,KDE_s_now,H_set_now, normL2_O7, H_set_now[i+1],x_fix)  \n",
    "        \n",
    "        determine_value=determine_fun(V_vector, A_vector, H_set_now)\n",
    "\n",
    "        if determine_value!=8: \n",
    "            no_largest=no_largest+1\n",
    "            print (\"The number of particle is\", Num_particle, \"The test x point is \", x_fix)\n",
    "            print (\"We choose the\", determine_value,\"-th eta.\")\n",
    "        else : largest_num=largest_num+1\n",
    "            \n",
    "print (\"Done!\")\n",
    "print (\"The number of times the largest eta has not been chosen :\", no_largest)\n",
    "print (\"The number of times the largest eta has been chosen :\", largest_num)\n"
   ]
  },
  {
   "cell_type": "code",
   "execution_count": 46,
   "metadata": {},
   "outputs": [],
   "source": [
    "# plot the simulation with 8-th order kernel \n",
    "\n",
    "\n",
    "plot_point_number=2000\n",
    "\n",
    "l_regularity_plus_one=8\n",
    "\n",
    "X_plot = np.linspace(-3,4, plot_point_number)[:, np.newaxis]\n",
    "\n",
    "# curve_1_O7 : the number of particle == 2^5 ; order = 7\n",
    "curve_1_O7=np.zeros(plot_point_number)\n",
    "\n",
    "# curve_2_O7 : the number of particle == 2^10 ; order = 7\n",
    "curve_2_O7=np.zeros(plot_point_number)\n",
    "\n",
    "# curve_3_O7 : the number of particle == 2^15 ; order = 7\n",
    "curve_3_O7=np.zeros(plot_point_number)\n",
    "\n",
    "\n",
    "# compute curve_1_O7\n",
    "particle_num_plot=2**5\n",
    "eta_oracle = (particle_num_plot/np.log(particle_num_plot))**(-1./(2*l_regularity_plus_one+1))\n",
    "density_particle_plot=np.array(pd.read_csv(\"burger_eq_particle_number_\"+str(particle_num_plot)+\".csv\", sep=',',header=None))\n",
    "\n",
    "for j in range(plot_point_number):\n",
    "    curve_1_O7[j]=kernel_O7_fun((X_plot[j]-density_particle_plot)/eta_oracle).sum()/(particle_num_plot*eta_oracle)    \n",
    "\n",
    "    \n",
    "# compute curve_2_O7 \n",
    "particle_num_plot=2**10\n",
    "eta_oracle = (particle_num_plot/np.log(particle_num_plot))**(-1./(2*l_regularity_plus_one+1))\n",
    "density_particle_plot=np.array(pd.read_csv(\"burger_eq_particle_number_\"+str(particle_num_plot)+\".csv\", sep=',',header=None))\n",
    "\n",
    "for j in range(plot_point_number):\n",
    "    curve_2_O7[j]=kernel_O7_fun((X_plot[j]-density_particle_plot)/eta_oracle).sum()/(particle_num_plot*eta_oracle)   \n",
    "    \n",
    "# compute curve_3_O7 \n",
    "particle_num_plot=2**15\n",
    "eta_oracle = (particle_num_plot/np.log(particle_num_plot))**(-1./(2*l_regularity_plus_one+1))\n",
    "density_particle_plot=np.array(pd.read_csv(\"burger_eq_particle_number_\"+str(particle_num_plot)+\".csv\", sep=',',header=None))\n",
    "\n",
    "for j in range(plot_point_number):\n",
    "    curve_3_O7[j]=kernel_O7_fun((X_plot[j]-density_particle_plot)/eta_oracle).sum()/(particle_num_plot*eta_oracle)   \n",
    "    \n",
    "    "
   ]
  },
  {
   "cell_type": "code",
   "execution_count": 47,
   "metadata": {},
   "outputs": [
    {
     "data": {
      "text/plain": [
       "<matplotlib.legend.Legend at 0x7fcadc04bbe0>"
      ]
     },
     "execution_count": 47,
     "metadata": {},
     "output_type": "execute_result"
    },
    {
     "data": {
      "image/png": "[encoded data removed]",
      "text/plain": [
       "<Figure size 720x360 with 1 Axes>"
      ]
     },
     "metadata": {
      "needs_background": "light"
     },
     "output_type": "display_data"
    }
   ],
   "source": [
    "plt.figure(figsize = (10,5))\n",
    "plt.plot(X_plot, curve_1_O7,\"b\",label=\"The number of particle is $2^5$\")\n",
    "plt.plot(X_plot, curve_2_O7,\"r\",label=\"The number of particle is $2^{10}$\")\n",
    "plt.plot(X_plot, curve_3_O7,\"green\",label=\"The number of particle is $2^{15}$\")\n",
    "\n",
    "plt.plot(X_plot, density_true_plot,\"black\",label=\"True density\")\n",
    "\n",
    "plt.title('The order of kernel is 7')\n",
    "\n",
    "plt.legend()"
   ]
  },
  {
   "cell_type": "markdown",
   "metadata": {},
   "source": [
    "### (C) -  Density simulation error (for $\\bar{w}=23$)\n",
    "\n",
    "\n"
   ]
  },
  {
   "cell_type": "code",
   "execution_count": 48,
   "metadata": {},
   "outputs": [
    {
     "name": "stderr",
     "output_type": "stream",
     "text": [
      "  8%|███▋                                        | 1/12 [00:54<09:58, 54.45s/it]"
     ]
    },
    {
     "name": "stdout",
     "output_type": "stream",
     "text": [
      "i= 0 ; the number of particle is 32 ; The optimal bandwidth is 0.8774339624011824 .\n",
      "0 the error is : 0.007241020715447758\n"
     ]
    },
    {
     "name": "stderr",
     "output_type": "stream",
     "text": [
      "\r",
      " 17%|███████▎                                    | 2/12 [01:49<09:07, 54.74s/it]"
     ]
    },
    {
     "name": "stdout",
     "output_type": "stream",
     "text": [
      "i= 1 ; the number of particle is 64 ; The optimal bandwidth is 0.8514605166719212 .\n",
      "1 the error is : 0.003279901275139474\n"
     ]
    },
    {
     "name": "stderr",
     "output_type": "stream",
     "text": [
      "\r",
      " 25%|███████████                                 | 3/12 [02:43<08:12, 54.68s/it]"
     ]
    },
    {
     "name": "stdout",
     "output_type": "stream",
     "text": [
      "i= 2 ; the number of particle is 128 ; The optimal bandwidth is 0.82488786292395 .\n",
      "2 the error is : 0.002877221676726111\n"
     ]
    },
    {
     "name": "stderr",
     "output_type": "stream",
     "text": [
      "\r",
      " 33%|██████████████▋                             | 4/12 [03:39<07:21, 55.15s/it]"
     ]
    },
    {
     "name": "stdout",
     "output_type": "stream",
     "text": [
      "i= 3 ; the number of particle is 256 ; The optimal bandwidth is 0.7981758029274854 .\n",
      "3 the error is : 0.0011048010128499042\n"
     ]
    },
    {
     "name": "stderr",
     "output_type": "stream",
     "text": [
      "\r",
      " 42%|██████████████████▎                         | 5/12 [04:34<06:25, 55.08s/it]"
     ]
    },
    {
     "name": "stdout",
     "output_type": "stream",
     "text": [
      "i= 4 ; the number of particle is 512 ; The optimal bandwidth is 0.7716136164488763 .\n",
      "4 the error is : 0.0009905899426424472\n"
     ]
    },
    {
     "name": "stderr",
     "output_type": "stream",
     "text": [
      "\r",
      " 50%|██████████████████████                      | 6/12 [05:30<05:30, 55.14s/it]"
     ]
    },
    {
     "name": "stdout",
     "output_type": "stream",
     "text": [
      "i= 5 ; the number of particle is 1024 ; The optimal bandwidth is 0.7453904997069756 .\n",
      "5 the error is : 0.0005721049266621737\n"
     ]
    },
    {
     "name": "stderr",
     "output_type": "stream",
     "text": [
      "\r",
      " 58%|█████████████████████████▋                  | 7/12 [06:27<04:38, 55.72s/it]"
     ]
    },
    {
     "name": "stdout",
     "output_type": "stream",
     "text": [
      "i= 6 ; the number of particle is 2048 ; The optimal bandwidth is 0.7196329996424173 .\n",
      "6 the error is : 0.0003107948501466766\n"
     ]
    },
    {
     "name": "stderr",
     "output_type": "stream",
     "text": [
      "\r",
      " 67%|█████████████████████████████▎              | 8/12 [07:26<03:47, 56.97s/it]"
     ]
    },
    {
     "name": "stdout",
     "output_type": "stream",
     "text": [
      "i= 7 ; the number of particle is 4096 ; The optimal bandwidth is 0.6944264909788707 .\n",
      "7 the error is : 0.00022357818784387966\n"
     ]
    },
    {
     "name": "stderr",
     "output_type": "stream",
     "text": [
      "\r",
      " 75%|█████████████████████████████████           | 9/12 [08:32<02:59, 59.83s/it]"
     ]
    },
    {
     "name": "stdout",
     "output_type": "stream",
     "text": [
      "i= 8 ; the number of particle is 8192 ; The optimal bandwidth is 0.6698282545792238 .\n",
      "8 the error is : 0.00014591696171408844\n"
     ]
    },
    {
     "name": "stderr",
     "output_type": "stream",
     "text": [
      "\r",
      " 83%|███████████████████████████████████▊       | 10/12 [09:50<02:10, 65.49s/it]"
     ]
    },
    {
     "name": "stdout",
     "output_type": "stream",
     "text": [
      "i= 9 ; the number of particle is 16384 ; The optimal bandwidth is 0.6458758301993592 .\n",
      "9 the error is : 0.00010087148469728294\n"
     ]
    },
    {
     "name": "stderr",
     "output_type": "stream",
     "text": [
      "\r",
      " 92%|███████████████████████████████████████▍   | 11/12 [11:33<01:16, 76.86s/it]"
     ]
    },
    {
     "name": "stdout",
     "output_type": "stream",
     "text": [
      "i= 10 ; the number of particle is 32768 ; The optimal bandwidth is 0.6225925628563277 .\n",
      "10 the error is : 9.18107878126169e-05\n"
     ]
    },
    {
     "name": "stderr",
     "output_type": "stream",
     "text": [
      "100%|███████████████████████████████████████████| 12/12 [14:08<00:00, 70.74s/it]"
     ]
    },
    {
     "name": "stdout",
     "output_type": "stream",
     "text": [
      "i= 11 ; the number of particle is 65536 ; The optimal bandwidth is 0.5999914065340403 .\n",
      "11 the error is : 7.06248483120188e-05\n"
     ]
    },
    {
     "name": "stderr",
     "output_type": "stream",
     "text": [
      "\n"
     ]
    }
   ],
   "source": [
    "\n",
    "\n",
    "error_N_O7_kernel=[] # Name of the error vector !\n",
    "\n",
    "l_regularity_plus_one=8 # regularity of kernel !\n",
    "\n",
    "for i in tqdm(range(pn)):\n",
    "    error=np.zeros(NNs)\n",
    "    for nns in range(NNs):\n",
    "\n",
    "        density_particle= np.array(pd.read_csv(\"burger_eq_part_number_\"+str(N_vec[i])+\"repeat\"+str(nns)+\".csv\", sep=',',header=None))\n",
    "        \n",
    "        Error_simu_number=1000\n",
    "        \n",
    "        X_simu = np.linspace(-3, 4, Error_simu_number)[:, np.newaxis]\n",
    "        \n",
    "        Error_simu_vec=np.zeros(Error_simu_number)\n",
    "        error_vec=np.zeros(Error_simu_number)\n",
    "        \n",
    "        eta_oracle = (N_vec[i]/np.log(N_vec[i]))**(-1./(2*l_regularity_plus_one+1))\n",
    "        \n",
    "        for j in range(Error_simu_number):\n",
    "            Error_simu_vec[j]=kernel_O7_fun((X_simu[j]-density_particle)/eta_oracle).sum()/(N_vec[i]*eta_oracle) \n",
    "            error_vec[j]=np.abs(Error_simu_vec[j] - density_true(X_simu[j]))\n",
    "\n",
    "        error_one=error_vec.max()**2\n",
    "        error[nns]=error_one\n",
    "        \n",
    "    print (\"i=\",i,\";\", \"the number of particle is\", N_vec[i],\";\", \"The optimal bandwidth is\",eta_oracle, \".\")\n",
    "    print (i,\"the error is :\", error.mean())\n",
    "    \n",
    "    error_N_O7_kernel.append(error.mean()) # Name of the error vector !\n",
    "\n",
    "    np.savetxt(\"error_\"+str(i)+\"_op_Order_7_kernel.csv\", error_N_O7_kernel, delimiter=\",\") \n",
    "\n"
   ]
  },
  {
   "cell_type": "code",
   "execution_count": 49,
   "metadata": {},
   "outputs": [
    {
     "data": {
      "text/plain": [
       "[<matplotlib.lines.Line2D at 0x7fcadd924610>]"
      ]
     },
     "execution_count": 49,
     "metadata": {},
     "output_type": "execute_result"
    },
    {
     "data": {
      "image/png": "[encoded data removed]",
      "text/plain": [
       "<Figure size 576x432 with 1 Axes>"
      ]
     },
     "metadata": {
      "needs_background": "light"
     },
     "output_type": "display_data"
    }
   ],
   "source": [
    "plt.figure(figsize=(8,6))\n",
    "\n",
    "plt.plot(np.log2(N_vec),np.log2(error_N_O7_kernel),\"r\")\n"
   ]
  },
  {
   "cell_type": "code",
   "execution_count": 50,
   "metadata": {},
   "outputs": [
    {
     "name": "stdout",
     "output_type": "stream",
     "text": [
      "The estimate of the slope is [-0.61423948]\n",
      "The estimate of the intercept is -4.498199485392443\n"
     ]
    }
   ],
   "source": [
    "X=np.log2(N_vec).reshape(-1,1)\n",
    "y=np.log2(error_N_O7_kernel)\n",
    "reg_Kernal_O7 = LinearRegression().fit(X, y)\n",
    "print (\"The estimate of the slope is\", reg_Kernal_O7.coef_)\n",
    "print (\"The estimate of the intercept is\", reg_Kernal_O7.intercept_)"
   ]
  },
  {
   "cell_type": "markdown",
   "metadata": {},
   "source": [
    "## 2.7 Kernel order = 9 <a class=\"anchor\" id=\"section2-7\"></a> "
   ]
  },
  {
   "cell_type": "markdown",
   "metadata": {},
   "source": [
    "### (A) -  Distrubtion of optimal bandwidths \n",
    "\n",
    "In the following two cells, we test for 100 values of $x$ in $[-3,4]$. \n"
   ]
  },
  {
   "cell_type": "code",
   "execution_count": 51,
   "metadata": {},
   "outputs": [
    {
     "name": "stderr",
     "output_type": "stream",
     "text": [
      "100%|█████████████████████████████████████████████| 5/5 [07:44<00:00, 92.84s/it]"
     ]
    },
    {
     "name": "stdout",
     "output_type": "stream",
     "text": [
      "Done!\n"
     ]
    },
    {
     "name": "stderr",
     "output_type": "stream",
     "text": [
      "\n"
     ]
    }
   ],
   "source": [
    "w_bar_values=[0.05,0.1,1,10,20]\n",
    "\n",
    "num_w_bar=len(w_bar_values)\n",
    "\n",
    "l_regularity=9                   \n",
    "\n",
    "test_num_x=100\n",
    "XX=np.linspace(-3,4,test_num_x)\n",
    "\n",
    "\n",
    "oracle_choice_O9=np.zeros([num_w_bar,test_num_x*pn]) \n",
    "\n",
    "\n",
    "for num in tqdm(range(num_w_bar)):\n",
    "    w_bar=w_bar_values[num]\n",
    "    for j in range(test_num_x):\n",
    "        x_fix=np.array([XX[j]])\n",
    "        for i_par in range(pn):\n",
    "            Num_particle=N_vec[i_par]\n",
    "            particle_now = np.array(pd.read_csv(\"burger_eq_particle_number_\"+str(Num_particle)+\".csv\", sep=',',header=None))\n",
    "        \n",
    "            H_set_now=H_set_func(Num_particle, l_regularity+1)\n",
    "        \n",
    "            KDE_s_now=KDE_fun_s(Num_particle, particle_now, kernel_O9_fun, H_set_now)  \n",
    "        \n",
    "            V_vector=np.zeros([H_set_now.size])\n",
    "            A_vector=np.zeros([H_set_now.size])\n",
    "            for i in range(H_set_now.size):\n",
    "                V_vector=V_value(H_set_now, Num_particle, normL2_O9)   \n",
    "            for i in range(H_set_now.size-1):\n",
    "                A_vector[i+1]=A_value(Num_particle,KDE_s_now,H_set_now, normL2_O9, H_set_now[i+1],x_fix)\n",
    "        \n",
    "            determine_value=determine_fun(V_vector, A_vector, H_set_now)\n",
    "            oracle_choice_O9[num,i_par*100+j]=determine_value \n",
    "\n",
    "            \n",
    "print (\"Done!\")\n"
   ]
  },
  {
   "cell_type": "code",
   "execution_count": 52,
   "metadata": {},
   "outputs": [
    {
     "data": {
      "image/png": "[encoded data removed]",
      "text/plain": [
       "<Figure size 1296x720 with 1 Axes>"
      ]
     },
     "metadata": {
      "needs_background": "light"
     },
     "output_type": "display_data"
    }
   ],
   "source": [
    "plt.rcParams['text.usetex'] = True\n",
    "\n",
    "fig, ax = plt.subplots(figsize = (18,10))\n",
    "bins = [0.5,1.5,2.5,3.5,4.5,5.5,6.5,7.5,8.5,9.5,10.5]\n",
    "\n",
    "counts, edges, bars = plt.hist([oracle_choice_O9[i,:] for i in range(num_w_bar)],bins,label=[r'$\\bar{\\omega}$=0.05',r'$\\bar{\\omega}$=0.1',r'$\\bar{\\omega}$=1',r'$\\bar{\\omega}$=10',r'$\\bar{\\omega}$=20'])\n",
    "\n",
    "plt.title('The order of kernel is 9',fontsize=18, color='black')\n",
    "for b in bars:\n",
    "    ax.bar_label(b)\n",
    "\n",
    "plt.xticks(range(1,11))\n",
    "plt.legend(loc='upper left')\n",
    "plt.xlabel(r'The bandwidths (\\textit{from left to right}) are $(\\frac{N}{\\log N})^{-1/3}$, $(\\frac{N}{\\log N})^{-1/5}$, $(\\frac{N}{\\log N})^{-1/7}$, $(\\frac{N}{\\log N})^{-1/9}$ , $(\\frac{N}{\\log N})^{-1/11}$ , $(\\frac{N}{\\log N})^{-1/13}$ ,$(\\frac{N}{\\log N})^{-1/15}$ ,$(\\frac{N}{\\log N})^{-1/17}$, $(\\frac{N}{\\log N})^{-1/19}$, $(\\frac{N}{\\log N})^{-1/21}$',fontsize=18, color='black')\n",
    "plt.ylabel(\"Number of choices\")\n",
    "\n",
    "plt.show()"
   ]
  },
  {
   "cell_type": "markdown",
   "metadata": {},
   "source": [
    "### (B) -  Simulated density function for $\\bar{w}=23$"
   ]
  },
  {
   "cell_type": "code",
   "execution_count": 53,
   "metadata": {},
   "outputs": [
    {
     "name": "stdout",
     "output_type": "stream",
     "text": [
      "Done!\n",
      "The number of times the largest eta has not been chosen : 0\n",
      "The number of times the largest eta has been chosen : 1200\n"
     ]
    }
   ],
   "source": [
    "w_bar=23\n",
    "\n",
    "l_regularity=9 \n",
    "\n",
    "test_num_x=100\n",
    "XX=np.linspace(-3,4,test_num_x)\n",
    "\n",
    "\n",
    "\n",
    "largest_num=0\n",
    "no_largest=0\n",
    "\n",
    "for j in range(test_num_x):\n",
    "    x_fix=np.array([XX[j]])\n",
    "    for i in range(pn):\n",
    "        Num_particle=N_vec[i]\n",
    "        particle_now = np.array(pd.read_csv(\"burger_eq_particle_number_\"+str(Num_particle)+\".csv\", sep=',',header=None))\n",
    "        \n",
    "        H_set_now=H_set_func(Num_particle, l_regularity+1)\n",
    "        \n",
    "        KDE_s_now=KDE_fun_s(Num_particle, particle_now, kernel_O9_fun, H_set_now)  \n",
    "        \n",
    "        V_vector=np.zeros([H_set_now.size])\n",
    "        A_vector=np.zeros([H_set_now.size])\n",
    "        for i in range(H_set_now.size):\n",
    "            V_vector=V_value(H_set_now, Num_particle, normL2_O9)   \n",
    "        for i in range(H_set_now.size-1):\n",
    "            A_vector[i+1]=A_value(Num_particle,KDE_s_now,H_set_now, normL2_O9, H_set_now[i+1],x_fix)\n",
    "        \n",
    "        determine_value=determine_fun(V_vector, A_vector, H_set_now)\n",
    "\n",
    "        if determine_value!=10:  # Order 10 here !!!! \n",
    "            no_largest=no_largest+1\n",
    "            print (\"The number of particle is\", Num_particle, \"The test x point is \", x_fix)\n",
    "            print (\"We choose the\", determine_value,\"-th eta.\")\n",
    "        else : largest_num=largest_num+1\n",
    "            \n",
    "print (\"Done!\")\n",
    "print (\"The number of times the largest eta has not been chosen :\", no_largest)\n",
    "print (\"The number of times the largest eta has been chosen :\", largest_num)"
   ]
  },
  {
   "cell_type": "code",
   "execution_count": 54,
   "metadata": {},
   "outputs": [],
   "source": [
    "# plot the simulation with 6-th order kernel \n",
    "\n",
    "\n",
    "plot_point_number=2000\n",
    "\n",
    "l_regularity_plus_one=10\n",
    "\n",
    "X_plot = np.linspace(-3,4, plot_point_number)[:, np.newaxis]\n",
    "\n",
    "# curve_1_O9 : the number of particle == 2^5 ; order = 9\n",
    "curve_1_O9=np.zeros(plot_point_number)\n",
    "\n",
    "# curve_2_O9 : the number of particle == 2^10 ; order = 9\n",
    "curve_2_O9=np.zeros(plot_point_number)\n",
    "\n",
    "# curve_3_O9 : the number of particle == 2^15 ; order = 9\n",
    "curve_3_O9=np.zeros(plot_point_number)\n",
    "\n",
    "\n",
    "# compute curve_1_O9\n",
    "particle_num_plot=2**5\n",
    "eta_oracle = (particle_num_plot/np.log(particle_num_plot))**(-1./(2*l_regularity_plus_one+1))\n",
    "density_particle_plot=np.array(pd.read_csv(\"burger_eq_particle_number_\"+str(particle_num_plot)+\".csv\", sep=',',header=None))\n",
    "\n",
    "for j in range(plot_point_number):\n",
    "    curve_1_O9[j]=kernel_O9_fun((X_plot[j]-density_particle_plot)/eta_oracle).sum()/(particle_num_plot*eta_oracle)    \n",
    "\n",
    "    \n",
    "# compute curve_2_O9\n",
    "particle_num_plot=2**10\n",
    "eta_oracle = (particle_num_plot/np.log(particle_num_plot))**(-1./(2*l_regularity_plus_one+1))\n",
    "density_particle_plot=np.array(pd.read_csv(\"burger_eq_particle_number_\"+str(particle_num_plot)+\".csv\", sep=',',header=None))\n",
    "\n",
    "for j in range(plot_point_number):\n",
    "    curve_2_O9[j]=kernel_O9_fun((X_plot[j]-density_particle_plot)/eta_oracle).sum()/(particle_num_plot*eta_oracle)   \n",
    "    \n",
    "# compute curve_3_O9 \n",
    "particle_num_plot=2**15\n",
    "eta_oracle = (particle_num_plot/np.log(particle_num_plot))**(-1./(2*l_regularity_plus_one+1))\n",
    "density_particle_plot=np.array(pd.read_csv(\"burger_eq_particle_number_\"+str(particle_num_plot)+\".csv\", sep=',',header=None))\n",
    "\n",
    "for j in range(plot_point_number):\n",
    "    curve_3_O9[j]=kernel_O9_fun((X_plot[j]-density_particle_plot)/eta_oracle).sum()/(particle_num_plot*eta_oracle)   \n",
    "    \n",
    "    "
   ]
  },
  {
   "cell_type": "code",
   "execution_count": 55,
   "metadata": {},
   "outputs": [
    {
     "data": {
      "text/plain": [
       "<matplotlib.legend.Legend at 0x7fcaddc608b0>"
      ]
     },
     "execution_count": 55,
     "metadata": {},
     "output_type": "execute_result"
    },
    {
     "data": {
      "image/png": "[encoded data removed]",
      "text/plain": [
       "<Figure size 720x360 with 1 Axes>"
      ]
     },
     "metadata": {
      "needs_background": "light"
     },
     "output_type": "display_data"
    }
   ],
   "source": [
    "plt.figure(figsize = (10,5))\n",
    "plt.plot(X_plot, curve_1_O9,\"b\",label=\"The number of particle is $2^5$\")\n",
    "plt.plot(X_plot, curve_2_O9,\"r\",label=\"The number of particle is $2^{10}$\")\n",
    "plt.plot(X_plot, curve_3_O9,\"green\",label=\"The number of particle is $2^{15}$\")\n",
    "\n",
    "plt.plot(X_plot, density_true_plot,\"black\",label=\"True density\")\n",
    "\n",
    "plt.title('The order of kernel is 9')\n",
    "\n",
    "plt.legend()"
   ]
  },
  {
   "cell_type": "markdown",
   "metadata": {},
   "source": [
    "----------------------\n",
    "\n",
    "**Now we compute the density simulation error of Gaussian higher order kernel (order 10).**\n",
    "\n",
    "In the next code cell, we computer the density simulation error as follows :\n",
    "\n",
    "- (1) For every particle number $N\\in\\{128, 256, 512, 1024, 2048, 4096, 8192, 16384, 32768\\}$, for every particle system $j\\in\\{1, ..., 30\\}$, we simulated a density function by using Gaussian higher order kernel (order 10) with the oracle optimal bandwidth $(\\frac{N}{\\log(N)})^{-\\frac{1}{21}}$. Let $f^{N,j}_{\\text{simu}}$ denote the simulated density function and let $f_{\\text{true}}$ denote the true density function. \n",
    "\n",
    "\n",
    "- (2) We take 1000 points $x\\in[-3,4]$. The simulation error is computed by \n",
    "$$ \\text{Error}_N=\\frac{1}{30}\\sum_{j=1}^{30}\\max_{x\\in[-3,4]}\\big| \\,f^{N,j}_{\\text{simu}}(x)- f_{\\text{true}}(x)\\,\\big|^{2}$$\n",
    "for every particle number $N\\in\\{128, 256, 512, 1024, 2048, 4096, 8192, 16384, 32768\\}$.\n"
   ]
  },
  {
   "cell_type": "code",
   "execution_count": 56,
   "metadata": {},
   "outputs": [
    {
     "name": "stderr",
     "output_type": "stream",
     "text": [
      "  8%|███▋                                        | 1/12 [00:54<09:57, 54.28s/it]"
     ]
    },
    {
     "name": "stdout",
     "output_type": "stream",
     "text": [
      "i= 0 ; the number of particle is 32 ; The optimal bandwidth is 0.8995612463190376 .\n",
      "0 the error is : 0.008676499377569103\n"
     ]
    },
    {
     "name": "stderr",
     "output_type": "stream",
     "text": [
      "\r",
      " 17%|███████▎                                    | 2/12 [01:50<09:13, 55.32s/it]"
     ]
    },
    {
     "name": "stdout",
     "output_type": "stream",
     "text": [
      "i= 1 ; the number of particle is 64 ; The optimal bandwidth is 0.8779433857753511 .\n",
      "1 the error is : 0.004017531359975465\n"
     ]
    },
    {
     "name": "stderr",
     "output_type": "stream",
     "text": [
      "\r",
      " 25%|███████████                                 | 3/12 [02:45<08:17, 55.31s/it]"
     ]
    },
    {
     "name": "stdout",
     "output_type": "stream",
     "text": [
      "i= 2 ; the number of particle is 128 ; The optimal bandwidth is 0.8556963745809647 .\n",
      "2 the error is : 0.0031867338589783457\n"
     ]
    },
    {
     "name": "stderr",
     "output_type": "stream",
     "text": [
      "\r",
      " 33%|██████████████▋                             | 4/12 [03:40<07:19, 54.98s/it]"
     ]
    },
    {
     "name": "stdout",
     "output_type": "stream",
     "text": [
      "i= 3 ; the number of particle is 256 ; The optimal bandwidth is 0.833194609535621 .\n",
      "3 the error is : 0.0012488224496219678\n"
     ]
    },
    {
     "name": "stderr",
     "output_type": "stream",
     "text": [
      "\r",
      " 42%|██████████████████▎                         | 5/12 [04:34<06:23, 54.82s/it]"
     ]
    },
    {
     "name": "stdout",
     "output_type": "stream",
     "text": [
      "i= 4 ; the number of particle is 512 ; The optimal bandwidth is 0.8106763888404129 .\n",
      "4 the error is : 0.0010459427469582511\n"
     ]
    },
    {
     "name": "stderr",
     "output_type": "stream",
     "text": [
      "\r",
      " 50%|██████████████████████                      | 6/12 [05:31<05:33, 55.54s/it]"
     ]
    },
    {
     "name": "stdout",
     "output_type": "stream",
     "text": [
      "i= 5 ; the number of particle is 1024 ; The optimal bandwidth is 0.7883002979044331 .\n",
      "5 the error is : 0.0006162309452055287\n"
     ]
    },
    {
     "name": "stderr",
     "output_type": "stream",
     "text": [
      "\r",
      " 58%|█████████████████████████▋                  | 7/12 [06:29<04:42, 56.41s/it]"
     ]
    },
    {
     "name": "stdout",
     "output_type": "stream",
     "text": [
      "i= 6 ; the number of particle is 2048 ; The optimal bandwidth is 0.7661750568410738 .\n",
      "6 the error is : 0.0002829531556959708\n"
     ]
    },
    {
     "name": "stderr",
     "output_type": "stream",
     "text": [
      "\r",
      " 67%|█████████████████████████████▎              | 8/12 [07:31<03:52, 58.12s/it]"
     ]
    },
    {
     "name": "stdout",
     "output_type": "stream",
     "text": [
      "i= 7 ; the number of particle is 4096 ; The optimal bandwidth is 0.744376583705968 .\n",
      "7 the error is : 0.00024404656105525587\n"
     ]
    },
    {
     "name": "stderr",
     "output_type": "stream",
     "text": [
      "\r",
      " 75%|█████████████████████████████████           | 9/12 [08:42<03:06, 62.15s/it]"
     ]
    },
    {
     "name": "stdout",
     "output_type": "stream",
     "text": [
      "i= 8 ; the number of particle is 8192 ; The optimal bandwidth is 0.7229583523676978 .\n",
      "8 the error is : 0.00015749753129606594\n"
     ]
    },
    {
     "name": "stderr",
     "output_type": "stream",
     "text": [
      "\r",
      " 83%|███████████████████████████████████▊       | 10/12 [10:11<02:21, 70.55s/it]"
     ]
    },
    {
     "name": "stdout",
     "output_type": "stream",
     "text": [
      "i= 9 ; the number of particle is 16384 ; The optimal bandwidth is 0.7019579900763208 .\n",
      "9 the error is : 0.00011267220217608668\n"
     ]
    },
    {
     "name": "stderr",
     "output_type": "stream",
     "text": [
      "\r",
      " 92%|███████████████████████████████████████▍   | 11/12 [12:16<01:27, 87.04s/it]"
     ]
    },
    {
     "name": "stdout",
     "output_type": "stream",
     "text": [
      "i= 10 ; the number of particle is 32768 ; The optimal bandwidth is 0.6814016490218607 .\n",
      "10 the error is : 0.00010581858150485243\n"
     ]
    },
    {
     "name": "stderr",
     "output_type": "stream",
     "text": [
      "100%|███████████████████████████████████████████| 12/12 [15:28<00:00, 77.38s/it]"
     ]
    },
    {
     "name": "stdout",
     "output_type": "stream",
     "text": [
      "i= 11 ; the number of particle is 65536 ; The optimal bandwidth is 0.661306999835539 .\n",
      "11 the error is : 8.864222726253064e-05\n"
     ]
    },
    {
     "name": "stderr",
     "output_type": "stream",
     "text": [
      "\n"
     ]
    }
   ],
   "source": [
    "error_N_O9_kernel=[] \n",
    "\n",
    "l_regularity_plus_one=10\n",
    "\n",
    "for i in tqdm(range(pn)):\n",
    "    error=np.zeros(NNs)\n",
    "    for nns in range(NNs):\n",
    "\n",
    "        density_particle= np.array(pd.read_csv(\"burger_eq_part_number_\"+str(N_vec[i])+\"repeat\"+str(nns)+\".csv\", sep=',',header=None))\n",
    "        \n",
    "        Error_simu_number=1000\n",
    "        \n",
    "        X_simu = np.linspace(-3, 4, Error_simu_number)[:, np.newaxis]\n",
    "        \n",
    "        Error_simu_vec=np.zeros(Error_simu_number)\n",
    "        error_vec=np.zeros(Error_simu_number)\n",
    "        \n",
    "        eta_oracle = (N_vec[i]/np.log(N_vec[i]))**(-1./(2*l_regularity_plus_one+1))\n",
    "        \n",
    "        for j in range(Error_simu_number):\n",
    "            Error_simu_vec[j]=kernel_O9_fun((X_simu[j]-density_particle)/eta_oracle).sum()/(N_vec[i]*eta_oracle) ##O8!  \n",
    "            error_vec[j]=np.abs(Error_simu_vec[j] - density_true(X_simu[j]))\n",
    "\n",
    "        error_one=error_vec.max()**2\n",
    "        error[nns]=error_one\n",
    "        \n",
    "    print (\"i=\",i,\";\", \"the number of particle is\", N_vec[i],\";\", \"The optimal bandwidth is\",eta_oracle, \".\")\n",
    "    print (i,\"the error is :\", error.mean())\n",
    "    \n",
    "    error_N_O9_kernel.append(error.mean()) # Name of the error vector !\n",
    "\n",
    "    np.savetxt(\"error_\"+str(i)+\"_op_Order_9_kernel.csv\", error_N_O9_kernel, delimiter=\",\") \n"
   ]
  },
  {
   "cell_type": "code",
   "execution_count": 57,
   "metadata": {},
   "outputs": [
    {
     "data": {
      "text/plain": [
       "[<matplotlib.lines.Line2D at 0x7fcadda9ca00>]"
      ]
     },
     "execution_count": 57,
     "metadata": {},
     "output_type": "execute_result"
    },
    {
     "data": {
      "image/png": "[encoded data removed]",
      "text/plain": [
       "<Figure size 576x432 with 1 Axes>"
      ]
     },
     "metadata": {
      "needs_background": "light"
     },
     "output_type": "display_data"
    }
   ],
   "source": [
    "plt.figure(figsize=(8,6))\n",
    "\n",
    "plt.plot(np.log2(N_vec),np.log2(error_N_O9_kernel),\"r\")\n"
   ]
  },
  {
   "cell_type": "code",
   "execution_count": 58,
   "metadata": {},
   "outputs": [
    {
     "name": "stdout",
     "output_type": "stream",
     "text": [
      "The estimate of the slope is [-0.61564029]\n",
      "The estimate of the intercept is -4.328754007968096\n"
     ]
    }
   ],
   "source": [
    "X=np.log2(N_vec).reshape(-1,1)\n",
    "y=np.log2(error_N_O9_kernel)\n",
    "reg_Kernal_O9 = LinearRegression().fit(X, y)\n",
    "print (\"The estimate of the slope is\", reg_Kernal_O9.coef_)\n",
    "print (\"The estimate of the intercept is\", reg_Kernal_O9.intercept_)"
   ]
  },
  {
   "cell_type": "markdown",
   "metadata": {},
   "source": [
    "## 2.8 Comparison of simulated densities with different kernels <a class=\"anchor\" id=\"section2-8\"></a> \n",
    "\n"
   ]
  },
  {
   "cell_type": "markdown",
   "metadata": {},
   "source": [
    "The next cell compares the simulated densities with different kernels for $2^5$ particles. \n"
   ]
  },
  {
   "cell_type": "code",
   "execution_count": 59,
   "metadata": {},
   "outputs": [
    {
     "data": {
      "image/png": "[encoded data removed]",
      "text/plain": [
       "<Figure size 648x360 with 1 Axes>"
      ]
     },
     "metadata": {
      "needs_background": "light"
     },
     "output_type": "display_data"
    }
   ],
   "source": [
    "plt.figure(figsize = (9,5))\n",
    "plt.plot(X_plot, curve_1_O1,\"purple\",label=\"Order 1\")\n",
    "\n",
    "plt.plot(X_plot, curve_1_O3,\"b\",label=\"Order 3\")\n",
    "plt.plot(X_plot, curve_1_O5,\"r\",label=\"Order 5\")\n",
    "plt.plot(X_plot, curve_1_O7,\"orange\",label=\"Order 7\")\n",
    "plt.plot(X_plot, curve_1_O9,\"green\",label=\"Order 9\")\n",
    "\n",
    "\n",
    "plt.plot(X_plot, density_true_plot,\"black\",label=\"True density\")\n",
    "plt.legend()\n",
    "#plt.title('The number of particle is $2^5$')\n",
    "plt.savefig('burgers_density_simu_particle6.png')\n",
    "\n",
    "\n"
   ]
  },
  {
   "cell_type": "markdown",
   "metadata": {},
   "source": [
    "The next cell compares the simulated densities with different kernels for $2^{10}$ particles. \n"
   ]
  },
  {
   "cell_type": "code",
   "execution_count": 60,
   "metadata": {},
   "outputs": [
    {
     "data": {
      "image/png": "[encoded data removed]",
      "text/plain": [
       "<Figure size 648x360 with 1 Axes>"
      ]
     },
     "metadata": {
      "needs_background": "light"
     },
     "output_type": "display_data"
    }
   ],
   "source": [
    "plt.figure(figsize = (9,5))\n",
    "plt.plot(X_plot, curve_2_O1,\"purple\",label=\"Order 1\")\n",
    "\n",
    "plt.plot(X_plot, curve_2_O3,\"b\",label=\"Order 3\")\n",
    "plt.plot(X_plot, curve_2_O5,\"r\",label=\"Order 5\")\n",
    "plt.plot(X_plot, curve_2_O7,\"orange\",label=\"Order 7\")\n",
    "plt.plot(X_plot, curve_2_O9,\"green\",label=\"Order 9\")\n",
    "\n",
    "\n",
    "plt.plot(X_plot, density_true_plot,\"black\",label=\"True density\")\n",
    "plt.legend()\n",
    "#plt.title('The number of particle is $2^{10}$')\n",
    "plt.savefig('burgers_density_simu_particle10.png')\n",
    "\n",
    "\n"
   ]
  },
  {
   "cell_type": "markdown",
   "metadata": {},
   "source": [
    "The next cell compares the simulated densities with different kernels for $2^{15}$ particles. "
   ]
  },
  {
   "cell_type": "code",
   "execution_count": 61,
   "metadata": {},
   "outputs": [
    {
     "data": {
      "image/png": "[encoded data removed]",
      "text/plain": [
       "<Figure size 648x360 with 1 Axes>"
      ]
     },
     "metadata": {
      "needs_background": "light"
     },
     "output_type": "display_data"
    }
   ],
   "source": [
    "plt.figure(figsize = (9,5))\n",
    "plt.plot(X_plot, curve_3_O1,\"purple\",label=\"Order 1\")\n",
    "\n",
    "plt.plot(X_plot, curve_3_O3,\"b\",label=\"Order 3\")\n",
    "plt.plot(X_plot, curve_3_O5,\"r\",label=\"Order 5\")\n",
    "plt.plot(X_plot, curve_3_O7,\"orange\",label=\"Order 7\")\n",
    "plt.plot(X_plot, curve_3_O9,\"green\",label=\"Order 9\")\n",
    "\n",
    "\n",
    "plt.plot(X_plot, density_true_plot,\"black\",label=\"True density\")\n",
    "plt.legend()\n",
    "#plt.title('The number of particle is $2^{15}$')\n",
    "plt.savefig('burgers_density_simu_particle15.png')\n",
    "\n",
    "\n"
   ]
  },
  {
   "cell_type": "markdown",
   "metadata": {},
   "source": [
    "-----------------------\n",
    "\n",
    "### Error Comparison for different order kernel \n",
    "\n",
    "The next cell shows the log-log error curves of the density simulation with different Gaussian high order kernels for $l=1$ (purple), $l=3$ (blue), $l=5$ (red), $l=7$ (orange), $l=9$ (green). "
   ]
  },
  {
   "cell_type": "code",
   "execution_count": 62,
   "metadata": {},
   "outputs": [
    {
     "data": {
      "image/png": "[encoded data removed]",
      "text/plain": [
       "<Figure size 720x576 with 1 Axes>"
      ]
     },
     "metadata": {
      "needs_background": "light"
     },
     "output_type": "display_data"
    }
   ],
   "source": [
    "\n",
    "plt.figure(figsize = (10,8))\n",
    "plt.plot(np.log2(N_vec), np.log2(error_N_Gaussian_kernel),\"purple\") # ,label=\"Order 1\"\n",
    "plt.plot(np.log2(N_vec), np.log2(error_N_O3_kernel),\"b\") # ,label=\"Order 3\"\n",
    "plt.plot(np.log2(N_vec), np.log2(error_N_O5_kernel),\"r\") # ,label=\"Order 5\"\n",
    "plt.plot(np.log2(N_vec), np.log2(error_N_O7_kernel),\"orange\") # ,label=\"Order 7\"\n",
    "plt.plot(np.log2(N_vec), np.log2(error_N_O9_kernel),\"green\") # ,label=\"Order 9\"\n",
    "plt.savefig('strong_error_burgers.png')\n",
    "#plt.legend()"
   ]
  },
  {
   "cell_type": "markdown",
   "metadata": {},
   "source": [
    "The next cell shows the slopes $a_l$ of the above figure as a function of the kernal order $l$. "
   ]
  },
  {
   "cell_type": "code",
   "execution_count": 63,
   "metadata": {},
   "outputs": [
    {
     "data": {
      "image/png": "[encoded data removed]",
      "text/plain": [
       "<Figure size 576x432 with 1 Axes>"
      ]
     },
     "metadata": {
      "needs_background": "light"
     },
     "output_type": "display_data"
    }
   ],
   "source": [
    "slope_vec=np.array([reg_Gaussian.coef_,reg_Kernal_O3.coef_,reg_Kernal_O5.coef_,reg_Kernal_O7.coef_,reg_Kernal_O9.coef_])\n",
    "\n",
    "plt.figure(figsize = (8,6))\n",
    "plt.plot(np.array([1,3,5,7,9]),slope_vec,\"o-\")\n",
    "plt.xticks([1,3,5,7,9])\n",
    "plt.savefig('strong_error_slope_burgers.png')\n"
   ]
  },
  {
   "cell_type": "code",
   "execution_count": null,
   "metadata": {},
   "outputs": [],
   "source": []
  },
  {
   "cell_type": "code",
   "execution_count": null,
   "metadata": {},
   "outputs": [],
   "source": []
  }
 ],
 "metadata": {
  "kernelspec": {
   "display_name": "Python 3 (ipykernel)",
   "language": "python",
   "name": "python3"
  },
  "language_info": {
   "codemirror_mode": {
    "name": "ipython",
    "version": 3
   },
   "file_extension": ".py",
   "mimetype": "text/x-python",
   "name": "python",
   "nbconvert_exporter": "python",
   "pygments_lexer": "ipython3",
   "version": "3.9.12"
  }
 },
 "nbformat": 4,
 "nbformat_minor": 4
}
