{
  "cells": [
    {
      "cell_type": "markdown",
      "metadata": {
        "id": "y1NQVDEFzJgw"
      },
      "source": [
        "# Density simulation of a McKean-Vlasov SDE with linear interaction\n",
        "\n",
        "This notebook implements the simulations described in Section 3.1 of\n",
        "\n",
        "- Hoffmann, M. and Liu, Y (2023). A statistical approach for simulating the density solution of a McKean-Vlasov equation.\n",
        "\n",
        "-------------------------------\n",
        "\n",
        "**Contents**\n",
        "\n",
        "* [1. Definition of the McKean-Vlasov equation, the particle system and the Euler scheme](#chapter1)\n",
        "\n",
        "* [2. Density simulation with Gaussian-based high order Kernels](#chapter2)\n",
        "\n",
        "    * [2.1 Definition of Gaussian-based high order Kernels](#section2-1)\n",
        "    \n",
        "    * [2.2 Gaussian Kernel ( Kernel Order = 1 )](#section2-2)\n",
        "    \n",
        "    * [2.3 Kernel Order = 3](#section2-3)\n",
        "    \n",
        "    * [2.4 Kernel Order = 5](#section2-4)\n",
        "    \n",
        "    * [2.5 Kernel Order = 7](#section2-5)\n",
        "    \n",
        "    * [2.6 Kernel Order = 9](#section2-6)\n",
        "    \n",
        "    * [2.7 Comparison of simulation results with different kernels](#section2-7)\n",
        "\n",
        "-------------------------------"
      ]
    },
    {
      "cell_type": "code",
      "execution_count": null,
      "metadata": {
        "id": "MXP_mpRqzJgz"
      },
      "outputs": [],
      "source": [
        "import numpy as np\n",
        "import matplotlib.pyplot as plt\n",
        "from tqdm import tqdm\n",
        "import random\n",
        "\n",
        "import pandas as pd\n",
        "from scipy.stats import norm\n",
        "from sklearn.linear_model import LinearRegression"
      ]
    },
    {
      "cell_type": "markdown",
      "metadata": {
        "id": "LSXsk07EzJg0"
      },
      "source": [
        "## 1. Definition of the McKean-Vlasov equation, the particle system and the Euler scheme <a class=\"anchor\" id=\"chapter1\"></a>\n"
      ]
    },
    {
      "cell_type": "markdown",
      "metadata": {
        "id": "eP1ETuxxzJg0"
      },
      "source": [
        "We consider a stochastic process $(X_t)_{t\\in[0, T]}$ defined by the following McKean-Vlasov SDE with linear interaction\n",
        "\n",
        "$$dX_t = - \\int_{\\mathbb{R}}(X_t-x)\\mu_t(dx)dt+dB_t\\quad \\text{with}\\quad X_0\\sim \\mathcal{N}(3, \\frac{1}{2}),\\hspace{2cm}(1)$$\n",
        "\n",
        "where for every  $t\\in[0,T]$, $\\mu_t$ denotes the probability distrubtion of $X_t$.  This process $(X_t)_{t\\in[0, T]}$ is a stationary Ornstein-Uhlenbeck process, namely, for every $t\\in[0,T], \\; \\mu_t=\\mathcal{N}(3, \\frac{1}{2})$."
      ]
    },
    {
      "cell_type": "markdown",
      "metadata": {
        "id": "aqI6zOJvzJg0"
      },
      "source": [
        "Let $N$ be the number of particles. The $N$-particle system $(X_t^{1}, ..., X_t^{N})_{t\\in[0,T]}$ corresponding to Equation (1) is defined as follows :\n",
        "\n",
        "\n",
        "\\begin{equation}\n",
        "dX_t^{n}=- \\frac{1}{N} \\sum_{i=1}^{N}\\big(X_t^{n}-X_t^{i}\\big) dt+\\sigma B_t^{n}.\\hspace{2cm}(2)\n",
        "\\end{equation}"
      ]
    },
    {
      "cell_type": "markdown",
      "metadata": {
        "id": "Ux2qQLLPzJg1"
      },
      "source": [
        "Let $M$ denote the time discretization number for the Euler scheme. Set $h=\\frac{T}{M}$ and $t_m=m\\cdot h, 0\\leq m\\leq M$. Combining the particle system (2) and the Euler scheme, we obtain the following discrete particle system :\n",
        "\n",
        "\\begin{equation}\n",
        "X^{n}_{t_{m+1}}=X^{n}_{t_{m}}+h\\cdot  \\frac{1}{N}\\sum_{i=1}^{N}\\Big(X_{t_m}^{i}-X_{t_m}^{n}\\Big)+\\sqrt{h} Z_{m+1}^{n},\\quad 1\\leq n\\leq N,\n",
        "\\end{equation}\n",
        "where $ \\: Z_{m+1}^{n}:=\\frac{1}{\\sqrt{h}}(B^n_{t_{m+1}}-B^n_{t_{m}})$ are i.i.d random variables having the standard normal distribution $\\mathcal{N}(0,1)$."
      ]
    },
    {
      "cell_type": "markdown",
      "metadata": {
        "id": "fzRfgFTnzJg1"
      },
      "source": [
        "* In this notebook, we fix $T=1$ and $M=100$."
      ]
    },
    {
      "cell_type": "code",
      "execution_count": null,
      "metadata": {
        "id": "9EYEgmm7zJg1"
      },
      "outputs": [],
      "source": [
        "# Parameters\n",
        "\n",
        "T=1.\n",
        "M=100  # Time discretization number\n",
        "h=T/M  # Time step\n",
        "\n",
        "m_X0=3  # Mean of the distribution of X_0"
      ]
    },
    {
      "cell_type": "markdown",
      "metadata": {
        "id": "G9Of9EHfzJg1"
      },
      "source": [
        "In the next cell, the function `Euler_one_step` defines the operator of the Euler scheme for one time step."
      ]
    },
    {
      "cell_type": "code",
      "execution_count": null,
      "metadata": {
        "id": "t7eJytpgzJg2"
      },
      "outputs": [],
      "source": [
        "def Euler_one_step(X_in,N_in):\n",
        "    nn=np.ones(N_in)/N_in\n",
        "    EXin=np.dot(nn,X_in)\n",
        "    X_out=X_in+h*(EXin-X_in)+np.sqrt(h)*np.random.normal(0, 1, N_in)\n",
        "    return X_out"
      ]
    },
    {
      "cell_type": "markdown",
      "metadata": {
        "id": "OgTd72XVzJg2"
      },
      "source": [
        "We consider different particle numbers : $N\\in\\{2^7=128, 2^8=256, ..., 2^{15}=32768\\}$."
      ]
    },
    {
      "cell_type": "code",
      "execution_count": null,
      "metadata": {
        "id": "WSse8EZozJg2",
        "outputId": "3482c8b1-adaa-4ca4-8ee4-c2fcb2863065"
      },
      "outputs": [
        {
          "name": "stdout",
          "output_type": "stream",
          "text": [
            "[ 7.  8.  9. 10. 11. 12. 13. 14. 15.]\n",
            "[  128   256   512  1024  2048  4096  8192 16384 32768]\n"
          ]
        }
      ],
      "source": [
        "pn=9\n",
        "N_power=np.linspace(7,15,pn)\n",
        "print (N_power)\n",
        "\n",
        "N_vec=2**N_power.astype(int) # Number of particles, from 2^7 to 2^15\n",
        "print (N_vec)"
      ]
    },
    {
      "cell_type": "markdown",
      "metadata": {
        "id": "sOThaJ0RzJg2"
      },
      "source": [
        "First, we compute and save the particle systems at time T=1 with different particle numbers in `N_vec`. For each given particle number, we implement 30 identical and independent simulations."
      ]
    },
    {
      "cell_type": "code",
      "execution_count": null,
      "metadata": {
        "id": "OkZNKmoLzJg2",
        "outputId": "44febbfe-6e79-4d4e-c46c-13a44cf3d09e"
      },
      "outputs": [
        {
          "name": "stderr",
          "output_type": "stream",
          "text": [
            "100%|█████████████████████████████████████████████| 9/9 [00:25<00:00,  2.78s/it]\n"
          ]
        }
      ],
      "source": [
        "# Number of identical and independent simulations\n",
        "\n",
        "NNs=30\n",
        "\n",
        "for i in tqdm(range(pn)):\n",
        "    for nns in range(NNs):\n",
        "        particle_process=np.zeros((N_vec[i],M))\n",
        "        particle_process[:,0]=np.random.normal(m_X0, np.sqrt(1/2), N_vec[i])\n",
        "\n",
        "        for m in range(M-1):\n",
        "            particle_process[:,m+1]=Euler_one_step(particle_process[:,m],N_vec[i])\n",
        "\n",
        "        np.savetxt(\"particle_num_\"+str(N_vec[i])+\"repeat\"+str(nns)+\".csv\", particle_process[:,-1], delimiter=\",\")\n"
      ]
    },
    {
      "cell_type": "markdown",
      "metadata": {
        "id": "oCbcVdYjzJg3"
      },
      "source": [
        "The following cell defines the true density function of $X_t$, for every $t\\in[0,T]$, which is the density function of the normal distribution $\\mathcal{N}(3,\\frac{1}{2})$."
      ]
    },
    {
      "cell_type": "code",
      "execution_count": null,
      "metadata": {
        "id": "rOijaA2uzJg3"
      },
      "outputs": [],
      "source": [
        "# Definition of the true density function\n",
        "\n",
        "def density_true(x_in):\n",
        "    return norm.pdf(x_in,m_X0,np.sqrt(1/2))\n"
      ]
    },
    {
      "cell_type": "markdown",
      "metadata": {
        "id": "wrGFgmtYzJg3"
      },
      "source": [
        "-------------------\n",
        "\n",
        "\n",
        "# 2. Density simulation with Gaussian-based high order Kernel <a class=\"anchor\" id=\"chapter2\"></a>"
      ]
    },
    {
      "cell_type": "markdown",
      "metadata": {
        "id": "goQBN-NTzJg3"
      },
      "source": [
        "In this section, we simulate the density of $X_t$ with the optimal bandwidth choice defined in Corollary 2.11 of [Hoffmann, M. and Liu, Y (2023)]\n",
        "\n",
        "$$\\eta_{\\text{opt}}=N^{-\\frac{1}{2(l+1)+1}},$$\n",
        "\n",
        "where $N$ is the number of particles and $l$ is the order of the Kernel. The error $\\mathbb{E}\\Big[\\,\\big|\\,\\widehat{\\mu}_T^{N, h, \\eta}(x)-\\mu_T(x)\\,\\big|^2\\Big]$ is approximated by\n",
        "\n",
        "$$\\varepsilon_N=\\frac{1}{30}\\sum_{j=1}^{30}\\max_{x\\in\\mathcal{D}}\\Big|\\;\\big(\\widehat{\\mu}_T^{N, h, \\eta}\\big)_j(x)-\\mu_T(x)\\;\\Big|^{\\,2},$$\n",
        "\n",
        "where $\\big(\\widehat{\\mu}_T^{N, h, \\eta}\\big)_j, \\, 1\\leq j\\leq 30$ are simulated density functions based on the above 30 independent particle systems and the domain $\\mathcal{D}$ is a uniform grid of 1000 points in [0,6]."
      ]
    },
    {
      "cell_type": "markdown",
      "metadata": {
        "id": "xQZh6VQCzJg3"
      },
      "source": [
        "## 2.1 Definition of Gaussian-based high order kernel <a class=\"anchor\" id=\"section2-1\"></a>\n",
        "\n",
        "\n",
        "\n",
        "The Gaussian-based high order kernels that we use in this notebook are\n",
        "- Order 1 : $\\phi(x)=\\frac{1}{\\sqrt{2\\pi}}\\exp\\big(-\\frac{x^2}{2}\\big)$\n",
        "\n",
        "\n",
        "\n",
        "- Order 3 : $\\frac{1}{2}(3-x^2)\\,\\phi(x)$\n",
        "\n",
        "\n",
        "\n",
        "- Order 5 : $\\frac{1}{8}(15-10x^2+x^4)\\,\\phi(x)$\n",
        "\n",
        "\n",
        "\n",
        "- Order 7 : $\\frac{1}{48}(105-105x^2+21x^4-x^6)\\,\\phi(x)$\n",
        "\n",
        "\n",
        "\n",
        "- Order 9 : $\\frac{1}{384}(945-1260x^2+378x^4-36x^6+x^8)\\,\\phi(x)$\n",
        "\n",
        "\n",
        "which are defined in the following paper (see Table 1):\n",
        "\n",
        "- Wand, Matthew P., and William R. Schucany. \"Gaussian‐based kernels.\" Canadian Journal of Statistics 18, no. 3 (1990): 197-204.\n",
        "\n"
      ]
    },
    {
      "cell_type": "code",
      "execution_count": null,
      "metadata": {
        "id": "VAVvjRPtzJg3"
      },
      "outputs": [],
      "source": [
        "# Kernel order 1\n",
        "\n",
        "def kernel_O1(x_in):\n",
        "    return np.exp(-0.5*(x_in**2))/np.sqrt(2*np.pi)\n",
        "\n",
        "kernel_O1_fun = lambda x: np.exp(-0.5*(x**2))/np.sqrt(2*np.pi)\n",
        "\n",
        "# Kernel order 3\n",
        "\n",
        "def kernel_O3(x_in):\n",
        "    return 0.5*(3-x_in**2)*np.exp(-0.5*(x_in**2))/np.sqrt(2*np.pi)\n",
        "\n",
        "kernel_O3_fun = lambda x: 0.5*(3-x**2)*np.exp(-0.5*(x**2))/np.sqrt(2*np.pi)\n",
        "\n",
        "# Kernel order 5\n",
        "\n",
        "def kernel_O5(x_in):\n",
        "    return (15-10*x_in**2+x_in**4)*np.exp(-0.5*(x_in**2))/np.sqrt(2*np.pi)/8\n",
        "\n",
        "kernel_O5_fun = lambda x: (15-10*x**2+x**4)*np.exp(-0.5*(x**2))/np.sqrt(2*np.pi)/8\n",
        "\n",
        "# Kernel order 7\n",
        "\n",
        "def kernel_O7(x_in):\n",
        "    return (105-105*x_in**2+21*x_in**4-x_in**6)*np.exp(-0.5*(x_in**2))/np.sqrt(2*np.pi)/48\n",
        "\n",
        "kernel_O7_fun = lambda x: (105-105*x**2+21*x**4-x**6)*np.exp(-0.5*(x**2))/np.sqrt(2*np.pi)/48\n",
        "\n",
        "# Kernel order 9\n",
        "\n",
        "def kernel_O9(x_in):\n",
        "    return (945-1260*x_in**2+378*x_in**4-36*x_in**6+x_in**8)*np.exp(-0.5*(x_in**2))/np.sqrt(2*np.pi)/384\n",
        "\n",
        "kernel_O9_fun = lambda x: (945-1260*x**2+378*x**4-36*x**6+x**8)*np.exp(-0.5*(x**2))/np.sqrt(2*np.pi)/384\n"
      ]
    },
    {
      "cell_type": "code",
      "execution_count": null,
      "metadata": {
        "id": "vQJzCNOczJg4",
        "outputId": "649ce48e-6022-4c73-cfad-22fd83dfdbc0"
      },
      "outputs": [
        {
          "data": {
            "image/png": "[encoded data removed]",
            "text/plain": [
              "<Figure size 720x576 with 6 Axes>"
            ]
          },
          "metadata": {
            "needs_background": "light"
          },
          "output_type": "display_data"
        }
      ],
      "source": [
        "test_xx=np.linspace(-5,5,1000)\n",
        "Kernel_O1_plot=kernel_O1_fun(test_xx)\n",
        "Kernel_O3_plot=kernel_O3_fun(test_xx)\n",
        "Kernel_O5_plot=kernel_O5_fun(test_xx)\n",
        "Kernel_O7_plot=kernel_O7_fun(test_xx)\n",
        "Kernel_O9_plot=kernel_O9_fun(test_xx)\n",
        "\n",
        "\n",
        "fig, axs = plt.subplots(3, 2, figsize=(10,8))\n",
        "axs[0, 0].plot(test_xx, Kernel_O1_plot)\n",
        "axs[0, 0].set_title('Kernel order 1')\n",
        "axs[0, 1].plot(test_xx, Kernel_O3_plot)\n",
        "axs[0, 1].set_title('Kernel order 3')\n",
        "axs[1, 0].plot(test_xx, Kernel_O5_plot, 'tab:orange')\n",
        "axs[1, 0].set_title('Kernel order 5')\n",
        "axs[1, 1].plot(test_xx, Kernel_O7_plot, 'tab:green')\n",
        "axs[1, 1].set_title('Kernel order 7')\n",
        "axs[2, 0].plot(test_xx, Kernel_O9_plot, 'tab:red')\n",
        "axs[2, 0].set_title('Kernel order 9')\n",
        "axs[2, 1].axis('off')\n",
        "fig.tight_layout()"
      ]
    },
    {
      "cell_type": "markdown",
      "metadata": {
        "id": "kou0qq1lzJg4"
      },
      "source": [
        "## 2.2 Gaussian Kernel ( Kernel Order = 1 ) <a class=\"anchor\" id=\"section2-2\"></a>\n"
      ]
    },
    {
      "cell_type": "code",
      "execution_count": null,
      "metadata": {
        "id": "uMWdYlVmzJg4",
        "outputId": "2b107089-4a26-4bb4-e9df-c8e7e2521a35"
      },
      "outputs": [
        {
          "name": "stderr",
          "output_type": "stream",
          "text": [
            " 11%|█████                                        | 1/9 [00:03<00:26,  3.29s/it]"
          ]
        },
        {
          "name": "stdout",
          "output_type": "stream",
          "text": [
            "i= 0 ; the number of particle is 128 ; The optimal bandwidth is 0.3789291416275995 .\n",
            "0 the error is : 0.007727871245047099\n"
          ]
        },
        {
          "name": "stderr",
          "output_type": "stream",
          "text": [
            "\r",
            " 22%|██████████                                   | 2/9 [00:06<00:23,  3.29s/it]"
          ]
        },
        {
          "name": "stdout",
          "output_type": "stream",
          "text": [
            "i= 1 ; the number of particle is 256 ; The optimal bandwidth is 0.32987697769322355 .\n",
            "1 the error is : 0.0048755370423037014\n"
          ]
        },
        {
          "name": "stderr",
          "output_type": "stream",
          "text": [
            "\r",
            " 33%|███████████████                              | 3/9 [00:10<00:20,  3.36s/it]"
          ]
        },
        {
          "name": "stdout",
          "output_type": "stream",
          "text": [
            "i= 2 ; the number of particle is 512 ; The optimal bandwidth is 0.2871745887492587 .\n",
            "2 the error is : 0.003764142409511425\n"
          ]
        },
        {
          "name": "stderr",
          "output_type": "stream",
          "text": [
            "\r",
            " 44%|████████████████████                         | 4/9 [00:13<00:17,  3.43s/it]"
          ]
        },
        {
          "name": "stdout",
          "output_type": "stream",
          "text": [
            "i= 3 ; the number of particle is 1024 ; The optimal bandwidth is 0.24999999999999997 .\n",
            "3 the error is : 0.0017576497470290944\n"
          ]
        },
        {
          "name": "stderr",
          "output_type": "stream",
          "text": [
            "\r",
            " 56%|█████████████████████████                    | 5/9 [00:17<00:14,  3.57s/it]"
          ]
        },
        {
          "name": "stdout",
          "output_type": "stream",
          "text": [
            "i= 4 ; the number of particle is 2048 ; The optimal bandwidth is 0.217637640824031 .\n",
            "4 the error is : 0.0013028398248083504\n"
          ]
        },
        {
          "name": "stderr",
          "output_type": "stream",
          "text": [
            "\r",
            " 67%|██████████████████████████████               | 6/9 [00:22<00:11,  3.97s/it]"
          ]
        },
        {
          "name": "stdout",
          "output_type": "stream",
          "text": [
            "i= 5 ; the number of particle is 4096 ; The optimal bandwidth is 0.18946457081379975 .\n",
            "5 the error is : 0.0009298815737459299\n"
          ]
        },
        {
          "name": "stderr",
          "output_type": "stream",
          "text": [
            "\r",
            " 78%|███████████████████████████████████          | 7/9 [00:28<00:09,  4.60s/it]"
          ]
        },
        {
          "name": "stdout",
          "output_type": "stream",
          "text": [
            "i= 6 ; the number of particle is 8192 ; The optimal bandwidth is 0.16493848884661177 .\n",
            "6 the error is : 0.0005485441748598086\n"
          ]
        },
        {
          "name": "stderr",
          "output_type": "stream",
          "text": [
            "\r",
            " 89%|████████████████████████████████████████     | 8/9 [00:36<00:05,  5.82s/it]"
          ]
        },
        {
          "name": "stdout",
          "output_type": "stream",
          "text": [
            "i= 7 ; the number of particle is 16384 ; The optimal bandwidth is 0.14358729437462936 .\n",
            "7 the error is : 0.0004132562140446379\n"
          ]
        },
        {
          "name": "stderr",
          "output_type": "stream",
          "text": [
            "100%|█████████████████████████████████████████████| 9/9 [00:51<00:00,  5.69s/it]"
          ]
        },
        {
          "name": "stdout",
          "output_type": "stream",
          "text": [
            "i= 8 ; the number of particle is 32768 ; The optimal bandwidth is 0.12499999999999999 .\n",
            "8 the error is : 0.00022798859094508623\n"
          ]
        },
        {
          "name": "stderr",
          "output_type": "stream",
          "text": [
            "\n"
          ]
        }
      ],
      "source": [
        "\n",
        "error_N_Gaussian_kernel=[]\n",
        "\n",
        "l_regularity_plus_one=2 # l=1 then l+1=2\n",
        "\n",
        "for i in tqdm(range(pn)):\n",
        "    error=np.zeros(NNs)\n",
        "    for nns in range(NNs):\n",
        "\n",
        "        density_particle= np.array(pd.read_csv(\"particle_num_\"+str(N_vec[i])+\"repeat\"+str(nns)+\".csv\", sep=',',header=None))\n",
        "\n",
        "        Error_simu_number=1000\n",
        "\n",
        "        X_simu = np.linspace(0, 6, Error_simu_number)[:, np.newaxis]\n",
        "\n",
        "        Error_simu_vec=np.zeros(Error_simu_number)\n",
        "        error_vec=np.zeros(Error_simu_number)\n",
        "\n",
        "        eta_opt = (N_vec[i])**(-1./(2*l_regularity_plus_one+1))\n",
        "\n",
        "        for j in range(Error_simu_number):\n",
        "            Error_simu_vec[j]=kernel_O1_fun((X_simu[j]-density_particle)/eta_opt).sum()/(N_vec[i]*eta_opt) # O2!\n",
        "            error_vec[j]=np.abs(Error_simu_vec[j] - density_true(X_simu[j]))\n",
        "\n",
        "        error_one=error_vec.max()**2\n",
        "        error[nns]=error_one\n",
        "\n",
        "    print (\"i=\",i,\";\", \"the number of particle is\", N_vec[i],\";\", \"The optimal bandwidth is\",eta_opt, \".\")\n",
        "    print (i,\"the error is :\", error.mean())\n",
        "\n",
        "    error_N_Gaussian_kernel.append(error.mean()) # Name of the error vector !\n",
        "\n",
        "    np.savetxt(\"error_\"+str(i)+\"_op_Gaussian_kernel.csv\", error_N_Gaussian_kernel, delimiter=\",\") # Name of the error vector !\n",
        "\n"
      ]
    },
    {
      "cell_type": "markdown",
      "metadata": {
        "id": "KAFpKK2CzJg4"
      },
      "source": [
        "---------------------------------------\n",
        "\n",
        "The next cell shows the log-log error curve of the density simulation with the Gaussian kernel."
      ]
    },
    {
      "cell_type": "code",
      "execution_count": null,
      "metadata": {
        "id": "MivKVEdCzJg4",
        "outputId": "e7ca2ada-d1b2-40cf-e7e2-06a8123918b8"
      },
      "outputs": [
        {
          "data": {
            "text/plain": [
              "[<matplotlib.lines.Line2D at 0x7fcb625d4cd0>]"
            ]
          },
          "execution_count": 10,
          "metadata": {},
          "output_type": "execute_result"
        },
        {
          "data": {
            "image/png": "[encoded data removed]",
            "text/plain": [
              "<Figure size 576x432 with 1 Axes>"
            ]
          },
          "metadata": {
            "needs_background": "light"
          },
          "output_type": "display_data"
        }
      ],
      "source": [
        "plt.figure(figsize=(8,6))\n",
        "plt.plot(np.log2(N_vec),np.log2(error_N_Gaussian_kernel),\"r\")"
      ]
    },
    {
      "cell_type": "markdown",
      "metadata": {
        "id": "U4OeBjUrzJg4"
      },
      "source": [
        "The least-square estimate of the slope of the above curve is the following."
      ]
    },
    {
      "cell_type": "code",
      "execution_count": null,
      "metadata": {
        "id": "UlEM7n_UzJg4",
        "outputId": "8a8d2041-01ff-486f-c4c7-b806e59f1942"
      },
      "outputs": [
        {
          "name": "stdout",
          "output_type": "stream",
          "text": [
            "The estimate of the slope is [-0.624822]\n",
            "The estimate of the intercept is -2.6522754794411316\n"
          ]
        }
      ],
      "source": [
        "X=np.log2(N_vec).reshape(-1,1)\n",
        "y=np.log2(error_N_Gaussian_kernel)\n",
        "reg_Gaussian = LinearRegression().fit(X, y)\n",
        "print (\"The estimate of the slope is\", reg_Gaussian.coef_)\n",
        "print (\"The estimate of the intercept is\", reg_Gaussian.intercept_)\n"
      ]
    },
    {
      "cell_type": "markdown",
      "metadata": {
        "id": "FvNPcjdNzJg4"
      },
      "source": [
        "## 2.3 Kernel order = 3 <a class=\"anchor\" id=\"section2-3\"></a>"
      ]
    },
    {
      "cell_type": "code",
      "execution_count": null,
      "metadata": {
        "id": "qcM4hW1jzJg4",
        "outputId": "8a924597-541f-49e0-b2ee-62c14f7a34e6"
      },
      "outputs": [
        {
          "name": "stderr",
          "output_type": "stream",
          "text": [
            " 11%|█████                                        | 1/9 [00:03<00:28,  3.53s/it]"
          ]
        },
        {
          "name": "stdout",
          "output_type": "stream",
          "text": [
            "i= 0 ; the number of particle is 128 ; The optimal bandwidth is 0.5832645197880583 .\n",
            "0 the error is : 0.005647156893429341\n"
          ]
        },
        {
          "name": "stderr",
          "output_type": "stream",
          "text": [
            "\r",
            " 22%|██████████                                   | 2/9 [00:06<00:24,  3.49s/it]"
          ]
        },
        {
          "name": "stdout",
          "output_type": "stream",
          "text": [
            "i= 1 ; the number of particle is 256 ; The optimal bandwidth is 0.540029869446153 .\n",
            "1 the error is : 0.00331953350309303\n"
          ]
        },
        {
          "name": "stderr",
          "output_type": "stream",
          "text": [
            "\r",
            " 33%|███████████████                              | 3/9 [00:10<00:21,  3.61s/it]"
          ]
        },
        {
          "name": "stdout",
          "output_type": "stream",
          "text": [
            "i= 2 ; the number of particle is 512 ; The optimal bandwidth is 0.5 .\n",
            "2 the error is : 0.002600024729804308\n"
          ]
        },
        {
          "name": "stderr",
          "output_type": "stream",
          "text": [
            "\r",
            " 44%|████████████████████                         | 4/9 [00:14<00:18,  3.71s/it]"
          ]
        },
        {
          "name": "stdout",
          "output_type": "stream",
          "text": [
            "i= 3 ; the number of particle is 1024 ; The optimal bandwidth is 0.46293735614364523 .\n",
            "3 the error is : 0.0010074943823206598\n"
          ]
        },
        {
          "name": "stderr",
          "output_type": "stream",
          "text": [
            "\r",
            " 56%|█████████████████████████                    | 5/9 [00:18<00:15,  3.86s/it]"
          ]
        },
        {
          "name": "stdout",
          "output_type": "stream",
          "text": [
            "i= 4 ; the number of particle is 2048 ; The optimal bandwidth is 0.42862199142653645 .\n",
            "4 the error is : 0.0007406506493796021\n"
          ]
        },
        {
          "name": "stderr",
          "output_type": "stream",
          "text": [
            "\r",
            " 67%|██████████████████████████████               | 6/9 [00:23<00:12,  4.18s/it]"
          ]
        },
        {
          "name": "stdout",
          "output_type": "stream",
          "text": [
            "i= 5 ; the number of particle is 4096 ; The optimal bandwidth is 0.3968502629920499 .\n",
            "5 the error is : 0.0004892469220094351\n"
          ]
        },
        {
          "name": "stderr",
          "output_type": "stream",
          "text": [
            "\r",
            " 78%|███████████████████████████████████          | 7/9 [00:30<00:09,  4.94s/it]"
          ]
        },
        {
          "name": "stdout",
          "output_type": "stream",
          "text": [
            "i= 6 ; the number of particle is 8192 ; The optimal bandwidth is 0.3674336230688997 .\n",
            "6 the error is : 0.0002705490796151823\n"
          ]
        },
        {
          "name": "stderr",
          "output_type": "stream",
          "text": [
            "\r",
            " 89%|████████████████████████████████████████     | 8/9 [00:39<00:06,  6.42s/it]"
          ]
        },
        {
          "name": "stdout",
          "output_type": "stream",
          "text": [
            "i= 7 ; the number of particle is 16384 ; The optimal bandwidth is 0.3401975000435943 .\n",
            "7 the error is : 0.00019988275636077468\n"
          ]
        },
        {
          "name": "stderr",
          "output_type": "stream",
          "text": [
            "100%|█████████████████████████████████████████████| 9/9 [00:56<00:00,  6.27s/it]"
          ]
        },
        {
          "name": "stdout",
          "output_type": "stream",
          "text": [
            "i= 8 ; the number of particle is 32768 ; The optimal bandwidth is 0.3149802624737183 .\n",
            "8 the error is : 0.00011196206288253552\n"
          ]
        },
        {
          "name": "stderr",
          "output_type": "stream",
          "text": [
            "\n"
          ]
        }
      ],
      "source": [
        "error_N_O3_kernel=[]\n",
        "\n",
        "l_regularity_plus_one=4  # l=1 then l+1=2\n",
        "\n",
        "for i in tqdm(range(pn)):\n",
        "    error=np.zeros(NNs)\n",
        "    for nns in range(NNs):\n",
        "\n",
        "        density_particle= np.array(pd.read_csv(\"particle_num_\"+str(N_vec[i])+\"repeat\"+str(nns)+\".csv\", sep=',',header=None))\n",
        "\n",
        "        Error_simu_number=1000\n",
        "\n",
        "        X_simu = np.linspace(0, 6, Error_simu_number)[:, np.newaxis]\n",
        "\n",
        "        Error_simu_vec=np.zeros(Error_simu_number)\n",
        "        error_vec=np.zeros(Error_simu_number)\n",
        "\n",
        "        eta_opt = (N_vec[i])**(-1./(2*l_regularity_plus_one+1))\n",
        "\n",
        "        for j in range(Error_simu_number):\n",
        "            Error_simu_vec[j]=kernel_O3_fun((X_simu[j]-density_particle)/eta_opt).sum()/(N_vec[i]*eta_opt)\n",
        "            error_vec[j]=np.abs(Error_simu_vec[j] - density_true(X_simu[j]))\n",
        "\n",
        "        error_one=error_vec.max()**2\n",
        "        error[nns]=error_one\n",
        "\n",
        "    print (\"i=\",i,\";\", \"the number of particle is\", N_vec[i],\";\", \"The optimal bandwidth is\",eta_opt, \".\")\n",
        "    print (i,\"the error is :\", error.mean())\n",
        "\n",
        "    error_N_O3_kernel.append(error.mean())\n",
        "\n",
        "    np.savetxt(\"error_\"+str(i)+\"_op_Order_3_kernel.csv\", error_N_O3_kernel, delimiter=\",\")\n",
        "\n"
      ]
    },
    {
      "cell_type": "markdown",
      "metadata": {
        "id": "NBIS54jdzJg5"
      },
      "source": [
        "---------------------------------------\n",
        "\n",
        "The next cell shows the log-log error curve of the density simulation with the Gaussian high order kernel of order 3."
      ]
    },
    {
      "cell_type": "code",
      "execution_count": null,
      "metadata": {
        "id": "mD1xnpa1zJg5",
        "outputId": "bdebdde4-acea-4e0f-c8ec-a37cff921fc3"
      },
      "outputs": [
        {
          "data": {
            "text/plain": [
              "[<matplotlib.lines.Line2D at 0x7fcb620b0b20>]"
            ]
          },
          "execution_count": 13,
          "metadata": {},
          "output_type": "execute_result"
        },
        {
          "data": {
            "image/png": "[encoded data removed]",
            "text/plain": [
              "<Figure size 576x432 with 1 Axes>"
            ]
          },
          "metadata": {
            "needs_background": "light"
          },
          "output_type": "display_data"
        }
      ],
      "source": [
        "plt.figure(figsize=(8,6))\n",
        "\n",
        "plt.plot(np.log2(N_vec),np.log2(error_N_O3_kernel),\"r\")\n"
      ]
    },
    {
      "cell_type": "markdown",
      "metadata": {
        "id": "MI2JHQHMzJg5"
      },
      "source": [
        "The least-square estimate of the slope of the above curve is the following."
      ]
    },
    {
      "cell_type": "code",
      "execution_count": null,
      "metadata": {
        "id": "gcxM9rZgzJg5",
        "outputId": "041b556f-6f30-4d3e-fdda-846efc2e7789"
      },
      "outputs": [
        {
          "name": "stdout",
          "output_type": "stream",
          "text": [
            "The estimate of the slope is [-0.70597164]\n",
            "The estimate of the intercept is -2.5572548818834813\n"
          ]
        }
      ],
      "source": [
        "X=np.log2(N_vec).reshape(-1,1)\n",
        "y=np.log2(error_N_O3_kernel)\n",
        "reg_Kernal_O3 = LinearRegression().fit(X, y)\n",
        "print (\"The estimate of the slope is\", reg_Kernal_O3.coef_)\n",
        "print (\"The estimate of the intercept is\", reg_Kernal_O3.intercept_)\n"
      ]
    },
    {
      "cell_type": "markdown",
      "metadata": {
        "id": "bXgdoMYfzJg5"
      },
      "source": [
        "## 2.4 Kernel order = 5 <a class=\"anchor\" id=\"section2-4\"></a>"
      ]
    },
    {
      "cell_type": "code",
      "execution_count": null,
      "metadata": {
        "id": "nBKO1DImzJg5",
        "outputId": "5058e478-57b4-4ed3-b0c0-ee62779a44ea"
      },
      "outputs": [
        {
          "name": "stderr",
          "output_type": "stream",
          "text": [
            " 11%|█████                                        | 1/9 [00:03<00:30,  3.82s/it]"
          ]
        },
        {
          "name": "stdout",
          "output_type": "stream",
          "text": [
            "i= 0 ; the number of particle is 128 ; The optimal bandwidth is 0.6885047255971347 .\n",
            "0 the error is : 0.005775063854677463\n"
          ]
        },
        {
          "name": "stderr",
          "output_type": "stream",
          "text": [
            "\r",
            " 22%|██████████                                   | 2/9 [00:07<00:27,  3.96s/it]"
          ]
        },
        {
          "name": "stdout",
          "output_type": "stream",
          "text": [
            "i= 1 ; the number of particle is 256 ; The optimal bandwidth is 0.6527558488549048 .\n",
            "1 the error is : 0.0029797800415177133\n"
          ]
        },
        {
          "name": "stderr",
          "output_type": "stream",
          "text": [
            "\r",
            " 33%|███████████████                              | 3/9 [00:12<00:24,  4.04s/it]"
          ]
        },
        {
          "name": "stdout",
          "output_type": "stream",
          "text": [
            "i= 2 ; the number of particle is 512 ; The optimal bandwidth is 0.618863142652714 .\n",
            "2 the error is : 0.002384021475246508\n"
          ]
        },
        {
          "name": "stderr",
          "output_type": "stream",
          "text": [
            "\r",
            " 44%|████████████████████                         | 4/9 [00:16<00:21,  4.25s/it]"
          ]
        },
        {
          "name": "stdout",
          "output_type": "stream",
          "text": [
            "i= 3 ; the number of particle is 1024 ; The optimal bandwidth is 0.5867302300023132 .\n",
            "3 the error is : 0.0008867880813404622\n"
          ]
        },
        {
          "name": "stderr",
          "output_type": "stream",
          "text": [
            "\r",
            " 56%|█████████████████████████                    | 5/9 [00:22<00:19,  4.82s/it]"
          ]
        },
        {
          "name": "stdout",
          "output_type": "stream",
          "text": [
            "i= 4 ; the number of particle is 2048 ; The optimal bandwidth is 0.5562657380482434 .\n",
            "4 the error is : 0.0006211192883202578\n"
          ]
        },
        {
          "name": "stderr",
          "output_type": "stream",
          "text": [
            "\r",
            " 67%|██████████████████████████████               | 6/9 [00:30<00:17,  5.84s/it]"
          ]
        },
        {
          "name": "stdout",
          "output_type": "stream",
          "text": [
            "i= 5 ; the number of particle is 4096 ; The optimal bandwidth is 0.5273830382408233 .\n",
            "5 the error is : 0.00038436804772724084\n"
          ]
        },
        {
          "name": "stderr",
          "output_type": "stream",
          "text": [
            "\r",
            " 78%|███████████████████████████████████          | 7/9 [00:43<00:16,  8.29s/it]"
          ]
        },
        {
          "name": "stdout",
          "output_type": "stream",
          "text": [
            "i= 6 ; the number of particle is 8192 ; The optimal bandwidth is 0.5 .\n",
            "6 the error is : 0.00020080039638864394\n"
          ]
        },
        {
          "name": "stderr",
          "output_type": "stream",
          "text": [
            "\r",
            " 89%|████████████████████████████████████████     | 8/9 [01:08<00:13, 13.48s/it]"
          ]
        },
        {
          "name": "stdout",
          "output_type": "stream",
          "text": [
            "i= 7 ; the number of particle is 16384 ; The optimal bandwidth is 0.4740387571695857 .\n",
            "7 the error is : 0.00014669179154611867\n"
          ]
        },
        {
          "name": "stderr",
          "output_type": "stream",
          "text": [
            "100%|█████████████████████████████████████████████| 9/9 [01:53<00:00, 12.59s/it]"
          ]
        },
        {
          "name": "stdout",
          "output_type": "stream",
          "text": [
            "i= 8 ; the number of particle is 32768 ; The optimal bandwidth is 0.44942548659777093 .\n",
            "8 the error is : 8.723141819938753e-05\n"
          ]
        },
        {
          "name": "stderr",
          "output_type": "stream",
          "text": [
            "\n"
          ]
        }
      ],
      "source": [
        "\n",
        "error_N_O5_kernel=[]\n",
        "\n",
        "l_regularity_plus_one=6\n",
        "\n",
        "for i in tqdm(range(pn)):\n",
        "    error=np.zeros(NNs)\n",
        "    for nns in range(NNs):\n",
        "\n",
        "        density_particle= np.array(pd.read_csv(\"particle_num_\"+str(N_vec[i])+\"repeat\"+str(nns)+\".csv\", sep=',',header=None))\n",
        "\n",
        "        Error_simu_number=1000\n",
        "\n",
        "        X_simu = np.linspace(0, 6, Error_simu_number)[:, np.newaxis]\n",
        "\n",
        "        Error_simu_vec=np.zeros(Error_simu_number)\n",
        "        error_vec=np.zeros(Error_simu_number)\n",
        "\n",
        "        eta_opt = (N_vec[i])**(-1./(2*l_regularity_plus_one+1))\n",
        "\n",
        "        for j in range(Error_simu_number):\n",
        "            Error_simu_vec[j]=kernel_O5_fun((X_simu[j]-density_particle)/eta_opt).sum()/(N_vec[i]*eta_opt)\n",
        "            error_vec[j]=np.abs(Error_simu_vec[j] - density_true(X_simu[j]))\n",
        "\n",
        "        error_one=error_vec.max()**2\n",
        "        error[nns]=error_one\n",
        "\n",
        "    print (\"i=\",i,\";\", \"the number of particle is\", N_vec[i],\";\", \"The optimal bandwidth is\",eta_opt, \".\")\n",
        "    print (i,\"the error is :\", error.mean())\n",
        "\n",
        "    error_N_O5_kernel.append(error.mean())\n",
        "\n",
        "    np.savetxt(\"error_\"+str(i)+\"_op_Order_5_kernel.csv\", error_N_O5_kernel, delimiter=\",\")\n",
        "\n"
      ]
    },
    {
      "cell_type": "markdown",
      "metadata": {
        "id": "akLRRHqKzJg6"
      },
      "source": [
        "---------------------------------------\n",
        "\n",
        "The next cell shows the log-log error curve of the density simulation with the Gaussian high order kernel of order 5."
      ]
    },
    {
      "cell_type": "code",
      "execution_count": null,
      "metadata": {
        "id": "lG3CwDvqzJg6",
        "outputId": "de69f776-4e96-4693-881b-62d052865b97"
      },
      "outputs": [
        {
          "data": {
            "text/plain": [
              "[<matplotlib.lines.Line2D at 0x7fcb62bf7610>]"
            ]
          },
          "execution_count": 16,
          "metadata": {},
          "output_type": "execute_result"
        },
        {
          "data": {
            "image/png": "[encoded data removed]",
            "text/plain": [
              "<Figure size 576x432 with 1 Axes>"
            ]
          },
          "metadata": {
            "needs_background": "light"
          },
          "output_type": "display_data"
        }
      ],
      "source": [
        "plt.figure(figsize=(8,6))\n",
        "\n",
        "plt.plot(np.log2(N_vec),np.log2(error_N_O5_kernel),\"r\")\n"
      ]
    },
    {
      "cell_type": "markdown",
      "metadata": {
        "id": "5N1-0alJzJg6"
      },
      "source": [
        "The least-square estimate of the slope of the above curve is the following."
      ]
    },
    {
      "cell_type": "code",
      "execution_count": null,
      "metadata": {
        "id": "_yCK9Bf0zJg6",
        "outputId": "3780f716-93d9-48fa-c459-c48a61620cf1"
      },
      "outputs": [
        {
          "name": "stdout",
          "output_type": "stream",
          "text": [
            "The estimate of the slope is [-0.75956076]\n",
            "The estimate of the intercept is -2.220139281607368\n"
          ]
        }
      ],
      "source": [
        "X=np.log2(N_vec).reshape(-1,1)\n",
        "y=np.log2(error_N_O5_kernel)\n",
        "reg_Kernal_O5 = LinearRegression().fit(X, y)\n",
        "\n",
        "print (\"The estimate of the slope is\", reg_Kernal_O5.coef_)\n",
        "print (\"The estimate of the intercept is\", reg_Kernal_O5.intercept_)\n"
      ]
    },
    {
      "cell_type": "markdown",
      "metadata": {
        "id": "6aArHOfTzJg_"
      },
      "source": [
        "## 2.5 Kernel order = 7 <a class=\"anchor\" id=\"section2-5\"></a>"
      ]
    },
    {
      "cell_type": "code",
      "execution_count": null,
      "metadata": {
        "id": "dM7rdzy6zJg_",
        "outputId": "3b69a620-a3e3-4d52-8f48-81304b90506a"
      },
      "outputs": [
        {
          "name": "stderr",
          "output_type": "stream",
          "text": [
            " 11%|█████                                        | 1/9 [00:04<00:33,  4.18s/it]"
          ]
        },
        {
          "name": "stdout",
          "output_type": "stream",
          "text": [
            "i= 0 ; the number of particle is 128 ; The optimal bandwidth is 0.7517033269280274 .\n",
            "0 the error is : 0.0063221259406564595\n"
          ]
        },
        {
          "name": "stderr",
          "output_type": "stream",
          "text": [
            "\r",
            " 22%|██████████                                   | 2/9 [00:08<00:29,  4.15s/it]"
          ]
        },
        {
          "name": "stdout",
          "output_type": "stream",
          "text": [
            "i= 1 ; the number of particle is 256 ; The optimal bandwidth is 0.7216702885149783 .\n",
            "1 the error is : 0.0029841627404436524\n"
          ]
        },
        {
          "name": "stderr",
          "output_type": "stream",
          "text": [
            "\r",
            " 33%|███████████████                              | 3/9 [00:14<00:31,  5.30s/it]"
          ]
        },
        {
          "name": "stdout",
          "output_type": "stream",
          "text": [
            "i= 2 ; the number of particle is 512 ; The optimal bandwidth is 0.6928371694903476 .\n",
            "2 the error is : 0.0023539798400148953\n"
          ]
        },
        {
          "name": "stderr",
          "output_type": "stream",
          "text": [
            "\r",
            " 44%|████████████████████                         | 4/9 [00:20<00:27,  5.58s/it]"
          ]
        },
        {
          "name": "stdout",
          "output_type": "stream",
          "text": [
            "i= 3 ; the number of particle is 1024 ; The optimal bandwidth is 0.665156029099061 .\n",
            "3 the error is : 0.000884987756447753\n"
          ]
        },
        {
          "name": "stderr",
          "output_type": "stream",
          "text": [
            "\r",
            " 56%|█████████████████████████                    | 5/9 [00:28<00:25,  6.28s/it]"
          ]
        },
        {
          "name": "stdout",
          "output_type": "stream",
          "text": [
            "i= 4 ; the number of particle is 2048 ; The optimal bandwidth is 0.638580841978044 .\n",
            "4 the error is : 0.0005852588031082689\n"
          ]
        },
        {
          "name": "stderr",
          "output_type": "stream",
          "text": [
            "\r",
            " 67%|██████████████████████████████               | 6/9 [00:39<00:23,  7.88s/it]"
          ]
        },
        {
          "name": "stdout",
          "output_type": "stream",
          "text": [
            "i= 5 ; the number of particle is 4096 ; The optimal bandwidth is 0.6130674216299654 .\n",
            "5 the error is : 0.00033797704714981605\n"
          ]
        },
        {
          "name": "stderr",
          "output_type": "stream",
          "text": [
            "\r",
            " 78%|███████████████████████████████████          | 7/9 [00:59<00:23, 11.83s/it]"
          ]
        },
        {
          "name": "stdout",
          "output_type": "stream",
          "text": [
            "i= 6 ; the number of particle is 8192 ; The optimal bandwidth is 0.5885733469544588 .\n",
            "6 the error is : 0.000170892567536972\n"
          ]
        },
        {
          "name": "stderr",
          "output_type": "stream",
          "text": [
            "\r",
            " 89%|████████████████████████████████████████     | 8/9 [01:34<00:19, 19.30s/it]"
          ]
        },
        {
          "name": "stdout",
          "output_type": "stream",
          "text": [
            "i= 7 ; the number of particle is 16384 ; The optimal bandwidth is 0.5650578917146649 .\n",
            "7 the error is : 0.00012375116230396062\n"
          ]
        },
        {
          "name": "stderr",
          "output_type": "stream",
          "text": [
            "100%|█████████████████████████████████████████████| 9/9 [02:49<00:00, 18.84s/it]"
          ]
        },
        {
          "name": "stdout",
          "output_type": "stream",
          "text": [
            "i= 8 ; the number of particle is 32768 ; The optimal bandwidth is 0.5424819568218185 .\n",
            "8 the error is : 7.23811662319002e-05\n"
          ]
        },
        {
          "name": "stderr",
          "output_type": "stream",
          "text": [
            "\n"
          ]
        }
      ],
      "source": [
        "error_N_O7_kernel=[]\n",
        "\n",
        "l_regularity_plus_one=8\n",
        "\n",
        "for i in tqdm(range(pn)):\n",
        "    error=np.zeros(NNs)\n",
        "    for nns in range(NNs):\n",
        "\n",
        "        density_particle= np.array(pd.read_csv(\"particle_num_\"+str(N_vec[i])+\"repeat\"+str(nns)+\".csv\", sep=',',header=None))\n",
        "\n",
        "        Error_simu_number=1000\n",
        "\n",
        "        X_simu = np.linspace(0, 6, Error_simu_number)[:, np.newaxis]\n",
        "\n",
        "        Error_simu_vec=np.zeros(Error_simu_number)\n",
        "        error_vec=np.zeros(Error_simu_number)\n",
        "\n",
        "        eta_opt = (N_vec[i])**(-1./(2*l_regularity_plus_one+1))\n",
        "\n",
        "        for j in range(Error_simu_number):\n",
        "            Error_simu_vec[j]=kernel_O7_fun((X_simu[j]-density_particle)/eta_opt).sum()/(N_vec[i]*eta_opt)\n",
        "            error_vec[j]=np.abs(Error_simu_vec[j] - density_true(X_simu[j]))\n",
        "\n",
        "        error_one=error_vec.max()**2\n",
        "        error[nns]=error_one\n",
        "\n",
        "    print (\"i=\",i,\";\", \"the number of particle is\", N_vec[i],\";\", \"The optimal bandwidth is\",eta_opt, \".\")\n",
        "    print (i,\"the error is :\", error.mean())\n",
        "\n",
        "    error_N_O7_kernel.append(error.mean())\n",
        "\n",
        "    np.savetxt(\"error_\"+str(i)+\"_op_Order_7_kernel.csv\", error_N_O7_kernel, delimiter=\",\")\n",
        "\n"
      ]
    },
    {
      "cell_type": "markdown",
      "metadata": {
        "id": "WkMIdtd-zJg_"
      },
      "source": [
        "---------------------------------------\n",
        "\n",
        "The next cell shows the log-log error curve of the density simulation with the Gaussian high order kernel of order 7."
      ]
    },
    {
      "cell_type": "code",
      "execution_count": null,
      "metadata": {
        "id": "1S3RRSdkzJg_",
        "outputId": "c670c211-6584-4c04-a9cf-8620ad81baef"
      },
      "outputs": [
        {
          "data": {
            "text/plain": [
              "[<matplotlib.lines.Line2D at 0x7fcb620e2220>]"
            ]
          },
          "execution_count": 19,
          "metadata": {},
          "output_type": "execute_result"
        },
        {
          "data": {
            "image/png": "[encoded data removed]",
            "text/plain": [
              "<Figure size 576x432 with 1 Axes>"
            ]
          },
          "metadata": {
            "needs_background": "light"
          },
          "output_type": "display_data"
        }
      ],
      "source": [
        "plt.figure(figsize=(8,6))\n",
        "\n",
        "plt.plot(np.log2(N_vec),np.log2(error_N_O7_kernel),\"r\")"
      ]
    },
    {
      "cell_type": "markdown",
      "metadata": {
        "id": "nMqHbSUazJg_"
      },
      "source": [
        "The least-square estimate of the slope of the above curve is the following."
      ]
    },
    {
      "cell_type": "code",
      "execution_count": null,
      "metadata": {
        "id": "ylAQ2-ISzJg_",
        "outputId": "d1ce7467-a866-4ef2-d596-2c32a5141834"
      },
      "outputs": [
        {
          "name": "stdout",
          "output_type": "stream",
          "text": [
            "The estimate of the slope is [-0.8087776]\n",
            "The estimate of the intercept is -1.7795478872119617\n"
          ]
        }
      ],
      "source": [
        "X=np.log2(N_vec).reshape(-1,1)\n",
        "y=np.log2(error_N_O7_kernel)\n",
        "reg_Kernal_O7 = LinearRegression().fit(X, y)\n",
        "\n",
        "\n",
        "print (\"The estimate of the slope is\", reg_Kernal_O7.coef_)\n",
        "print (\"The estimate of the intercept is\", reg_Kernal_O7.intercept_)\n"
      ]
    },
    {
      "cell_type": "markdown",
      "metadata": {
        "id": "pMWTJrfzzJg_"
      },
      "source": [
        "## 2.6 Kernel order = 9 <a class=\"anchor\" id=\"section2-6\"></a>"
      ]
    },
    {
      "cell_type": "code",
      "execution_count": null,
      "metadata": {
        "id": "5nM95J7DzJg_",
        "outputId": "db97507e-4842-4737-c3ef-309fef13fbc4"
      },
      "outputs": [
        {
          "name": "stderr",
          "output_type": "stream",
          "text": [
            " 11%|█████                                        | 1/9 [00:06<00:51,  6.47s/it]"
          ]
        },
        {
          "name": "stdout",
          "output_type": "stream",
          "text": [
            "i= 0 ; the number of particle is 128 ; The optimal bandwidth is 0.7937005259840998 .\n",
            "0 the error is : 0.0071010144650967165\n"
          ]
        },
        {
          "name": "stderr",
          "output_type": "stream",
          "text": [
            "\r",
            " 22%|██████████                                   | 2/9 [00:11<00:38,  5.45s/it]"
          ]
        },
        {
          "name": "stdout",
          "output_type": "stream",
          "text": [
            "i= 1 ; the number of particle is 256 ; The optimal bandwidth is 0.7679304815207443 .\n",
            "1 the error is : 0.0031424243665716177\n"
          ]
        },
        {
          "name": "stderr",
          "output_type": "stream",
          "text": [
            "\r",
            " 33%|███████████████                              | 3/9 [00:16<00:31,  5.32s/it]"
          ]
        },
        {
          "name": "stdout",
          "output_type": "stream",
          "text": [
            "i= 2 ; the number of particle is 512 ; The optimal bandwidth is 0.7429971445684742 .\n",
            "2 the error is : 0.0024306920789473737\n"
          ]
        },
        {
          "name": "stderr",
          "output_type": "stream",
          "text": [
            "\r",
            " 44%|████████████████████                         | 4/9 [00:27<00:37,  7.44s/it]"
          ]
        },
        {
          "name": "stdout",
          "output_type": "stream",
          "text": [
            "i= 3 ; the number of particle is 1024 ; The optimal bandwidth is 0.7188733487225089 .\n",
            "3 the error is : 0.0009257224772448806\n"
          ]
        },
        {
          "name": "stderr",
          "output_type": "stream",
          "text": [
            "\r",
            " 56%|█████████████████████████                    | 5/9 [00:40<00:38,  9.66s/it]"
          ]
        },
        {
          "name": "stdout",
          "output_type": "stream",
          "text": [
            "i= 4 ; the number of particle is 2048 ; The optimal bandwidth is 0.6955328096229147 .\n",
            "4 the error is : 0.0005915899646932211\n"
          ]
        },
        {
          "name": "stderr",
          "output_type": "stream",
          "text": [
            "\r",
            " 67%|██████████████████████████████               | 6/9 [01:00<00:39, 13.18s/it]"
          ]
        },
        {
          "name": "stdout",
          "output_type": "stream",
          "text": [
            "i= 5 ; the number of particle is 4096 ; The optimal bandwidth is 0.6729500963161781 .\n",
            "5 the error is : 0.0003203818904257153\n"
          ]
        },
        {
          "name": "stderr",
          "output_type": "stream",
          "text": [
            "\r",
            " 78%|███████████████████████████████████          | 7/9 [01:33<00:38, 19.45s/it]"
          ]
        },
        {
          "name": "stdout",
          "output_type": "stream",
          "text": [
            "i= 6 ; the number of particle is 8192 ; The optimal bandwidth is 0.6511006035466159 .\n",
            "6 the error is : 0.00015988575549228182\n"
          ]
        },
        {
          "name": "stderr",
          "output_type": "stream",
          "text": [
            "\r",
            " 89%|████████████████████████████████████████     | 8/9 [02:26<00:30, 30.38s/it]"
          ]
        },
        {
          "name": "stdout",
          "output_type": "stream",
          "text": [
            "i= 7 ; the number of particle is 16384 ; The optimal bandwidth is 0.6299605249474366 .\n",
            "7 the error is : 0.00011173780622701292\n"
          ]
        },
        {
          "name": "stderr",
          "output_type": "stream",
          "text": [
            "100%|█████████████████████████████████████████████| 9/9 [04:06<00:00, 27.40s/it]"
          ]
        },
        {
          "name": "stdout",
          "output_type": "stream",
          "text": [
            "i= 8 ; the number of particle is 32768 ; The optimal bandwidth is 0.6095068271022377 .\n",
            "8 the error is : 6.284051872881438e-05\n"
          ]
        },
        {
          "name": "stderr",
          "output_type": "stream",
          "text": [
            "\n"
          ]
        }
      ],
      "source": [
        "error_N_O9_kernel=[]\n",
        "\n",
        "l_regularity_plus_one=10\n",
        "\n",
        "for i in tqdm(range(pn)):\n",
        "    error=np.zeros(NNs)\n",
        "    for nns in range(NNs):\n",
        "\n",
        "        density_particle= np.array(pd.read_csv(\"particle_num_\"+str(N_vec[i])+\"repeat\"+str(nns)+\".csv\", sep=',',header=None))\n",
        "\n",
        "        Error_simu_number=1000\n",
        "\n",
        "        X_simu = np.linspace(0, 6, Error_simu_number)[:, np.newaxis]\n",
        "\n",
        "        Error_simu_vec=np.zeros(Error_simu_number)\n",
        "        error_vec=np.zeros(Error_simu_number)\n",
        "\n",
        "        eta_opt = (N_vec[i])**(-1./(2*l_regularity_plus_one+1))\n",
        "\n",
        "        for j in range(Error_simu_number):\n",
        "            Error_simu_vec[j]=kernel_O9_fun((X_simu[j]-density_particle)/eta_opt).sum()/(N_vec[i]*eta_opt)\n",
        "            error_vec[j]=np.abs(Error_simu_vec[j] - density_true(X_simu[j]))\n",
        "\n",
        "        error_one=error_vec.max()**2\n",
        "        error[nns]=error_one\n",
        "\n",
        "    print (\"i=\",i,\";\", \"the number of particle is\", N_vec[i],\";\", \"The optimal bandwidth is\",eta_opt, \".\")\n",
        "    print (i,\"the error is :\", error.mean())\n",
        "\n",
        "    error_N_O9_kernel.append(error.mean())\n",
        "\n",
        "    np.savetxt(\"error_\"+str(i)+\"_op_Order_9_kernel.csv\", error_N_O9_kernel, delimiter=\",\")\n",
        "\n"
      ]
    },
    {
      "cell_type": "markdown",
      "metadata": {
        "id": "FBPwZhMUzJg_"
      },
      "source": [
        "---------------------------------------\n",
        "\n",
        "\n",
        "The next cell shows the log-log error curve of the density simulation with the Gaussian high order kernel of order 9."
      ]
    },
    {
      "cell_type": "code",
      "execution_count": null,
      "metadata": {
        "id": "oxEECiCCzJhA",
        "outputId": "703ff752-d7b6-4117-f355-0f2c2c3db53d"
      },
      "outputs": [
        {
          "data": {
            "text/plain": [
              "[<matplotlib.lines.Line2D at 0x7fcb6250d880>]"
            ]
          },
          "execution_count": 22,
          "metadata": {},
          "output_type": "execute_result"
        },
        {
          "data": {
            "image/png": "[encoded data removed]",
            "text/plain": [
              "<Figure size 576x432 with 1 Axes>"
            ]
          },
          "metadata": {
            "needs_background": "light"
          },
          "output_type": "display_data"
        }
      ],
      "source": [
        "plt.figure(figsize=(8,6))\n",
        "\n",
        "plt.plot(np.log2(N_vec),np.log2(error_N_O9_kernel),\"r\")\n"
      ]
    },
    {
      "cell_type": "markdown",
      "metadata": {
        "id": "hJiGUQQMzJhA"
      },
      "source": [
        "The least-square estimate of the slope of the above curve is the following."
      ]
    },
    {
      "cell_type": "code",
      "execution_count": null,
      "metadata": {
        "id": "wJor_mf_zJhA",
        "outputId": "30103501-4be5-4bed-9017-d506901ae1d9"
      },
      "outputs": [
        {
          "name": "stdout",
          "output_type": "stream",
          "text": [
            "The estimate of the slope is [-0.85175177]\n",
            "The estimate of the intercept is -1.3241151433238656\n"
          ]
        }
      ],
      "source": [
        "X=np.log2(N_vec).reshape(-1,1)\n",
        "y=np.log2(error_N_O9_kernel)\n",
        "reg_Kernal_O9 = LinearRegression().fit(X, y)\n",
        "\n",
        "\n",
        "print (\"The estimate of the slope is\", reg_Kernal_O9.coef_)\n",
        "print (\"The estimate of the intercept is\", reg_Kernal_O9.intercept_)\n"
      ]
    },
    {
      "cell_type": "markdown",
      "metadata": {
        "id": "akx_yTUFzJhA"
      },
      "source": [
        "## 2.7 Comparison of simulation results with different kernels <a class=\"anchor\" id=\"section2-7\"></a>"
      ]
    },
    {
      "cell_type": "markdown",
      "metadata": {
        "id": "XAYyutlJzJhA"
      },
      "source": [
        "The next cell shows the log-log error curves of the density simulation with different Gaussian high order kernels for $l=1$ (purple), $l=3$ (blue), $l=5$ (red), $l=7$ (orange), $l=9$ (green)."
      ]
    },
    {
      "cell_type": "code",
      "execution_count": null,
      "metadata": {
        "id": "NtcU6ZYczJhA",
        "outputId": "82abd9a4-302d-4fa0-801f-3fee2ae922fd"
      },
      "outputs": [
        {
          "data": {
            "image/png": "[encoded data removed]",
            "text/plain": [
              "<Figure size 576x432 with 1 Axes>"
            ]
          },
          "metadata": {
            "needs_background": "light"
          },
          "output_type": "display_data"
        }
      ],
      "source": [
        "plt.figure(figsize = (8,6))\n",
        "plt.plot(np.log2(N_vec), np.log2(error_N_Gaussian_kernel),\"purple\") # Order 1\n",
        "plt.plot(np.log2(N_vec), np.log2(error_N_O3_kernel),\"b\") # Order 3\n",
        "plt.plot(np.log2(N_vec), np.log2(error_N_O5_kernel),\"r\") # Order 5\n",
        "plt.plot(np.log2(N_vec), np.log2(error_N_O7_kernel),\"orange\") # Order 7\n",
        "plt.plot(np.log2(N_vec), np.log2(error_N_O9_kernel),\"green\") # Order 9\n",
        "plt.savefig('strong_error.png')"
      ]
    },
    {
      "cell_type": "markdown",
      "metadata": {
        "id": "xhQVkvUSzJhA"
      },
      "source": [
        "The next cell shows the slopes $a_l$ of the above figure as a function of the kernal order $l$."
      ]
    },
    {
      "cell_type": "code",
      "execution_count": null,
      "metadata": {
        "id": "x4ahjgCrzJhA",
        "outputId": "4f17528e-477c-4edd-b992-2091e082a3aa"
      },
      "outputs": [
        {
          "data": {
            "image/png": "[encoded data removed]",
            "text/plain": [
              "<Figure size 576x432 with 1 Axes>"
            ]
          },
          "metadata": {
            "needs_background": "light"
          },
          "output_type": "display_data"
        }
      ],
      "source": [
        "slope_vec=np.array([reg_Gaussian.coef_,reg_Kernal_O3.coef_,reg_Kernal_O5.coef_,reg_Kernal_O7.coef_,reg_Kernal_O9.coef_])\n",
        "\n",
        "plt.figure(figsize = (8,6))\n",
        "plt.plot(np.array([1,3,5,7,9]),slope_vec,\"o-\")\n",
        "plt.xticks([1,3,5,7,9])\n",
        "plt.savefig('strong_error_slope.png')\n",
        "#plt.xlabel(\"Order of Gaussian Kernel\")\n",
        "#plt.ylabel(\"Slope of the log-log error\")\n"
      ]
    },
    {
      "cell_type": "code",
      "execution_count": null,
      "metadata": {
        "id": "i2MawppKzJhA"
      },
      "outputs": [],
      "source": []
    },
    {
      "cell_type": "code",
      "execution_count": null,
      "metadata": {
        "id": "78vrNCqazJhA"
      },
      "outputs": [],
      "source": []
    }
  ],
  "metadata": {
    "kernelspec": {
      "display_name": "Python 3 (ipykernel)",
      "language": "python",
      "name": "python3"
    },
    "language_info": {
      "codemirror_mode": {
        "name": "ipython",
        "version": 3
      },
      "file_extension": ".py",
      "mimetype": "text/x-python",
      "name": "python",
      "nbconvert_exporter": "python",
      "pygments_lexer": "ipython3",
      "version": "3.9.12"
    },
    "colab": {
      "provenance": []
    }
  },
  "nbformat": 4,
  "nbformat_minor": 0
}