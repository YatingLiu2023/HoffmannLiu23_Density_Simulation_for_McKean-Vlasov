{
 "cells": [
  {
   "cell_type": "markdown",
   "metadata": {},
   "source": [
    "# Density simulation of a McKean-Vlasov SDE with linear interaction\n",
    "\n",
    "This notebook implements the simulations described in Section 3.1 of \n",
    "\n",
    "- Hoffmann, M. and Liu, Y (2023). A statistical approach for simulating the density solution of a McKean-Vlasov equation. \n",
    "\n",
    "-------------------------------\n",
    "\n",
    "**Contents**\n",
    "\n",
    "* [1. Definition of the McKean-Vlasov equation, the particle system and the Euler scheme](#chapter1)\n",
    "\n",
    "* [2. Density simulation with Gaussian-based high order Kernels](#chapter2)\n",
    "\n",
    "    * [2.1 Definition of Gaussian-based high order Kernels](#section2-1)\n",
    "    \n",
    "    * [2.2 Gaussian Kernel ( Kernel Order = 1 )](#section2-2)\n",
    "    \n",
    "    * [2.3 Kernel Order = 3](#section2-3)\n",
    "    \n",
    "    * [2.4 Kernel Order = 5](#section2-4)\n",
    "    \n",
    "    * [2.5 Kernel Order = 7](#section2-5)\n",
    "    \n",
    "    * [2.6 Kernel Order = 9](#section2-6)\n",
    "    \n",
    "    * [2.7 Comparison of simulation results with different kernels](#section2-7)\n",
    "\n",
    "-------------------------------"
   ]
  },
  {
   "cell_type": "code",
   "execution_count": 1,
   "metadata": {},
   "outputs": [],
   "source": [
    "import numpy as np\n",
    "import matplotlib.pyplot as plt\n",
    "from tqdm import tqdm\n",
    "import random\n",
    "\n",
    "import pandas as pd \n",
    "from scipy.stats import norm\n",
    "from sklearn.linear_model import LinearRegression"
   ]
  },
  {
   "cell_type": "markdown",
   "metadata": {},
   "source": [
    "## 1. Definition of the McKean-Vlasov equation, the particle system and the Euler scheme <a class=\"anchor\" id=\"chapter1\"></a> \n"
   ]
  },
  {
   "cell_type": "markdown",
   "metadata": {},
   "source": [
    "We consider a stochastic process $(X_t)_{t\\in[0, T]}$ defined by the following McKean-Vlasov SDE with linear interaction \n",
    "\n",
    "$$dX_t = - \\int_{\\mathbb{R}}(X_t-x)\\mu_t(dx)dt+dB_t\\quad \\text{with}\\quad X_0\\sim \\mathcal{N}(3, \\frac{1}{2}),\\hspace{2cm}(1)$$\n",
    "\n",
    "where for every  $t\\in[0,T]$, $\\mu_t$ denotes the probability distrubtion of $X_t$.  This process $(X_t)_{t\\in[0, T]}$ is a stationary Ornstein-Uhlenbeck process, namely, for every $t\\in[0,T], \\; \\mu_t=\\mathcal{N}(3, \\frac{1}{2})$."
   ]
  },
  {
   "cell_type": "markdown",
   "metadata": {},
   "source": [
    "Let $N$ be the number of particles. The $N$-particle system $(X_t^{1}, ..., X_t^{N})_{t\\in[0,T]}$ corresponding to Equation (1) is defined as follows :\n",
    "\n",
    "\n",
    "\\begin{equation}\n",
    "dX_t^{n}=- \\frac{1}{N} \\sum_{i=1}^{N}\\big(X_t^{n}-X_t^{i}\\big) dt+\\sigma B_t^{n}.\\hspace{2cm}(2)\n",
    "\\end{equation}"
   ]
  },
  {
   "cell_type": "markdown",
   "metadata": {},
   "source": [
    "Let $M$ denote the time discretization number for the Euler scheme. Set $h=\\frac{T}{M}$ and $t_m=m\\cdot h, 0\\leq m\\leq M$. Combining the particle system (2) and the Euler scheme, we obtain the following discrete particle system :\n",
    "\n",
    "\\begin{equation}\n",
    "X^{n}_{t_{m+1}}=X^{n}_{t_{m}}+h\\cdot  \\frac{1}{N}\\sum_{i=1}^{N}\\Big(X_{t_m}^{i}-X_{t_m}^{n}\\Big)+\\sqrt{h} Z_{m+1}^{n},\\quad 1\\leq n\\leq N,\n",
    "\\end{equation}\n",
    "where $ \\: Z_{m+1}^{n}:=\\frac{1}{\\sqrt{h}}(B^n_{t_{m+1}}-B^n_{t_{m}})$ are i.i.d random variables having the standard normal distribution $\\mathcal{N}(0,1)$."
   ]
  },
  {
   "cell_type": "markdown",
   "metadata": {},
   "source": [
    "* In this notebook, we fix $T=1$ and $M=100$."
   ]
  },
  {
   "cell_type": "code",
   "execution_count": 2,
   "metadata": {},
   "outputs": [],
   "source": [
    "# Parameters\n",
    "\n",
    "T=1. \n",
    "M=100  # Time discretization number\n",
    "h=T/M  # Time step\n",
    "\n",
    "m_X0=3  # Mean of the distribution of X_0"
   ]
  },
  {
   "cell_type": "markdown",
   "metadata": {},
   "source": [
    "In the next cell, the function `Euler_one_step` defines the operator of the Euler scheme for one time step."
   ]
  },
  {
   "cell_type": "code",
   "execution_count": 3,
   "metadata": {},
   "outputs": [],
   "source": [
    "def Euler_one_step(X_in,N_in):\n",
    "    nn=np.ones(N_in)/N_in\n",
    "    EXin=np.dot(nn,X_in)\n",
    "    X_out=X_in+h*(EXin-X_in)+np.sqrt(h)*np.random.normal(0, 1, N_in)\n",
    "    return X_out"
   ]
  },
  {
   "cell_type": "markdown",
   "metadata": {},
   "source": [
    "We consider different particle numbers : $N\\in\\{2^7=128, 2^8=256, ..., 2^{15}=32768\\}$. "
   ]
  },
  {
   "cell_type": "code",
   "execution_count": 4,
   "metadata": {},
   "outputs": [
    {
     "name": "stdout",
     "output_type": "stream",
     "text": [
      "[ 7.  8.  9. 10. 11. 12. 13. 14. 15.]\n",
      "[  128   256   512  1024  2048  4096  8192 16384 32768]\n"
     ]
    }
   ],
   "source": [
    "pn=9\n",
    "N_power=np.linspace(7,15,pn) \n",
    "print (N_power)\n",
    "\n",
    "N_vec=2**N_power.astype(int) # Number of particles, from 2^7 to 2^15\n",
    "print (N_vec)"
   ]
  },
  {
   "cell_type": "markdown",
   "metadata": {},
   "source": [
    "First, we compute and save the particle systems at time T=1 with different particle numbers in `N_vec`. For each given particle number, we implement 30 identical and independent simulations."
   ]
  },
  {
   "cell_type": "code",
   "execution_count": 9,
   "metadata": {},
   "outputs": [],
   "source": [
    "# Number of identical and independent simulations \n",
    "\n",
    "NNs=30"
   ]
  },
  {
   "cell_type": "code",
   "execution_count": 5,
   "metadata": {},
   "outputs": [
    {
     "name": "stderr",
     "output_type": "stream",
     "text": [
      "100%|█████████████████████████████████████████████| 9/9 [00:25<00:00,  2.78s/it]\n"
     ]
    }
   ],
   "source": [
    "\n",
    "\n",
    "for i in tqdm(range(pn)):\n",
    "    for nns in range(NNs):\n",
    "        particle_process=np.zeros((N_vec[i],M))\n",
    "        particle_process[:,0]=np.random.normal(m_X0, np.sqrt(1/2), N_vec[i])\n",
    "\n",
    "        for m in range(M-1):\n",
    "            particle_process[:,m+1]=Euler_one_step(particle_process[:,m],N_vec[i])\n",
    "            \n",
    "        np.savetxt(\"particle_num_\"+str(N_vec[i])+\"repeat\"+str(nns)+\".csv\", particle_process[:,-1], delimiter=\",\")\n"
   ]
  },
  {
   "cell_type": "markdown",
   "metadata": {},
   "source": [
    "The following cell defines the true density function of $X_t$, for every $t\\in[0,T]$, which is the density function of the normal distribution $\\mathcal{N}(3,\\frac{1}{2})$."
   ]
  },
  {
   "cell_type": "code",
   "execution_count": 10,
   "metadata": {},
   "outputs": [],
   "source": [
    "# Definition of the true density function \n",
    "\n",
    "def density_true(x_in):\n",
    "    return norm.pdf(x_in,m_X0,np.sqrt(1/2))\n"
   ]
  },
  {
   "cell_type": "markdown",
   "metadata": {},
   "source": [
    "-------------------\n",
    "\n",
    "\n",
    "# 2. Density simulation with Gaussian-based high order Kernel <a class=\"anchor\" id=\"chapter2\"></a> "
   ]
  },
  {
   "cell_type": "markdown",
   "metadata": {},
   "source": [
    "In this section, we simulate the density of $X_t$ with the optimal bandwidth choice defined in Corollary 2.11 of [Hoffmann, M. and Liu, Y (2023)]\n",
    "\n",
    "$$\\eta_{\\text{opt}}=N^{-\\frac{1}{2(l+1)+1}},$$\n",
    "\n",
    "where $N$ is the number of particles and $l$ is the order of the Kernel. The error $\\mathbb{E}\\Big[\\,\\big|\\,\\widehat{\\mu}_T^{N, h, \\eta}(x)-\\mu_T(x)\\,\\big|^2\\Big]$ is approximated by \n",
    "\n",
    "$$\\varepsilon_N=\\frac{1}{30}\\sum_{j=1}^{30}\\max_{x\\in\\mathcal{D}}\\Big|\\;\\big(\\widehat{\\mu}_T^{N, h, \\eta}\\big)_j(x)-\\mu_T(x)\\;\\Big|^{\\,2},$$\n",
    "\n",
    "where $\\big(\\widehat{\\mu}_T^{N, h, \\eta}\\big)_j, \\, 1\\leq j\\leq 30$ are simulated density functions based on the above 30 independent particle systems and the domain $\\mathcal{D}$ is a uniform grid of 1000 points in [0,6]. "
   ]
  },
  {
   "cell_type": "markdown",
   "metadata": {},
   "source": [
    "## 2.1 Definition of Gaussian-based high order kernel <a class=\"anchor\" id=\"section2-1\"></a> \n",
    "\n",
    "\n",
    "\n",
    "The Gaussian-based high order kernels that we use in this notebook are \n",
    "- Order 1 : $\\phi(x)=\\frac{1}{\\sqrt{2\\pi}}\\exp\\big(-\\frac{x^2}{2}\\big)$\n",
    "\n",
    "\n",
    "\n",
    "- Order 3 : $\\frac{1}{2}(3-x^2)\\,\\phi(x)$\n",
    "\n",
    "\n",
    "\n",
    "- Order 5 : $\\frac{1}{8}(15-10x^2+x^4)\\,\\phi(x)$\n",
    "\n",
    "\n",
    "\n",
    "- Order 7 : $\\frac{1}{48}(105-105x^2+21x^4-x^6)\\,\\phi(x)$\n",
    "\n",
    "\n",
    "\n",
    "- Order 9 : $\\frac{1}{384}(945-1260x^2+378x^4-36x^6+x^8)\\,\\phi(x)$\n",
    "\n",
    "\n",
    "which are defined in the following paper (see Table 1):\n",
    "\n",
    "- Wand, Matthew P., and William R. Schucany. \"Gaussian‐based kernels.\" Canadian Journal of Statistics 18, no. 3 (1990): 197-204.\n",
    "\n"
   ]
  },
  {
   "cell_type": "code",
   "execution_count": 11,
   "metadata": {},
   "outputs": [],
   "source": [
    "# Kernel order 1\n",
    "\n",
    "def kernel_O1(x_in):\n",
    "    return np.exp(-0.5*(x_in**2))/np.sqrt(2*np.pi)\n",
    "\n",
    "kernel_O1_fun = lambda x: np.exp(-0.5*(x**2))/np.sqrt(2*np.pi)\n",
    "\n",
    "# Kernel order 3\n",
    "\n",
    "def kernel_O3(x_in):\n",
    "    return 0.5*(3-x_in**2)*np.exp(-0.5*(x_in**2))/np.sqrt(2*np.pi)\n",
    "\n",
    "kernel_O3_fun = lambda x: 0.5*(3-x**2)*np.exp(-0.5*(x**2))/np.sqrt(2*np.pi)\n",
    "\n",
    "# Kernel order 5\n",
    "\n",
    "def kernel_O5(x_in):\n",
    "    return (15-10*x_in**2+x_in**4)*np.exp(-0.5*(x_in**2))/np.sqrt(2*np.pi)/8\n",
    "\n",
    "kernel_O5_fun = lambda x: (15-10*x**2+x**4)*np.exp(-0.5*(x**2))/np.sqrt(2*np.pi)/8\n",
    "\n",
    "# Kernel order 7\n",
    "\n",
    "def kernel_O7(x_in):\n",
    "    return (105-105*x_in**2+21*x_in**4-x_in**6)*np.exp(-0.5*(x_in**2))/np.sqrt(2*np.pi)/48\n",
    "\n",
    "kernel_O7_fun = lambda x: (105-105*x**2+21*x**4-x**6)*np.exp(-0.5*(x**2))/np.sqrt(2*np.pi)/48\n",
    "\n",
    "# Kernel order 9\n",
    "\n",
    "def kernel_O9(x_in):\n",
    "    return (945-1260*x_in**2+378*x_in**4-36*x_in**6+x_in**8)*np.exp(-0.5*(x_in**2))/np.sqrt(2*np.pi)/384\n",
    "\n",
    "kernel_O9_fun = lambda x: (945-1260*x**2+378*x**4-36*x**6+x**8)*np.exp(-0.5*(x**2))/np.sqrt(2*np.pi)/384\n"
   ]
  },
  {
   "cell_type": "code",
   "execution_count": 12,
   "metadata": {},
   "outputs": [
    {
     "data": {
      "image/png": "[encoded data removed]",
      "text/plain": [
       "<Figure size 720x576 with 6 Axes>"
      ]
     },
     "metadata": {},
     "output_type": "display_data"
    }
   ],
   "source": [
    "test_xx=np.linspace(-5,5,1000)\n",
    "Kernel_O1_plot=kernel_O1_fun(test_xx)\n",
    "Kernel_O3_plot=kernel_O3_fun(test_xx)\n",
    "Kernel_O5_plot=kernel_O5_fun(test_xx)\n",
    "Kernel_O7_plot=kernel_O7_fun(test_xx)\n",
    "Kernel_O9_plot=kernel_O9_fun(test_xx)\n",
    "\n",
    "\n",
    "fig, axs = plt.subplots(3, 2, figsize=(10,8))\n",
    "axs[0, 0].plot(test_xx, Kernel_O1_plot)\n",
    "axs[0, 0].set_title('Kernel order 1')\n",
    "axs[0, 1].plot(test_xx, Kernel_O3_plot)\n",
    "axs[0, 1].set_title('Kernel order 3')\n",
    "axs[1, 0].plot(test_xx, Kernel_O5_plot, 'tab:orange')\n",
    "axs[1, 0].set_title('Kernel order 5')\n",
    "axs[1, 1].plot(test_xx, Kernel_O7_plot, 'tab:green')\n",
    "axs[1, 1].set_title('Kernel order 7')\n",
    "axs[2, 0].plot(test_xx, Kernel_O9_plot, 'tab:red')\n",
    "axs[2, 0].set_title('Kernel order 9')\n",
    "axs[2, 1].axis('off')\n",
    "fig.tight_layout()"
   ]
  },
  {
   "cell_type": "markdown",
   "metadata": {},
   "source": [
    "## 2.2 Gaussian Kernel ( Kernel Order = 1 ) <a class=\"anchor\" id=\"section2-2\"></a> \n"
   ]
  },
  {
   "cell_type": "code",
   "execution_count": 13,
   "metadata": {},
   "outputs": [
    {
     "name": "stderr",
     "output_type": "stream",
     "text": [
      " 11%|█         | 1/9 [00:01<00:14,  1.81s/it]"
     ]
    },
    {
     "name": "stdout",
     "output_type": "stream",
     "text": [
      "i= 0 ; the number of particle is 128 ; The optimal bandwidth is 0.3789291416275995 .\n",
      "0 the error is : 0.007727871245047099\n"
     ]
    },
    {
     "name": "stderr",
     "output_type": "stream",
     "text": [
      "\r",
      " 22%|██▏       | 2/9 [00:03<00:12,  1.80s/it]"
     ]
    },
    {
     "name": "stdout",
     "output_type": "stream",
     "text": [
      "i= 1 ; the number of particle is 256 ; The optimal bandwidth is 0.32987697769322355 .\n",
      "1 the error is : 0.004875537042303702\n"
     ]
    },
    {
     "name": "stderr",
     "output_type": "stream",
     "text": [
      "\r",
      " 33%|███▎      | 3/9 [00:05<00:11,  1.84s/it]"
     ]
    },
    {
     "name": "stdout",
     "output_type": "stream",
     "text": [
      "i= 2 ; the number of particle is 512 ; The optimal bandwidth is 0.2871745887492587 .\n",
      "2 the error is : 0.0037641424095114268\n"
     ]
    },
    {
     "name": "stderr",
     "output_type": "stream",
     "text": [
      "\r",
      " 44%|████▍     | 4/9 [00:07<00:09,  1.87s/it]"
     ]
    },
    {
     "name": "stdout",
     "output_type": "stream",
     "text": [
      "i= 3 ; the number of particle is 1024 ; The optimal bandwidth is 0.24999999999999997 .\n",
      "3 the error is : 0.0017576497470290938\n"
     ]
    },
    {
     "name": "stderr",
     "output_type": "stream",
     "text": [
      "\r",
      " 56%|█████▌    | 5/9 [00:09<00:07,  1.94s/it]"
     ]
    },
    {
     "name": "stdout",
     "output_type": "stream",
     "text": [
      "i= 4 ; the number of particle is 2048 ; The optimal bandwidth is 0.217637640824031 .\n",
      "4 the error is : 0.0013028398248083502\n"
     ]
    },
    {
     "name": "stderr",
     "output_type": "stream",
     "text": [
      "\r",
      " 67%|██████▋   | 6/9 [00:11<00:06,  2.10s/it]"
     ]
    },
    {
     "name": "stdout",
     "output_type": "stream",
     "text": [
      "i= 5 ; the number of particle is 4096 ; The optimal bandwidth is 0.18946457081379975 .\n",
      "5 the error is : 0.0009298815737459292\n"
     ]
    },
    {
     "name": "stderr",
     "output_type": "stream",
     "text": [
      "\r",
      " 78%|███████▊  | 7/9 [00:14<00:04,  2.41s/it]"
     ]
    },
    {
     "name": "stdout",
     "output_type": "stream",
     "text": [
      "i= 6 ; the number of particle is 8192 ; The optimal bandwidth is 0.16493848884661177 .\n",
      "6 the error is : 0.0005485441748598085\n"
     ]
    },
    {
     "name": "stderr",
     "output_type": "stream",
     "text": [
      "\r",
      " 89%|████████▉ | 8/9 [00:19<00:03,  3.08s/it]"
     ]
    },
    {
     "name": "stdout",
     "output_type": "stream",
     "text": [
      "i= 7 ; the number of particle is 16384 ; The optimal bandwidth is 0.14358729437462936 .\n",
      "7 the error is : 0.0004132562140446383\n"
     ]
    },
    {
     "name": "stderr",
     "output_type": "stream",
     "text": [
      "100%|██████████| 9/9 [00:26<00:00,  2.99s/it]"
     ]
    },
    {
     "name": "stdout",
     "output_type": "stream",
     "text": [
      "i= 8 ; the number of particle is 32768 ; The optimal bandwidth is 0.12499999999999999 .\n",
      "8 the error is : 0.00022798859094508612\n"
     ]
    },
    {
     "name": "stderr",
     "output_type": "stream",
     "text": [
      "\n"
     ]
    }
   ],
   "source": [
    "\n",
    "error_N_Gaussian_kernel=[] \n",
    "\n",
    "l_regularity_plus_one=2 # l=1 then l+1=2\n",
    "\n",
    "for i in tqdm(range(pn)):\n",
    "    error=np.zeros(NNs)\n",
    "    for nns in range(NNs):\n",
    "\n",
    "        density_particle= np.array(pd.read_csv(\"particle_num_\"+str(N_vec[i])+\"repeat\"+str(nns)+\".csv\", sep=',',header=None))\n",
    "        \n",
    "        Error_simu_number=1000\n",
    "        \n",
    "        X_simu = np.linspace(0, 6, Error_simu_number)[:, np.newaxis]\n",
    "        \n",
    "        Error_simu_vec=np.zeros(Error_simu_number)\n",
    "        error_vec=np.zeros(Error_simu_number)\n",
    "        \n",
    "        eta_opt = (N_vec[i])**(-1./(2*l_regularity_plus_one+1))\n",
    "        \n",
    "        for j in range(Error_simu_number):\n",
    "            Error_simu_vec[j]=kernel_O1_fun((X_simu[j]-density_particle)/eta_opt).sum()/(N_vec[i]*eta_opt) # O2!  \n",
    "            error_vec[j]=np.abs(Error_simu_vec[j] - density_true(X_simu[j]))\n",
    "\n",
    "        error_one=error_vec.max()**2\n",
    "        error[nns]=error_one\n",
    "        \n",
    "    print (\"i=\",i,\";\", \"the number of particle is\", N_vec[i],\";\", \"The optimal bandwidth is\",eta_opt, \".\")\n",
    "    print (i,\"the error is :\", error.mean())\n",
    "    \n",
    "    error_N_Gaussian_kernel.append(error.mean()) # Name of the error vector !\n",
    "\n",
    "    np.savetxt(\"error_\"+str(i)+\"_op_Gaussian_kernel.csv\", error_N_Gaussian_kernel, delimiter=\",\") # Name of the error vector !\n",
    "\n"
   ]
  },
  {
   "cell_type": "markdown",
   "metadata": {},
   "source": [
    "---------------------------------------\n",
    "\n",
    "The next cell shows the log-log error curve of the density simulation with the Gaussian kernel. "
   ]
  },
  {
   "cell_type": "code",
   "execution_count": 14,
   "metadata": {},
   "outputs": [
    {
     "data": {
      "text/plain": [
       "[<matplotlib.lines.Line2D at 0x7fc220179e80>]"
      ]
     },
     "execution_count": 14,
     "metadata": {},
     "output_type": "execute_result"
    },
    {
     "data": {
      "image/png": "[encoded data removed]",
      "text/plain": [
       "<Figure size 576x432 with 1 Axes>"
      ]
     },
     "metadata": {},
     "output_type": "display_data"
    }
   ],
   "source": [
    "plt.figure(figsize=(8,6))\n",
    "plt.plot(np.log2(N_vec),np.log2(error_N_Gaussian_kernel),\"r\")"
   ]
  },
  {
   "cell_type": "markdown",
   "metadata": {},
   "source": [
    "The least-square estimate of the slope of the above curve is the following. "
   ]
  },
  {
   "cell_type": "code",
   "execution_count": 15,
   "metadata": {},
   "outputs": [
    {
     "name": "stdout",
     "output_type": "stream",
     "text": [
      "The estimate of the slope is [-0.624822]\n",
      "The estimate of the intercept is -2.6522754794411316\n"
     ]
    }
   ],
   "source": [
    "X=np.log2(N_vec).reshape(-1,1)\n",
    "y=np.log2(error_N_Gaussian_kernel)\n",
    "reg_Gaussian = LinearRegression().fit(X, y)\n",
    "print (\"The estimate of the slope is\", reg_Gaussian.coef_)\n",
    "print (\"The estimate of the intercept is\", reg_Gaussian.intercept_)\n"
   ]
  },
  {
   "cell_type": "markdown",
   "metadata": {},
   "source": [
    "## 2.3 Kernel order = 3 <a class=\"anchor\" id=\"section2-3\"></a> "
   ]
  },
  {
   "cell_type": "code",
   "execution_count": 16,
   "metadata": {},
   "outputs": [
    {
     "name": "stderr",
     "output_type": "stream",
     "text": [
      " 11%|█         | 1/9 [00:01<00:14,  1.84s/it]"
     ]
    },
    {
     "name": "stdout",
     "output_type": "stream",
     "text": [
      "i= 0 ; the number of particle is 128 ; The optimal bandwidth is 0.5832645197880583 .\n",
      "0 the error is : 0.0056471568934293405\n"
     ]
    },
    {
     "name": "stderr",
     "output_type": "stream",
     "text": [
      "\r",
      " 22%|██▏       | 2/9 [00:03<00:13,  1.86s/it]"
     ]
    },
    {
     "name": "stdout",
     "output_type": "stream",
     "text": [
      "i= 1 ; the number of particle is 256 ; The optimal bandwidth is 0.540029869446153 .\n",
      "1 the error is : 0.003319533503093029\n"
     ]
    },
    {
     "name": "stderr",
     "output_type": "stream",
     "text": [
      "\r",
      " 33%|███▎      | 3/9 [00:05<00:11,  1.88s/it]"
     ]
    },
    {
     "name": "stdout",
     "output_type": "stream",
     "text": [
      "i= 2 ; the number of particle is 512 ; The optimal bandwidth is 0.5 .\n",
      "2 the error is : 0.002600024729804308\n"
     ]
    },
    {
     "name": "stderr",
     "output_type": "stream",
     "text": [
      "\r",
      " 44%|████▍     | 4/9 [00:07<00:09,  1.92s/it]"
     ]
    },
    {
     "name": "stdout",
     "output_type": "stream",
     "text": [
      "i= 3 ; the number of particle is 1024 ; The optimal bandwidth is 0.46293735614364523 .\n",
      "3 the error is : 0.0010074943823206598\n"
     ]
    },
    {
     "name": "stderr",
     "output_type": "stream",
     "text": [
      "\r",
      " 56%|█████▌    | 5/9 [00:09<00:08,  2.03s/it]"
     ]
    },
    {
     "name": "stdout",
     "output_type": "stream",
     "text": [
      "i= 4 ; the number of particle is 2048 ; The optimal bandwidth is 0.42862199142653645 .\n",
      "4 the error is : 0.0007406506493796016\n"
     ]
    },
    {
     "name": "stderr",
     "output_type": "stream",
     "text": [
      "\r",
      " 67%|██████▋   | 6/9 [00:12<00:06,  2.23s/it]"
     ]
    },
    {
     "name": "stdout",
     "output_type": "stream",
     "text": [
      "i= 5 ; the number of particle is 4096 ; The optimal bandwidth is 0.3968502629920499 .\n",
      "5 the error is : 0.000489246922009435\n"
     ]
    },
    {
     "name": "stderr",
     "output_type": "stream",
     "text": [
      "\r",
      " 78%|███████▊  | 7/9 [00:15<00:05,  2.64s/it]"
     ]
    },
    {
     "name": "stdout",
     "output_type": "stream",
     "text": [
      "i= 6 ; the number of particle is 8192 ; The optimal bandwidth is 0.3674336230688997 .\n",
      "6 the error is : 0.0002705490796151823\n"
     ]
    },
    {
     "name": "stderr",
     "output_type": "stream",
     "text": [
      "\r",
      " 89%|████████▉ | 8/9 [00:20<00:03,  3.39s/it]"
     ]
    },
    {
     "name": "stdout",
     "output_type": "stream",
     "text": [
      "i= 7 ; the number of particle is 16384 ; The optimal bandwidth is 0.3401975000435943 .\n",
      "7 the error is : 0.00019988275636077457\n"
     ]
    },
    {
     "name": "stderr",
     "output_type": "stream",
     "text": [
      "100%|██████████| 9/9 [00:29<00:00,  3.23s/it]"
     ]
    },
    {
     "name": "stdout",
     "output_type": "stream",
     "text": [
      "i= 8 ; the number of particle is 32768 ; The optimal bandwidth is 0.3149802624737183 .\n",
      "8 the error is : 0.00011196206288253559\n"
     ]
    },
    {
     "name": "stderr",
     "output_type": "stream",
     "text": [
      "\n"
     ]
    }
   ],
   "source": [
    "error_N_O3_kernel=[] \n",
    "\n",
    "l_regularity_plus_one=4  # l=1 then l+1=2\n",
    "\n",
    "for i in tqdm(range(pn)):\n",
    "    error=np.zeros(NNs)\n",
    "    for nns in range(NNs):\n",
    "\n",
    "        density_particle= np.array(pd.read_csv(\"particle_num_\"+str(N_vec[i])+\"repeat\"+str(nns)+\".csv\", sep=',',header=None))\n",
    "        \n",
    "        Error_simu_number=1000\n",
    "        \n",
    "        X_simu = np.linspace(0, 6, Error_simu_number)[:, np.newaxis]\n",
    "        \n",
    "        Error_simu_vec=np.zeros(Error_simu_number)\n",
    "        error_vec=np.zeros(Error_simu_number)\n",
    "        \n",
    "        eta_opt = (N_vec[i])**(-1./(2*l_regularity_plus_one+1))\n",
    "        \n",
    "        for j in range(Error_simu_number):\n",
    "            Error_simu_vec[j]=kernel_O3_fun((X_simu[j]-density_particle)/eta_opt).sum()/(N_vec[i]*eta_opt) \n",
    "            error_vec[j]=np.abs(Error_simu_vec[j] - density_true(X_simu[j]))\n",
    "\n",
    "        error_one=error_vec.max()**2\n",
    "        error[nns]=error_one\n",
    "        \n",
    "    print (\"i=\",i,\";\", \"the number of particle is\", N_vec[i],\";\", \"The optimal bandwidth is\",eta_opt, \".\")\n",
    "    print (i,\"the error is :\", error.mean())\n",
    "    \n",
    "    error_N_O3_kernel.append(error.mean()) \n",
    "\n",
    "    np.savetxt(\"error_\"+str(i)+\"_op_Order_3_kernel.csv\", error_N_O3_kernel, delimiter=\",\") \n",
    "\n"
   ]
  },
  {
   "cell_type": "markdown",
   "metadata": {},
   "source": [
    "---------------------------------------\n",
    "\n",
    "The next cell shows the log-log error curve of the density simulation with the Gaussian high order kernel of order 3. "
   ]
  },
  {
   "cell_type": "code",
   "execution_count": 17,
   "metadata": {},
   "outputs": [
    {
     "data": {
      "text/plain": [
       "[<matplotlib.lines.Line2D at 0x7fc22115df60>]"
      ]
     },
     "execution_count": 17,
     "metadata": {},
     "output_type": "execute_result"
    },
    {
     "data": {
      "image/png": "[encoded data removed]",
      "text/plain": [
       "<Figure size 576x432 with 1 Axes>"
      ]
     },
     "metadata": {},
     "output_type": "display_data"
    }
   ],
   "source": [
    "plt.figure(figsize=(8,6))\n",
    "\n",
    "plt.plot(np.log2(N_vec),np.log2(error_N_O3_kernel),\"r\")\n"
   ]
  },
  {
   "cell_type": "markdown",
   "metadata": {},
   "source": [
    "The least-square estimate of the slope of the above curve is the following. "
   ]
  },
  {
   "cell_type": "code",
   "execution_count": 18,
   "metadata": {},
   "outputs": [
    {
     "name": "stdout",
     "output_type": "stream",
     "text": [
      "The estimate of the slope is [-0.70597164]\n",
      "The estimate of the intercept is -2.5572548818834804\n"
     ]
    }
   ],
   "source": [
    "X=np.log2(N_vec).reshape(-1,1)\n",
    "y=np.log2(error_N_O3_kernel)\n",
    "reg_Kernal_O3 = LinearRegression().fit(X, y)\n",
    "print (\"The estimate of the slope is\", reg_Kernal_O3.coef_)\n",
    "print (\"The estimate of the intercept is\", reg_Kernal_O3.intercept_)\n"
   ]
  },
  {
   "cell_type": "markdown",
   "metadata": {},
   "source": [
    "## 2.4 Kernel order = 5 <a class=\"anchor\" id=\"section2-4\"></a> "
   ]
  },
  {
   "cell_type": "code",
   "execution_count": 19,
   "metadata": {},
   "outputs": [
    {
     "name": "stderr",
     "output_type": "stream",
     "text": [
      " 11%|█         | 1/9 [00:02<00:16,  2.03s/it]"
     ]
    },
    {
     "name": "stdout",
     "output_type": "stream",
     "text": [
      "i= 0 ; the number of particle is 128 ; The optimal bandwidth is 0.6885047255971347 .\n",
      "0 the error is : 0.005775063854677465\n"
     ]
    },
    {
     "name": "stderr",
     "output_type": "stream",
     "text": [
      "\r",
      " 22%|██▏       | 2/9 [00:04<00:14,  2.07s/it]"
     ]
    },
    {
     "name": "stdout",
     "output_type": "stream",
     "text": [
      "i= 1 ; the number of particle is 256 ; The optimal bandwidth is 0.6527558488549048 .\n",
      "1 the error is : 0.002979780041517715\n"
     ]
    },
    {
     "name": "stderr",
     "output_type": "stream",
     "text": [
      "\r",
      " 33%|███▎      | 3/9 [00:06<00:13,  2.20s/it]"
     ]
    },
    {
     "name": "stdout",
     "output_type": "stream",
     "text": [
      "i= 2 ; the number of particle is 512 ; The optimal bandwidth is 0.618863142652714 .\n",
      "2 the error is : 0.002384021475246509\n"
     ]
    },
    {
     "name": "stderr",
     "output_type": "stream",
     "text": [
      "\r",
      " 44%|████▍     | 4/9 [00:09<00:12,  2.41s/it]"
     ]
    },
    {
     "name": "stdout",
     "output_type": "stream",
     "text": [
      "i= 3 ; the number of particle is 1024 ; The optimal bandwidth is 0.5867302300023132 .\n",
      "3 the error is : 0.000886788081340462\n"
     ]
    },
    {
     "name": "stderr",
     "output_type": "stream",
     "text": [
      "\r",
      " 56%|█████▌    | 5/9 [00:12<00:11,  2.81s/it]"
     ]
    },
    {
     "name": "stdout",
     "output_type": "stream",
     "text": [
      "i= 4 ; the number of particle is 2048 ; The optimal bandwidth is 0.5562657380482434 .\n",
      "4 the error is : 0.0006211192883202577\n"
     ]
    },
    {
     "name": "stderr",
     "output_type": "stream",
     "text": [
      "\r",
      " 67%|██████▋   | 6/9 [00:17<00:10,  3.57s/it]"
     ]
    },
    {
     "name": "stdout",
     "output_type": "stream",
     "text": [
      "i= 5 ; the number of particle is 4096 ; The optimal bandwidth is 0.5273830382408233 .\n",
      "5 the error is : 0.00038436804772724057\n"
     ]
    },
    {
     "name": "stderr",
     "output_type": "stream",
     "text": [
      "\r",
      " 78%|███████▊  | 7/9 [00:25<00:10,  5.09s/it]"
     ]
    },
    {
     "name": "stdout",
     "output_type": "stream",
     "text": [
      "i= 6 ; the number of particle is 8192 ; The optimal bandwidth is 0.5 .\n",
      "6 the error is : 0.0002008003963886442\n"
     ]
    },
    {
     "name": "stderr",
     "output_type": "stream",
     "text": [
      "\r",
      " 89%|████████▉ | 8/9 [00:40<00:08,  8.05s/it]"
     ]
    },
    {
     "name": "stdout",
     "output_type": "stream",
     "text": [
      "i= 7 ; the number of particle is 16384 ; The optimal bandwidth is 0.4740387571695857 .\n",
      "7 the error is : 0.00014669179154611873\n"
     ]
    },
    {
     "name": "stderr",
     "output_type": "stream",
     "text": [
      "100%|██████████| 9/9 [01:07<00:00,  7.48s/it]"
     ]
    },
    {
     "name": "stdout",
     "output_type": "stream",
     "text": [
      "i= 8 ; the number of particle is 32768 ; The optimal bandwidth is 0.44942548659777093 .\n",
      "8 the error is : 8.723141819938772e-05\n"
     ]
    },
    {
     "name": "stderr",
     "output_type": "stream",
     "text": [
      "\n"
     ]
    }
   ],
   "source": [
    "\n",
    "error_N_O5_kernel=[] \n",
    "\n",
    "l_regularity_plus_one=6 \n",
    "\n",
    "for i in tqdm(range(pn)):\n",
    "    error=np.zeros(NNs)\n",
    "    for nns in range(NNs):\n",
    "\n",
    "        density_particle= np.array(pd.read_csv(\"particle_num_\"+str(N_vec[i])+\"repeat\"+str(nns)+\".csv\", sep=',',header=None))\n",
    "        \n",
    "        Error_simu_number=1000\n",
    "        \n",
    "        X_simu = np.linspace(0, 6, Error_simu_number)[:, np.newaxis]\n",
    "        \n",
    "        Error_simu_vec=np.zeros(Error_simu_number)\n",
    "        error_vec=np.zeros(Error_simu_number)\n",
    "        \n",
    "        eta_opt = (N_vec[i])**(-1./(2*l_regularity_plus_one+1))\n",
    "        \n",
    "        for j in range(Error_simu_number):\n",
    "            Error_simu_vec[j]=kernel_O5_fun((X_simu[j]-density_particle)/eta_opt).sum()/(N_vec[i]*eta_opt) \n",
    "            error_vec[j]=np.abs(Error_simu_vec[j] - density_true(X_simu[j]))\n",
    "\n",
    "        error_one=error_vec.max()**2\n",
    "        error[nns]=error_one\n",
    "        \n",
    "    print (\"i=\",i,\";\", \"the number of particle is\", N_vec[i],\";\", \"The optimal bandwidth is\",eta_opt, \".\")\n",
    "    print (i,\"the error is :\", error.mean())\n",
    "    \n",
    "    error_N_O5_kernel.append(error.mean()) \n",
    "\n",
    "    np.savetxt(\"error_\"+str(i)+\"_op_Order_5_kernel.csv\", error_N_O5_kernel, delimiter=\",\") \n",
    "\n"
   ]
  },
  {
   "cell_type": "markdown",
   "metadata": {},
   "source": [
    "---------------------------------------\n",
    "\n",
    "The next cell shows the log-log error curve of the density simulation with the Gaussian high order kernel of order 5. "
   ]
  },
  {
   "cell_type": "code",
   "execution_count": 20,
   "metadata": {},
   "outputs": [
    {
     "data": {
      "text/plain": [
       "[<matplotlib.lines.Line2D at 0x7fc22122b080>]"
      ]
     },
     "execution_count": 20,
     "metadata": {},
     "output_type": "execute_result"
    },
    {
     "data": {
      "image/png": "[encoded data removed]",
      "text/plain": [
       "<Figure size 576x432 with 1 Axes>"
      ]
     },
     "metadata": {},
     "output_type": "display_data"
    }
   ],
   "source": [
    "plt.figure(figsize=(8,6))\n",
    "\n",
    "plt.plot(np.log2(N_vec),np.log2(error_N_O5_kernel),\"r\")\n"
   ]
  },
  {
   "cell_type": "markdown",
   "metadata": {},
   "source": [
    "The least-square estimate of the slope of the above curve is the following."
   ]
  },
  {
   "cell_type": "code",
   "execution_count": 21,
   "metadata": {},
   "outputs": [
    {
     "name": "stdout",
     "output_type": "stream",
     "text": [
      "The estimate of the slope is [-0.75956076]\n",
      "The estimate of the intercept is -2.2201392816073735\n"
     ]
    }
   ],
   "source": [
    "X=np.log2(N_vec).reshape(-1,1)\n",
    "y=np.log2(error_N_O5_kernel)\n",
    "reg_Kernal_O5 = LinearRegression().fit(X, y)\n",
    "\n",
    "print (\"The estimate of the slope is\", reg_Kernal_O5.coef_)\n",
    "print (\"The estimate of the intercept is\", reg_Kernal_O5.intercept_)\n"
   ]
  },
  {
   "cell_type": "markdown",
   "metadata": {},
   "source": [
    "## 2.5 Kernel order = 7 <a class=\"anchor\" id=\"section2-5\"></a> "
   ]
  },
  {
   "cell_type": "code",
   "execution_count": 22,
   "metadata": {},
   "outputs": [
    {
     "name": "stderr",
     "output_type": "stream",
     "text": [
      " 11%|█         | 1/9 [00:02<00:17,  2.21s/it]"
     ]
    },
    {
     "name": "stdout",
     "output_type": "stream",
     "text": [
      "i= 0 ; the number of particle is 128 ; The optimal bandwidth is 0.7517033269280274 .\n",
      "0 the error is : 0.0063221259406564595\n"
     ]
    },
    {
     "name": "stderr",
     "output_type": "stream",
     "text": [
      "\r",
      " 22%|██▏       | 2/9 [00:04<00:16,  2.29s/it]"
     ]
    },
    {
     "name": "stdout",
     "output_type": "stream",
     "text": [
      "i= 1 ; the number of particle is 256 ; The optimal bandwidth is 0.7216702885149783 .\n",
      "1 the error is : 0.0029841627404436515\n"
     ]
    },
    {
     "name": "stderr",
     "output_type": "stream",
     "text": [
      "\r",
      " 33%|███▎      | 3/9 [00:07<00:14,  2.48s/it]"
     ]
    },
    {
     "name": "stdout",
     "output_type": "stream",
     "text": [
      "i= 2 ; the number of particle is 512 ; The optimal bandwidth is 0.6928371694903476 .\n",
      "2 the error is : 0.0023539798400148953\n"
     ]
    },
    {
     "name": "stderr",
     "output_type": "stream",
     "text": [
      "\r",
      " 44%|████▍     | 4/9 [00:10<00:14,  2.84s/it]"
     ]
    },
    {
     "name": "stdout",
     "output_type": "stream",
     "text": [
      "i= 3 ; the number of particle is 1024 ; The optimal bandwidth is 0.665156029099061 .\n",
      "3 the error is : 0.0008849877564477524\n"
     ]
    },
    {
     "name": "stderr",
     "output_type": "stream",
     "text": [
      "\r",
      " 56%|█████▌    | 5/9 [00:15<00:14,  3.53s/it]"
     ]
    },
    {
     "name": "stdout",
     "output_type": "stream",
     "text": [
      "i= 4 ; the number of particle is 2048 ; The optimal bandwidth is 0.638580841978044 .\n",
      "4 the error is : 0.0005852588031082692\n"
     ]
    },
    {
     "name": "stderr",
     "output_type": "stream",
     "text": [
      "\r",
      " 67%|██████▋   | 6/9 [00:22<00:14,  4.89s/it]"
     ]
    },
    {
     "name": "stdout",
     "output_type": "stream",
     "text": [
      "i= 5 ; the number of particle is 4096 ; The optimal bandwidth is 0.6130674216299654 .\n",
      "5 the error is : 0.00033797704714981557\n"
     ]
    },
    {
     "name": "stderr",
     "output_type": "stream",
     "text": [
      "\r",
      " 78%|███████▊  | 7/9 [00:35<00:15,  7.56s/it]"
     ]
    },
    {
     "name": "stdout",
     "output_type": "stream",
     "text": [
      "i= 6 ; the number of particle is 8192 ; The optimal bandwidth is 0.5885733469544588 .\n",
      "6 the error is : 0.00017089256753697213\n"
     ]
    },
    {
     "name": "stderr",
     "output_type": "stream",
     "text": [
      "\r",
      " 89%|████████▉ | 8/9 [00:59<00:12, 12.77s/it]"
     ]
    },
    {
     "name": "stdout",
     "output_type": "stream",
     "text": [
      "i= 7 ; the number of particle is 16384 ; The optimal bandwidth is 0.5650578917146649 .\n",
      "7 the error is : 0.00012375116230396054\n"
     ]
    },
    {
     "name": "stderr",
     "output_type": "stream",
     "text": [
      "100%|██████████| 9/9 [01:45<00:00, 11.73s/it]"
     ]
    },
    {
     "name": "stdout",
     "output_type": "stream",
     "text": [
      "i= 8 ; the number of particle is 32768 ; The optimal bandwidth is 0.5424819568218185 .\n",
      "8 the error is : 7.238116623190018e-05\n"
     ]
    },
    {
     "name": "stderr",
     "output_type": "stream",
     "text": [
      "\n"
     ]
    }
   ],
   "source": [
    "error_N_O7_kernel=[] \n",
    "\n",
    "l_regularity_plus_one=8 \n",
    "\n",
    "for i in tqdm(range(pn)):\n",
    "    error=np.zeros(NNs)\n",
    "    for nns in range(NNs):\n",
    "\n",
    "        density_particle= np.array(pd.read_csv(\"particle_num_\"+str(N_vec[i])+\"repeat\"+str(nns)+\".csv\", sep=',',header=None))\n",
    "        \n",
    "        Error_simu_number=1000\n",
    "        \n",
    "        X_simu = np.linspace(0, 6, Error_simu_number)[:, np.newaxis]\n",
    "        \n",
    "        Error_simu_vec=np.zeros(Error_simu_number)\n",
    "        error_vec=np.zeros(Error_simu_number)\n",
    "        \n",
    "        eta_opt = (N_vec[i])**(-1./(2*l_regularity_plus_one+1))\n",
    "        \n",
    "        for j in range(Error_simu_number):\n",
    "            Error_simu_vec[j]=kernel_O7_fun((X_simu[j]-density_particle)/eta_opt).sum()/(N_vec[i]*eta_opt)   \n",
    "            error_vec[j]=np.abs(Error_simu_vec[j] - density_true(X_simu[j]))\n",
    "\n",
    "        error_one=error_vec.max()**2\n",
    "        error[nns]=error_one\n",
    "        \n",
    "    print (\"i=\",i,\";\", \"the number of particle is\", N_vec[i],\";\", \"The optimal bandwidth is\",eta_opt, \".\")\n",
    "    print (i,\"the error is :\", error.mean())\n",
    "    \n",
    "    error_N_O7_kernel.append(error.mean()) \n",
    "\n",
    "    np.savetxt(\"error_\"+str(i)+\"_op_Order_7_kernel.csv\", error_N_O7_kernel, delimiter=\",\") \n",
    "\n"
   ]
  },
  {
   "cell_type": "markdown",
   "metadata": {},
   "source": [
    "---------------------------------------\n",
    "\n",
    "The next cell shows the log-log error curve of the density simulation with the Gaussian high order kernel of order 7. "
   ]
  },
  {
   "cell_type": "code",
   "execution_count": 23,
   "metadata": {},
   "outputs": [
    {
     "data": {
      "text/plain": [
       "[<matplotlib.lines.Line2D at 0x7fc23039e2b0>]"
      ]
     },
     "execution_count": 23,
     "metadata": {},
     "output_type": "execute_result"
    },
    {
     "data": {
      "image/png": "[encoded data removed]",
      "text/plain": [
       "<Figure size 576x432 with 1 Axes>"
      ]
     },
     "metadata": {},
     "output_type": "display_data"
    }
   ],
   "source": [
    "plt.figure(figsize=(8,6))\n",
    "\n",
    "plt.plot(np.log2(N_vec),np.log2(error_N_O7_kernel),\"r\")"
   ]
  },
  {
   "cell_type": "markdown",
   "metadata": {},
   "source": [
    "The least-square estimate of the slope of the above curve is the following."
   ]
  },
  {
   "cell_type": "code",
   "execution_count": 24,
   "metadata": {},
   "outputs": [
    {
     "name": "stdout",
     "output_type": "stream",
     "text": [
      "The estimate of the slope is [-0.8087776]\n",
      "The estimate of the intercept is -1.7795478872119581\n"
     ]
    }
   ],
   "source": [
    "X=np.log2(N_vec).reshape(-1,1)\n",
    "y=np.log2(error_N_O7_kernel)\n",
    "reg_Kernal_O7 = LinearRegression().fit(X, y)\n",
    "\n",
    "\n",
    "print (\"The estimate of the slope is\", reg_Kernal_O7.coef_)\n",
    "print (\"The estimate of the intercept is\", reg_Kernal_O7.intercept_)\n"
   ]
  },
  {
   "cell_type": "markdown",
   "metadata": {},
   "source": [
    "## 2.6 Kernel order = 9 <a class=\"anchor\" id=\"section2-6\"></a> "
   ]
  },
  {
   "cell_type": "code",
   "execution_count": 25,
   "metadata": {},
   "outputs": [
    {
     "name": "stderr",
     "output_type": "stream",
     "text": [
      " 11%|█         | 1/9 [00:02<00:19,  2.42s/it]"
     ]
    },
    {
     "name": "stdout",
     "output_type": "stream",
     "text": [
      "i= 0 ; the number of particle is 128 ; The optimal bandwidth is 0.7937005259840998 .\n",
      "0 the error is : 0.007101014465096717\n"
     ]
    },
    {
     "name": "stderr",
     "output_type": "stream",
     "text": [
      "\r",
      " 22%|██▏       | 2/9 [00:05<00:17,  2.55s/it]"
     ]
    },
    {
     "name": "stdout",
     "output_type": "stream",
     "text": [
      "i= 1 ; the number of particle is 256 ; The optimal bandwidth is 0.7679304815207443 .\n",
      "1 the error is : 0.0031424243665716177\n"
     ]
    },
    {
     "name": "stderr",
     "output_type": "stream",
     "text": [
      "\r",
      " 33%|███▎      | 3/9 [00:08<00:17,  2.84s/it]"
     ]
    },
    {
     "name": "stdout",
     "output_type": "stream",
     "text": [
      "i= 2 ; the number of particle is 512 ; The optimal bandwidth is 0.7429971445684742 .\n",
      "2 the error is : 0.0024306920789473733\n"
     ]
    },
    {
     "name": "stderr",
     "output_type": "stream",
     "text": [
      "\r",
      " 44%|████▍     | 4/9 [00:12<00:16,  3.37s/it]"
     ]
    },
    {
     "name": "stdout",
     "output_type": "stream",
     "text": [
      "i= 3 ; the number of particle is 1024 ; The optimal bandwidth is 0.7188733487225089 .\n",
      "3 the error is : 0.00092572247724488\n"
     ]
    },
    {
     "name": "stderr",
     "output_type": "stream",
     "text": [
      "\r",
      " 56%|█████▌    | 5/9 [00:18<00:17,  4.42s/it]"
     ]
    },
    {
     "name": "stdout",
     "output_type": "stream",
     "text": [
      "i= 4 ; the number of particle is 2048 ; The optimal bandwidth is 0.6955328096229147 .\n",
      "4 the error is : 0.0005915899646932211\n"
     ]
    },
    {
     "name": "stderr",
     "output_type": "stream",
     "text": [
      "\r",
      " 67%|██████▋   | 6/9 [00:28<00:19,  6.39s/it]"
     ]
    },
    {
     "name": "stdout",
     "output_type": "stream",
     "text": [
      "i= 5 ; the number of particle is 4096 ; The optimal bandwidth is 0.6729500963161781 .\n",
      "5 the error is : 0.0003203818904257152\n"
     ]
    },
    {
     "name": "stderr",
     "output_type": "stream",
     "text": [
      "\r",
      " 78%|███████▊  | 7/9 [00:46<00:20, 10.18s/it]"
     ]
    },
    {
     "name": "stdout",
     "output_type": "stream",
     "text": [
      "i= 6 ; the number of particle is 8192 ; The optimal bandwidth is 0.6511006035466159 .\n",
      "6 the error is : 0.0001598857554922818\n"
     ]
    },
    {
     "name": "stderr",
     "output_type": "stream",
     "text": [
      "\r",
      " 89%|████████▉ | 8/9 [01:20<00:17, 17.49s/it]"
     ]
    },
    {
     "name": "stdout",
     "output_type": "stream",
     "text": [
      "i= 7 ; the number of particle is 16384 ; The optimal bandwidth is 0.6299605249474366 .\n",
      "7 the error is : 0.00011173780622701302\n"
     ]
    },
    {
     "name": "stderr",
     "output_type": "stream",
     "text": [
      "100%|██████████| 9/9 [02:25<00:00, 16.12s/it]"
     ]
    },
    {
     "name": "stdout",
     "output_type": "stream",
     "text": [
      "i= 8 ; the number of particle is 32768 ; The optimal bandwidth is 0.6095068271022377 .\n",
      "8 the error is : 6.28405187288144e-05\n"
     ]
    },
    {
     "name": "stderr",
     "output_type": "stream",
     "text": [
      "\n"
     ]
    }
   ],
   "source": [
    "error_N_O9_kernel=[] \n",
    "\n",
    "l_regularity_plus_one=10 \n",
    "\n",
    "for i in tqdm(range(pn)):\n",
    "    error=np.zeros(NNs)\n",
    "    for nns in range(NNs):\n",
    "\n",
    "        density_particle= np.array(pd.read_csv(\"particle_num_\"+str(N_vec[i])+\"repeat\"+str(nns)+\".csv\", sep=',',header=None))\n",
    "        \n",
    "        Error_simu_number=1000\n",
    "        \n",
    "        X_simu = np.linspace(0, 6, Error_simu_number)[:, np.newaxis]\n",
    "        \n",
    "        Error_simu_vec=np.zeros(Error_simu_number)\n",
    "        error_vec=np.zeros(Error_simu_number)\n",
    "        \n",
    "        eta_opt = (N_vec[i])**(-1./(2*l_regularity_plus_one+1))\n",
    "        \n",
    "        for j in range(Error_simu_number):\n",
    "            Error_simu_vec[j]=kernel_O9_fun((X_simu[j]-density_particle)/eta_opt).sum()/(N_vec[i]*eta_opt) \n",
    "            error_vec[j]=np.abs(Error_simu_vec[j] - density_true(X_simu[j]))\n",
    "\n",
    "        error_one=error_vec.max()**2\n",
    "        error[nns]=error_one\n",
    "        \n",
    "    print (\"i=\",i,\";\", \"the number of particle is\", N_vec[i],\";\", \"The optimal bandwidth is\",eta_opt, \".\")\n",
    "    print (i,\"the error is :\", error.mean())\n",
    "    \n",
    "    error_N_O9_kernel.append(error.mean())\n",
    "\n",
    "    np.savetxt(\"error_\"+str(i)+\"_op_Order_9_kernel.csv\", error_N_O9_kernel, delimiter=\",\") \n",
    "\n"
   ]
  },
  {
   "cell_type": "markdown",
   "metadata": {},
   "source": [
    "---------------------------------------\n",
    "\n",
    "\n",
    "The next cell shows the log-log error curve of the density simulation with the Gaussian high order kernel of order 9. "
   ]
  },
  {
   "cell_type": "code",
   "execution_count": 26,
   "metadata": {},
   "outputs": [
    {
     "data": {
      "text/plain": [
       "[<matplotlib.lines.Line2D at 0x7fc2213d7e10>]"
      ]
     },
     "execution_count": 26,
     "metadata": {},
     "output_type": "execute_result"
    },
    {
     "data": {
      "image/png": "[encoded data removed]",
      "text/plain": [
       "<Figure size 576x432 with 1 Axes>"
      ]
     },
     "metadata": {},
     "output_type": "display_data"
    }
   ],
   "source": [
    "plt.figure(figsize=(8,6))\n",
    "\n",
    "plt.plot(np.log2(N_vec),np.log2(error_N_O9_kernel),\"r\")\n"
   ]
  },
  {
   "cell_type": "markdown",
   "metadata": {},
   "source": [
    "The least-square estimate of the slope of the above curve is the following."
   ]
  },
  {
   "cell_type": "code",
   "execution_count": 27,
   "metadata": {},
   "outputs": [
    {
     "name": "stdout",
     "output_type": "stream",
     "text": [
      "The estimate of the slope is [-0.85175177]\n",
      "The estimate of the intercept is -1.3241151433238674\n"
     ]
    }
   ],
   "source": [
    "X=np.log2(N_vec).reshape(-1,1)\n",
    "y=np.log2(error_N_O9_kernel)\n",
    "reg_Kernal_O9 = LinearRegression().fit(X, y)\n",
    "\n",
    "\n",
    "print (\"The estimate of the slope is\", reg_Kernal_O9.coef_)\n",
    "print (\"The estimate of the intercept is\", reg_Kernal_O9.intercept_)\n"
   ]
  },
  {
   "cell_type": "markdown",
   "metadata": {},
   "source": [
    "## 2.7 Comparison of simulation results with different kernels <a class=\"anchor\" id=\"section2-7\"></a> "
   ]
  },
  {
   "cell_type": "markdown",
   "metadata": {},
   "source": [
    "The next cell shows the log-log error curves of the density simulation with different Gaussian high order kernels for $l=1$ (purple), $l=3$ (blue), $l=5$ (red), $l=7$ (orange), $l=9$ (green). "
   ]
  },
  {
   "cell_type": "code",
   "execution_count": 38,
   "metadata": {},
   "outputs": [
    {
     "data": {
      "image/png": "[encoded data removed]",
      "text/plain": [
       "<Figure size 576x432 with 1 Axes>"
      ]
     },
     "metadata": {},
     "output_type": "display_data"
    }
   ],
   "source": [
    "plt.figure(figsize = (8,6))\n",
    "plt.plot(np.log2(N_vec), np.log2(error_N_Gaussian_kernel),\"purple\") # Order 1\n",
    "plt.plot(np.log2(N_vec), np.log2(error_N_O3_kernel),\"b\") # Order 3\n",
    "plt.plot(np.log2(N_vec), np.log2(error_N_O5_kernel),\"r\") # Order 5\n",
    "plt.plot(np.log2(N_vec), np.log2(error_N_O7_kernel),\"orange\") # Order 7\n",
    "plt.plot(np.log2(N_vec), np.log2(error_N_O9_kernel),\"green\") # Order 9\n",
    "plt.savefig('strong_error1.png')"
   ]
  },
  {
   "cell_type": "markdown",
   "metadata": {},
   "source": [
    "The next cell shows the slopes $a_l$ of the above figure as a function of the kernal order $l$. "
   ]
  },
  {
   "cell_type": "code",
   "execution_count": 71,
   "metadata": {},
   "outputs": [
    {
     "data": {
      "image/png": "[encoded data removed]",
      "text/plain": [
       "<Figure size 576x432 with 1 Axes>"
      ]
     },
     "metadata": {},
     "output_type": "display_data"
    }
   ],
   "source": [
    "slope_vec=np.array([reg_Gaussian.coef_,reg_Kernal_O3.coef_,reg_Kernal_O5.coef_,reg_Kernal_O7.coef_,reg_Kernal_O9.coef_])\n",
    "\n",
    "plt.figure(figsize = (8,6))\n",
    "plt.plot(np.array([1,3,5,7,9]),slope_vec,\"o-\")\n",
    "plt.xticks([1,3,5,7,9])\n",
    "plt.xlabel(\"Order of Gaussian Kernel\", fontsize = 15)\n",
    "plt.ylabel(\"Slope of the log-log error\", fontsize = 15)\n",
    "\n",
    "plt.xticks(fontsize = 15) \n",
    "plt.yticks(fontsize = 15) \n",
    "\n",
    "\n",
    "plt.savefig('strong_error_slope.eps', format='eps')\n",
    "\n"
   ]
  },
  {
   "cell_type": "code",
   "execution_count": null,
   "metadata": {},
   "outputs": [],
   "source": []
  },
  {
   "cell_type": "code",
   "execution_count": 72,
   "metadata": {
    "scrolled": true
   },
   "outputs": [
    {
     "data": {
      "image/png": "[encoded data removed]",
      "text/plain": [
       "<Figure size 576x432 with 1 Axes>"
      ]
     },
     "metadata": {},
     "output_type": "display_data"
    }
   ],
   "source": [
    "plt.figure(figsize = (8,6))\n",
    "plt.plot(np.log2(N_vec), np.log2(error_N_Gaussian_kernel),\"purple\", label=\"Order 1\") # Order 1\n",
    "plt.plot(np.log2(N_vec), np.log2(error_N_O3_kernel),\"b\", label=\"Order 3\") # Order 3\n",
    "plt.plot(np.log2(N_vec), np.log2(error_N_O5_kernel),\"r\", label=\"Order 5\") # Order 5\n",
    "plt.plot(np.log2(N_vec), np.log2(error_N_O7_kernel),\"orange\", label=\"Order 7\") # Order 7\n",
    "plt.plot(np.log2(N_vec), np.log2(error_N_O9_kernel),\"green\", label=\"Order 9\") # Order 9\n",
    "plt.legend(fontsize=12)\n",
    "\n",
    "\n",
    "plt.xlabel(\"$\\log_{2}N$\", fontsize = 15)\n",
    "plt.ylabel(\"$\\log_{2}\\mathcal{E}_N$\", fontsize = 15)\n",
    "\n",
    "plt.xticks(fontsize = 15) \n",
    "plt.yticks(fontsize = 15) \n",
    "\n",
    "plt.savefig('strong_error2.png')\n",
    "\n",
    "plt.savefig('strong_error2.eps', format='eps')\n"
   ]
  },
  {
   "cell_type": "code",
   "execution_count": 73,
   "metadata": {},
   "outputs": [
    {
     "data": {
      "image/png": "[encoded data removed]",
      "text/plain": [
       "<Figure size 576x432 with 1 Axes>"
      ]
     },
     "metadata": {},
     "output_type": "display_data"
    }
   ],
   "source": [
    "plt.figure(figsize = (8,6))\n",
    "plt.plot(np.log2(N_vec), np.log2(error_N_Gaussian_kernel),\"purple\", dashes=[1, 5, 20, 5], label=\"Order 1\") # Order 1\n",
    "plt.plot(np.log2(N_vec), np.log2(error_N_O3_kernel),\"b\", linestyle = 'dashed', label=\"Order 3\") # Order 3\n",
    "plt.plot(np.log2(N_vec), np.log2(error_N_O5_kernel),\"r\",linestyle = 'dashdot',  label=\"Order 5\") # Order 5\n",
    "plt.plot(np.log2(N_vec), np.log2(error_N_O7_kernel),\"orange\",linestyle = 'dotted', label=\"Order 7\") # Order 7\n",
    "plt.plot(np.log2(N_vec), np.log2(error_N_O9_kernel),\"green\", linestyle = 'solid', label=\"Order 9\") # Order 9\n",
    "plt.legend(fontsize=12)\n",
    "\n",
    "\n",
    "plt.xlabel(\"$\\log_{2}N$\", fontsize = 15)\n",
    "plt.ylabel(\"$\\log_{2}\\mathcal{E}_N$\", fontsize = 15)\n",
    "\n",
    "plt.xticks(fontsize = 15) \n",
    "plt.yticks(fontsize = 15) \n",
    "\n",
    "plt.savefig('strong_error3.png')\n",
    "\n",
    "plt.savefig('strong_error3.eps', format='eps')"
   ]
  },
  {
   "cell_type": "code",
   "execution_count": null,
   "metadata": {},
   "outputs": [],
   "source": []
  }
 ],
 "metadata": {
  "kernelspec": {
   "display_name": "Python 3",
   "language": "python",
   "name": "python3"
  },
  "language_info": {
   "codemirror_mode": {
    "name": "ipython",
    "version": 3
   },
   "file_extension": ".py",
   "mimetype": "text/x-python",
   "name": "python",
   "nbconvert_exporter": "python",
   "pygments_lexer": "ipython3",
   "version": "3.7.0"
  }
 },
 "nbformat": 4,
 "nbformat_minor": 4
}
